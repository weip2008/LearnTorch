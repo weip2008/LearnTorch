{
 "cells": [
  {
   "cell_type": "code",
   "execution_count": 1,
   "metadata": {},
   "outputs": [
    {
     "name": "stdout",
     "output_type": "stream",
     "text": [
      "123\n",
      "(5)\n"
     ]
    }
   ],
   "source": [
    "from mytensor import *\n",
    "\n",
    "tensor(123)\n",
    "t = MyTensor(5,2)\n",
    "print(t)"
   ]
  },
  {
   "cell_type": "markdown",
   "metadata": {},
   "source": []
  },
  {
   "cell_type": "code",
   "execution_count": 2,
   "metadata": {},
   "outputs": [
    {
     "data": {
      "text/plain": [
       "tuple"
      ]
     },
     "execution_count": 2,
     "metadata": {},
     "output_type": "execute_result"
    }
   ],
   "source": [
    "a = (1,2) # assign a tuple to a\n",
    "type(a)"
   ]
  },
  {
   "cell_type": "code",
   "execution_count": 3,
   "metadata": {},
   "outputs": [
    {
     "data": {
      "text/plain": [
       "tuple"
      ]
     },
     "execution_count": 3,
     "metadata": {},
     "output_type": "execute_result"
    }
   ],
   "source": [
    "a = 2,3,4,5  # assign a tuple to a\n",
    "type(a)"
   ]
  },
  {
   "cell_type": "code",
   "execution_count": 4,
   "metadata": {},
   "outputs": [
    {
     "data": {
      "text/plain": [
       "tuple"
      ]
     },
     "execution_count": 4,
     "metadata": {},
     "output_type": "execute_result"
    }
   ],
   "source": [
    "a = 5,  # assign a tuple to a\n",
    "type(a)"
   ]
  },
  {
   "cell_type": "code",
   "execution_count": 4,
   "metadata": {},
   "outputs": [
    {
     "name": "stdout",
     "output_type": "stream",
     "text": [
      "1 2\n",
      "3 4\n"
     ]
    }
   ],
   "source": [
    "a = [(1,2),(3,4)] \n",
    "for x,y in a: # list is a iterable\n",
    "    print(x, y)"
   ]
  },
  {
   "cell_type": "code",
   "execution_count": 15,
   "metadata": {},
   "outputs": [
    {
     "name": "stdout",
     "output_type": "stream",
     "text": [
      "1 2\n",
      "3 4\n"
     ]
    }
   ],
   "source": [
    "class NumberIterable:\n",
    "    def __init__(self, limit, n):\n",
    "        self.limit = limit\n",
    "        self.current = -1\n",
    "        self.n = n\n",
    "        \n",
    "    def __iter__(self):\n",
    "        return self\n",
    "\n",
    "    def __next__(self):\n",
    "        if self.current < self.limit:\n",
    "            self.current += 1\n",
    "            return self.n[self.current]\n",
    "        else:\n",
    "            raise StopIteration\n",
    "\n",
    "# Example usage\n",
    "t1 = [(1,2),(3,4)]\n",
    "numbers = NumberIterable(1, t1)\n",
    "for n1,n2 in numbers:\n",
    "    print(n1,n2)"
   ]
  },
  {
   "cell_type": "markdown",
   "metadata": {},
   "source": [
    "variables, functions and classes can be defined in a python module."
   ]
  },
  {
   "cell_type": "code",
   "execution_count": 1,
   "metadata": {},
   "outputs": [],
   "source": [
    "class MyTensor:\n",
    "    number = 1.2\n",
    "    def __init__(self, a,ndim):\n",
    "        self.a = a\n",
    "        self.ndim = ndim\n",
    "\n",
    "    def __repr__(self):\n",
    "       return f'({self.a})'\n",
    "        \n",
    "    def ndimesion(self):\n",
    "        return self.ndim\n",
    "\n",
    "\n",
    "def tensor(a):\n",
    "    print(a)\n",
    "\n",
    "number = 10"
   ]
  },
  {
   "cell_type": "markdown",
   "metadata": {},
   "source": [
    "save the code above to a python file: mytensor.py, all definition can be used by import from this module file, e.g."
   ]
  },
  {
   "cell_type": "code",
   "execution_count": 3,
   "metadata": {},
   "outputs": [
    {
     "name": "stdout",
     "output_type": "stream",
     "text": [
      "1.2, 1.2\n",
      "1, 2\n",
      "6.4\n",
      "111\n",
      "111\n"
     ]
    }
   ],
   "source": [
    "# from mytensor import *\n",
    "\n",
    "t1 = MyTensor(123,1)\n",
    "t2 = MyTensor(456,2)\n",
    "\n",
    "print(t1.number,t2.number,sep=', ') # class level variable shared by all instances\n",
    "print(t1.ndimesion(),t2.ndimesion(),sep=', ') # class level function can be called by object of the class\n",
    "\n",
    "x = tensor(6.4) # module function can be called directly\n",
    "\n",
    "print(number) # mdule variable can be used directly\n",
    "\n",
    "number = 111 # assign a new value\n",
    "print(number)"
   ]
  },
  {
   "cell_type": "markdown",
   "metadata": {},
   "source": [
    "## map\n",
    "\n",
    "map is a function which allow apply function to data stream\n",
    "![](./images/map.png)"
   ]
  },
  {
   "cell_type": "code",
   "execution_count": 8,
   "metadata": {},
   "outputs": [
    {
     "name": "stdout",
     "output_type": "stream",
     "text": [
      "['tac', 'god', '95141.3', 'okceg']\n",
      "1,2,3,4,5\n",
      "<class 'list'>\n",
      "[120, 145, 172, 201, 232]\n"
     ]
    }
   ],
   "source": [
    "\"\"\"\n",
    "r = map(function, sequence)\n",
    "\"\"\"\n",
    "# l = list(map(lambda s: s[::-1], [\"cat\", \"dog\", 3.14159, \"gecko\"]))\n",
    "l = list(map(lambda s: str(s)[::-1], [\"cat\", \"dog\", 3.14159, \"gecko\"]))\n",
    "print(l)\n",
    "\n",
    "s = \",\".join(map(str, [1,2,3,4,5]))\n",
    "print(s)\n",
    "\n",
    "\"\"\"\n",
    "the function for the map can have more than one variables\n",
    "the following code map 2 list to 1 list.\n",
    "\"\"\"\n",
    "l1 = list(range(1,))\n",
    "l2 = list(range(11,16))\n",
    "l = list(map(lambda x,y:x*x+2*y-3, l2, l1))\n",
    "print(type(l))\n",
    "print(l)\n"
   ]
  },
  {
   "cell_type": "code",
   "execution_count": 9,
   "metadata": {},
   "outputs": [
    {
     "name": "stdout",
     "output_type": "stream",
     "text": [
      "09: [('Berlin', 84.2), ('Cairo', 96.8), ('Buenos Aires', 66.2), ('Los Angeles', 78.8), ('Tokyo', 80.6), ('New York', 82.4), ('London', 71.6), ('Beijing', 89.6)]\n",
      "13: <class 'map'>\n",
      "15 ('Berlin', 84.2)\n",
      "16: [('Cairo', 96.8), ('Buenos Aires', 66.2), ('Los Angeles', 78.8), ('Tokyo', 80.6), ('New York', 82.4), ('London', 71.6), ('Beijing', 89.6)]\n",
      "17: ()\n",
      "21: (('Berlin', 84.2), ('Cairo', 96.8), ('Buenos Aires', 66.2), ('Los Angeles', 78.8), ('Tokyo', 80.6), ('New York', 82.4), ('London', 71.6), ('Beijing', 89.6))\n"
     ]
    }
   ],
   "source": [
    "# map lambda function to each city-temperature data\n",
    "temps = [(\"Berlin\", 29),(\"Cairo\", 36),(\"Buenos Aires\", 19),(\"Los Angeles\", 26),(\"Tokyo\", 27),(\"New York\", 28),(\"London\", 22),(\"Beijing\", 32)]\n",
    "\n",
    "list1=[]\n",
    "for data in temps: # convert without map\n",
    "    city = data[0]\n",
    "    temperatur=round(9/5*data[1] + 32, 2) #把摄氏转换成华氏\n",
    "    list1.append((city,temperatur))\n",
    "print(\"09:\",list1)\n",
    "\n",
    "newTemps = map(lambda x: (x[0], round((9 / 5) * x[1] + 32, 2)), temps)\n",
    "\n",
    "print(\"13:\", type(newTemps))\n",
    "y = next(newTemps)  # get first item, map object is iterable, next() remove the current item\n",
    "print(\"15\", y)\n",
    "print(\"16:\", list(newTemps)) # first item has gone\n",
    "print(\"17:\", tuple(newTemps)) # cannot print same map object second time!!! \n",
    "\n",
    "# solution:\n",
    "x = tuple(map(lambda data: (data[0], round((9 / 5) * data[1] + 32, 2)), temps))\n",
    "print(\"21:\",x)"
   ]
  },
  {
   "cell_type": "code",
   "execution_count": 2,
   "metadata": {},
   "outputs": [
    {
     "name": "stdout",
     "output_type": "stream",
     "text": [
      "(36.5, 37, 37.5, 39)\n",
      "(97.7, 98.6, 99.5, 102.2)\n",
      "(36.5, 37.0, 37.5, 39.0)\n"
     ]
    }
   ],
   "source": [
    "def fahrenheit(T):\n",
    "    return round((float(9) / 5) * T + 32, 2)\n",
    "\n",
    "\n",
    "def celsius(T):\n",
    "    return round((float(5) / 9) * (T - 32), 2)\n",
    "\n",
    "\n",
    "if __name__ == \"__main__\":\n",
    "    temp = (36.5, 37, 37.5, 39)\n",
    "    f = tuple(map(fahrenheit, temp))\n",
    "    c = tuple(map(celsius,f))\n",
    "    print(temp)\n",
    "    print(f)\n",
    "    print(c)"
   ]
  },
  {
   "cell_type": "code",
   "execution_count": null,
   "metadata": {},
   "outputs": [],
   "source": [
    "from pprint import pprint\n",
    "\n",
    "class Card:\n",
    "    def __init__(self, face, suit):\n",
    "        self.face = face\n",
    "        self.suit = suit\n",
    "    \n",
    "    def __repr__(self):\n",
    "        return f\"({self.face}, {self.suit})\"\n",
    "\n",
    "faces = [\"A\",\"2\",\"3\",\"4\",\"5\",\"6\",\"7\",\"8\",\"9\",\"10\",\"J\",\"Q\",\"K\"]\n",
    "suits = [\"SPADE\",\"CLUB\",\"DIAMOND\",\"HEART\"]\n",
    "\n",
    "cards = list(map(lambda face, suit: Card(face, suit), faces, suits))\n",
    "pprint(cards) # map need two iterable have same length\n",
    "\n",
    "cards = [Card(face, suit) for face in faces for suit in suits]\n",
    "pprint(cards)\n",
    "cards = [Card(face, suit) for suit in suits for face in faces]\n",
    "pprint(cards)"
   ]
  },
  {
   "cell_type": "markdown",
   "metadata": {},
   "source": [
    "## filter"
   ]
  },
  {
   "cell_type": "code",
   "execution_count": 7,
   "metadata": {},
   "outputs": [
    {
     "name": "stdout",
     "output_type": "stream",
     "text": [
      "11: [2, 4, 6, 8, 10]\n",
      "14: [2, 4, 6, 8, 10]\n",
      "18: [2, 4, 6, 8, 10]\n",
      "19: [2, 4, 6, 8, 10]\n",
      "20: [3, 6, 9]\n",
      "24: [5, 7, 11, 13, 17, 19, 23]\n",
      "[7, 9, 11, 13, 15]\n"
     ]
    }
   ],
   "source": [
    "\"\"\"\n",
    "filter(Function, Squence)\n",
    "\"\"\"\n",
    "def isEven(n):\n",
    "    return n % 2 == 0\n",
    "\n",
    "l = []\n",
    "for i in range(1,11):\n",
    "    if isEven(i):\n",
    "        l.append(i)    \n",
    "print(\"11:\",l)\n",
    "\n",
    "l = [e for e in range(1,11) if e%2==0]\n",
    "print(\"14:\",l)\n",
    "\n",
    "a = range(1, 11)\n",
    "\n",
    "print(\"18:\",list(filter(isEven, a))) # named function\n",
    "print(\"19:\",list(filter(lambda n: n%2==0, a))) #anonymous function\n",
    "print(\"20:\",list(filter(lambda n: n%3==0, a))) #anonymous function\n",
    "\n",
    "def f(x):\n",
    "    return x%2!=0 and x%3!=0\n",
    "\n",
    "print(\"24:\",list(filter(f, range(2,25))))\n",
    "\n",
    "l1 = [1,2,3,4,5]\n",
    "l2 = [6,7,8,9,10]\n",
    "l = list(map(lambda x, y: x+y, l1, l2))\n",
    "\n",
    "l = list(filter(lambda x: x<42, l))\n",
    "print(l)"
   ]
  },
  {
   "cell_type": "code",
   "execution_count": 8,
   "metadata": {},
   "outputs": [
    {
     "name": "stdout",
     "output_type": "stream",
     "text": [
      "[('Berlin', 29), ('Cairo', 36), ('Los Angeles', 26), ('Tokyo', 27), ('New York', 28), ('Beijing', 32)]\n"
     ]
    }
   ],
   "source": [
    "temps = [(\"Berlin\", 29),(\"Cairo\", 36),(\"Buenos Aires\", 19),(\"Los Angeles\", 26), \\\n",
    "        (\"Tokyo\", 27), (\"New York\", 28),(\"London\", 22),(\"Beijing\", 32)]\n",
    "\n",
    "x = list(filter(lambda data: data[1]>25, temps))\n",
    "print(x)\n"
   ]
  },
  {
   "cell_type": "code",
   "execution_count": 12,
   "metadata": {},
   "outputs": [
    {
     "name": "stdout",
     "output_type": "stream",
     "text": [
      "[2, 3, 5, 7, 11, 13, 17, 19, 23, 29, 31, 37, 41, 43, 47, 53, 59, 61, 67, 71, 73, 79, 83, 89, 97, 101, 103, 107, 109, 113, 127, 131, 137, 139, 149, 151, 157, 163, 167, 173, 179, 181, 191, 193, 197, 199, 211, 223, 227, 229, 233, 239, 241, 251, 257, 263, 269, 271, 277, 281, 283, 293, 307, 311, 313, 317, 331, 337, 347, 349, 353, 359, 367, 373, 379, 383, 389, 397, 401, 409, 419, 421, 431, 433, 439, 443, 449, 457, 461, 463, 467, 479, 487, 491, 499]\n",
      "95\n"
     ]
    }
   ],
   "source": [
    "import math\n",
    "\n",
    "def isPrime(n): \n",
    "    if n == 2: \n",
    "        return True\n",
    "    if n <= 1 or n % 2 == 0: \n",
    "        return False\n",
    "    # l = list(filter(lambda i: n%i==0, range(3, 1 + math.floor(math.sqrt(n)), 2)))\n",
    "    # print(n,\": \",l)\n",
    "    # for i in l: \n",
    "    #     if n % i == 0: \n",
    "    #         return False\n",
    "    # return True\n",
    "    return len(list(filter(lambda i: n%i==0, range(3, 1 + math.floor(math.sqrt(n)), 2))))==0\n",
    "\n",
    "p = list(filter(lambda x: isPrime(x), range(500)))\n",
    "print(p)\n",
    "print(len(p))"
   ]
  },
  {
   "cell_type": "markdown",
   "metadata": {},
   "source": [
    "## reduce"
   ]
  },
  {
   "cell_type": "code",
   "execution_count": 14,
   "metadata": {},
   "outputs": [
    {
     "name": "stdout",
     "output_type": "stream",
     "text": [
      "5050\n",
      "47\n",
      "the sum of list1 is 113\n",
      "the average of list1 is 28.25\n"
     ]
    }
   ],
   "source": [
    "from functools import reduce\n",
    "from range1 import range1\n",
    "\n",
    "def add(x, y):\n",
    "    return x + y\n",
    "\n",
    "\n",
    "x = reduce(add, range1(100))\n",
    "print(x)\n",
    "\n",
    "list1 = [47,11,42,13]\n",
    "f = lambda x, y: x+0\n",
    "x = reduce(f, list1)\n",
    "print(x)\n",
    "x = reduce(lambda x, y: x + y, list1)\n",
    "print(f\"the sum of list1 is {x}\")\n",
    "print(f\"the average of list1 is {x/len(list1)}\")"
   ]
  },
  {
   "cell_type": "code",
   "execution_count": null,
   "metadata": {},
   "outputs": [],
   "source": [
    "from functools import reduce\n",
    "\n",
    "list1 = [47, 11, 42, 102, 13]\n",
    "max = lambda a, b: a if (a > b) else b\n",
    "x = reduce(max, list1)\n",
    "print(\"max =\", x)\n",
    "\n",
    "x = reduce(lambda a, b: a>b and a or b, list1)\n",
    "print(x)\n",
    "\n",
    "min = lambda a, b: a if (a < b) else b\n",
    "x = reduce(min, list1)\n",
    "print(\"min =\", x)\n",
    "\n",
    "x = reduce(lambda a, b: a<b and a or b, list1)\n",
    "print(x)\n",
    "\n",
    "x = reduce(lambda x, y: x+y, list1)\n",
    "print(x)\n",
    "\n",
    "x = reduce(lambda x, y: x+y, list1, 10) # initial value =0 by default\n",
    "print(x)"
   ]
  },
  {
   "cell_type": "code",
   "execution_count": 18,
   "metadata": {},
   "outputs": [
    {
     "name": "stdout",
     "output_type": "stream",
     "text": [
      "The product of list element is: 5544\n",
      "\n"
     ]
    }
   ],
   "source": [
    "from functools import reduce\n",
    "import operator\n",
    "\n",
    "list1 = [7, 11, 2, 12, 3]\n",
    "print(f\"The product of list element is: {reduce(operator.mul, list1)}\\n\")"
   ]
  },
  {
   "cell_type": "code",
   "execution_count": null,
   "metadata": {},
   "outputs": [],
   "source": [
    "from pymonad.operators.maybe import Just, Nothing\n",
    "from pymonad.list import *\n",
    "\n",
    "def writeShoppingList(x):\n",
    "    return Just(f\"{x} prepare shopping list.\")\n",
    "\n",
    "def driveToMarket(x):\n",
    "    return Just(x + \"\\n> Drive to the market.\")\n",
    "\n",
    "def findThing(x):\n",
    "    return Just(x + \"\\n> Find stuff need to buy.\")\n",
    "\n",
    "def checkout(x):\n",
    "    return Just(x + \"\\n> Check out, pay credit card.\")\n",
    "\n",
    "def driveBackHome(x):\n",
    "    return Just(x + \"\\n> Drive home.\")\n",
    "\n",
    "x= Just(\"John \") >> writeShoppingList >> driveToMarket >> checkout >> driveBackHome\n",
    "print(\"20:\",x)\n",
    "\n",
    "list1 = ListMonad(writeShoppingList, driveToMarket,findThing,checkout,driveBackHome)\n",
    "x = Just(\"Wei\")\n",
    "for f in list1:\n",
    "    x = x >> f\n",
    "\n",
    "print(\"27:\",x)\n",
    "\n",
    "print(\"Done.\")"
   ]
  },
  {
   "cell_type": "code",
   "execution_count": 5,
   "metadata": {},
   "outputs": [
    {
     "data": {
      "text/plain": [
       "(1, 0)"
      ]
     },
     "execution_count": 5,
     "metadata": {},
     "output_type": "execute_result"
    }
   ],
   "source": [
    "int(True),int(False)"
   ]
  },
  {
   "cell_type": "code",
   "execution_count": 4,
   "metadata": {},
   "outputs": [
    {
     "data": {
      "text/plain": [
       "(1.0, 0.0)"
      ]
     },
     "execution_count": 4,
     "metadata": {},
     "output_type": "execute_result"
    }
   ],
   "source": [
    "float(True),float(False)"
   ]
  },
  {
   "cell_type": "code",
   "execution_count": 3,
   "metadata": {},
   "outputs": [
    {
     "data": {
      "text/plain": [
       "[0, 0, 0, 0, 0, 0, 0, 0, 0, 1, 1, 1, 1, 1, 1, 1, 1, 1]"
      ]
     },
     "execution_count": 3,
     "metadata": {},
     "output_type": "execute_result"
    }
   ],
   "source": [
    "outputs=[[1., 0.],\n",
    "        [1., 0.],\n",
    "        [1., 0.],\n",
    "        [1., 0.],\n",
    "        [1., 0.],\n",
    "        [1., 0.],\n",
    "        [1., 0.],\n",
    "        [1., 0.],\n",
    "        [1., 0.],\n",
    "        [0., 1.],\n",
    "        [0., 1.],\n",
    "        [0., 1.],\n",
    "        [0., 1.],\n",
    "        [0., 1.],\n",
    "        [0., 1.],\n",
    "        [0., 1.],\n",
    "        [0., 1.],\n",
    "        [0., 1.]]\n",
    "\n",
    "test_outputs=[int(y == 1.0) for x, y in outputs]\n",
    "test_outputs"
   ]
  },
  {
   "cell_type": "markdown",
   "metadata": {},
   "source": [
    "我们用[sell,buy]表示对输入数据的分类，更具体地说，index=0 的分类为sell，Index=1的分类为buy，上面结果表示以上的18行数据，前9行数据分类为index=0，被判定位sell，后9行数据分类的index=1，被设定为buy。特别注意的是我们这里的x,y是紧密相关的，其一为0，另一个必为1."
   ]
  }
 ],
 "metadata": {
  "kernelspec": {
   "display_name": "env",
   "language": "python",
   "name": "python3"
  },
  "language_info": {
   "codemirror_mode": {
    "name": "ipython",
    "version": 3
   },
   "file_extension": ".py",
   "mimetype": "text/x-python",
   "name": "python",
   "nbconvert_exporter": "python",
   "pygments_lexer": "ipython3",
   "version": "3.10.4"
  }
 },
 "nbformat": 4,
 "nbformat_minor": 2
}
