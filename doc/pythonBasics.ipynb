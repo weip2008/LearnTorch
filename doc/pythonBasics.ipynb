{
 "cells": [
  {
   "cell_type": "code",
   "execution_count": 1,
   "metadata": {},
   "outputs": [
    {
     "name": "stdout",
     "output_type": "stream",
     "text": [
      "123\n",
      "(5)\n"
     ]
    }
   ],
   "source": [
    "from mytensor import *\n",
    "\n",
    "tensor(123)\n",
    "t = MyTensor(5,2)\n",
    "print(t)"
   ]
  },
  {
   "cell_type": "markdown",
   "metadata": {},
   "source": []
  },
  {
   "cell_type": "code",
   "execution_count": 2,
   "metadata": {},
   "outputs": [
    {
     "data": {
      "text/plain": [
       "tuple"
      ]
     },
     "execution_count": 2,
     "metadata": {},
     "output_type": "execute_result"
    }
   ],
   "source": [
    "a = (1,2) # assign a tuple to a\n",
    "type(a)"
   ]
  },
  {
   "cell_type": "code",
   "execution_count": 3,
   "metadata": {},
   "outputs": [
    {
     "data": {
      "text/plain": [
       "tuple"
      ]
     },
     "execution_count": 3,
     "metadata": {},
     "output_type": "execute_result"
    }
   ],
   "source": [
    "a = 2,3,4,5  # assign a tuple to a\n",
    "type(a)"
   ]
  },
  {
   "cell_type": "code",
   "execution_count": 4,
   "metadata": {},
   "outputs": [
    {
     "data": {
      "text/plain": [
       "tuple"
      ]
     },
     "execution_count": 4,
     "metadata": {},
     "output_type": "execute_result"
    }
   ],
   "source": [
    "a = 5,  # assign a tuple to a\n",
    "type(a)"
   ]
  },
  {
   "cell_type": "code",
   "execution_count": 4,
   "metadata": {},
   "outputs": [
    {
     "name": "stdout",
     "output_type": "stream",
     "text": [
      "1 2\n",
      "3 4\n"
     ]
    }
   ],
   "source": [
    "a = [(1,2),(3,4)] \n",
    "for x,y in a: # list is a iterable\n",
    "    print(x, y)"
   ]
  },
  {
   "cell_type": "code",
   "execution_count": 15,
   "metadata": {},
   "outputs": [
    {
     "name": "stdout",
     "output_type": "stream",
     "text": [
      "1 2\n",
      "3 4\n"
     ]
    }
   ],
   "source": [
    "class NumberIterable:\n",
    "    def __init__(self, limit, n):\n",
    "        self.limit = limit\n",
    "        self.current = -1\n",
    "        self.n = n\n",
    "        \n",
    "    def __iter__(self):\n",
    "        return self\n",
    "\n",
    "    def __next__(self):\n",
    "        if self.current < self.limit:\n",
    "            self.current += 1\n",
    "            return self.n[self.current]\n",
    "        else:\n",
    "            raise StopIteration\n",
    "\n",
    "# Example usage\n",
    "t1 = [(1,2),(3,4)]\n",
    "numbers = NumberIterable(1, t1)\n",
    "for n1,n2 in numbers:\n",
    "    print(n1,n2)"
   ]
  },
  {
   "cell_type": "markdown",
   "metadata": {},
   "source": [
    "variables, functions and classes can be defined in a python module."
   ]
  },
  {
   "cell_type": "code",
   "execution_count": 1,
   "metadata": {},
   "outputs": [],
   "source": [
    "class MyTensor:\n",
    "    number = 1.2\n",
    "    def __init__(self, a,ndim):\n",
    "        self.a = a\n",
    "        self.ndim = ndim\n",
    "\n",
    "    def __repr__(self):\n",
    "       return f'({self.a})'\n",
    "        \n",
    "    def ndimesion(self):\n",
    "        return self.ndim\n",
    "\n",
    "\n",
    "def tensor(a):\n",
    "    print(a)\n",
    "\n",
    "number = 10"
   ]
  },
  {
   "cell_type": "markdown",
   "metadata": {},
   "source": [
    "save the code above to a python file: mytensor.py, all definition can be used by import from this module file, e.g."
   ]
  },
  {
   "cell_type": "code",
   "execution_count": 3,
   "metadata": {},
   "outputs": [
    {
     "name": "stdout",
     "output_type": "stream",
     "text": [
      "1.2, 1.2\n",
      "1, 2\n",
      "6.4\n",
      "111\n",
      "111\n"
     ]
    }
   ],
   "source": [
    "# from mytensor import *\n",
    "\n",
    "t1 = MyTensor(123,1)\n",
    "t2 = MyTensor(456,2)\n",
    "\n",
    "print(t1.number,t2.number,sep=', ') # class level variable shared by all instances\n",
    "print(t1.ndimesion(),t2.ndimesion(),sep=', ') # class level function can be called by object of the class\n",
    "\n",
    "x = tensor(6.4) # module function can be called directly\n",
    "\n",
    "print(number) # mdule variable can be used directly\n",
    "\n",
    "number = 111 # assign a new value\n",
    "print(number)"
   ]
  },
  {
   "cell_type": "markdown",
   "metadata": {},
   "source": [
    "## map\n",
    "\n",
    "map is a function which allow apply function to data stream"
   ]
  },
  {
   "cell_type": "code",
   "execution_count": 8,
   "metadata": {},
   "outputs": [
    {
     "name": "stdout",
     "output_type": "stream",
     "text": [
      "['tac', 'god', '95141.3', 'okceg']\n",
      "1,2,3,4,5\n",
      "<class 'list'>\n",
      "[120, 145, 172, 201, 232]\n"
     ]
    }
   ],
   "source": [
    "\"\"\"\n",
    "r = map(function, sequence)\n",
    "\"\"\"\n",
    "# l = list(map(lambda s: s[::-1], [\"cat\", \"dog\", 3.14159, \"gecko\"]))\n",
    "l = list(map(lambda s: str(s)[::-1], [\"cat\", \"dog\", 3.14159, \"gecko\"]))\n",
    "print(l)\n",
    "\n",
    "s = \",\".join(map(str, [1,2,3,4,5]))\n",
    "print(s)\n",
    "\n",
    "\"\"\"\n",
    "the function for the map can have more than one variables\n",
    "the following code map 2 list to 1 list.\n",
    "\"\"\"\n",
    "l1 = list(range(1,11))\n",
    "l2 = list(range(11,16))\n",
    "l = list(map(lambda x,y:x*x+2*y-3, l2, l1))\n",
    "print(type(l))\n",
    "print(l)\n"
   ]
  },
  {
   "cell_type": "code",
   "execution_count": 9,
   "metadata": {},
   "outputs": [
    {
     "name": "stdout",
     "output_type": "stream",
     "text": [
      "09: [('Berlin', 84.2), ('Cairo', 96.8), ('Buenos Aires', 66.2), ('Los Angeles', 78.8), ('Tokyo', 80.6), ('New York', 82.4), ('London', 71.6), ('Beijing', 89.6)]\n",
      "13: <class 'map'>\n",
      "15 ('Berlin', 84.2)\n",
      "16: [('Cairo', 96.8), ('Buenos Aires', 66.2), ('Los Angeles', 78.8), ('Tokyo', 80.6), ('New York', 82.4), ('London', 71.6), ('Beijing', 89.6)]\n",
      "17: ()\n",
      "21: (('Berlin', 84.2), ('Cairo', 96.8), ('Buenos Aires', 66.2), ('Los Angeles', 78.8), ('Tokyo', 80.6), ('New York', 82.4), ('London', 71.6), ('Beijing', 89.6))\n"
     ]
    }
   ],
   "source": [
    "# map lambda function to each city-temperature data\n",
    "temps = [(\"Berlin\", 29),(\"Cairo\", 36),(\"Buenos Aires\", 19),(\"Los Angeles\", 26),(\"Tokyo\", 27),(\"New York\", 28),(\"London\", 22),(\"Beijing\", 32)]\n",
    "\n",
    "list1=[]\n",
    "for data in temps: # convert without map\n",
    "    city = data[0]\n",
    "    temperatur=round(9/5*data[1] + 32, 2) #把摄氏转换成华氏\n",
    "    list1.append((city,temperatur))\n",
    "print(\"09:\",list1)\n",
    "\n",
    "newTemps = map(lambda x: (x[0], round((9 / 5) * x[1] + 32, 2)), temps)\n",
    "\n",
    "print(\"13:\", type(newTemps))\n",
    "y = next(newTemps)  # get first item, map object is iterable, next() remove the current item\n",
    "print(\"15\", y)\n",
    "print(\"16:\", list(newTemps)) # first item has gone\n",
    "print(\"17:\", tuple(newTemps)) # cannot print same map object second time!!! \n",
    "\n",
    "# solution:\n",
    "x = tuple(map(lambda data: (data[0], round((9 / 5) * data[1] + 32, 2)), temps))\n",
    "print(\"21:\",x)"
   ]
  }
 ],
 "metadata": {
  "kernelspec": {
   "display_name": "env",
   "language": "python",
   "name": "python3"
  },
  "language_info": {
   "codemirror_mode": {
    "name": "ipython",
    "version": 3
   },
   "file_extension": ".py",
   "mimetype": "text/x-python",
   "name": "python",
   "nbconvert_exporter": "python",
   "pygments_lexer": "ipython3",
   "version": "3.10.4"
  }
 },
 "nbformat": 4,
 "nbformat_minor": 2
}
