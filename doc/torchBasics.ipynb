{
 "cells": [
  {
   "cell_type": "markdown",
   "metadata": {},
   "source": [
    "* [What is pandas?](https://www.youtube.com/watch?v=yzIMircGU5I&list=PL5-da3qGB5ICCsgW1MxlZ0Hq8LL5U3u9y)"
   ]
  },
  {
   "cell_type": "code",
   "execution_count": 23,
   "metadata": {},
   "outputs": [
    {
     "name": "stdout",
     "output_type": "stream",
     "text": [
      "hello world\n"
     ]
    }
   ],
   "source": [
    "print(\"hello world\")"
   ]
  },
  {
   "cell_type": "code",
   "execution_count": 1,
   "metadata": {},
   "outputs": [
    {
     "data": {
      "text/plain": [
       "'2.3.0+cpu'"
      ]
     },
     "execution_count": 1,
     "metadata": {},
     "output_type": "execute_result"
    }
   ],
   "source": [
    "import torch\n",
    "\n",
    "torch.__version__"
   ]
  },
  {
   "cell_type": "markdown",
   "metadata": {},
   "source": [
    "## Matrix Multiplication"
   ]
  },
  {
   "cell_type": "markdown",
   "metadata": {},
   "source": [
    "![](images/how-to-multiply-2-matrices-demo.gif)"
   ]
  },
  {
   "cell_type": "markdown",
   "metadata": {},
   "source": [
    "假设有一个笼子里有若干只鸡和兔子。已知鸡有2只脚，兔子有4只脚。通过统计，笼子里一共有10个头和28只脚。我们需要确定鸡和兔子的数量。\n",
    "\n",
    "[使用矩阵解线性方程组：鸡兔同笼](linearEquation.md)\n",
    "[solve chicken and rabbits issue](../src/chickenRabit.py)"
   ]
  },
  {
   "cell_type": "code",
   "execution_count": 10,
   "metadata": {},
   "outputs": [
    {
     "name": "stdout",
     "output_type": "stream",
     "text": [
      "torch.Size([3])\n",
      "Matrix A shape: torch.Size([1, 3])\n",
      "Matrix B shape: torch.Size([3, 2])\n",
      "torch.Size([1, 2])\n",
      "tensor([[64, 89]])\n"
     ]
    },
    {
     "ename": "RuntimeError",
     "evalue": "mat1 and mat2 shapes cannot be multiplied (3x2 and 1x3)",
     "output_type": "error",
     "traceback": [
      "\u001b[1;31m---------------------------------------------------------------------------\u001b[0m",
      "\u001b[1;31mRuntimeError\u001b[0m                              Traceback (most recent call last)",
      "Cell \u001b[1;32mIn[10], line 13\u001b[0m\n\u001b[0;32m     10\u001b[0m \u001b[38;5;28mprint\u001b[39m(c\u001b[38;5;241m.\u001b[39mshape)\n\u001b[0;32m     11\u001b[0m \u001b[38;5;28mprint\u001b[39m(c)\n\u001b[1;32m---> 13\u001b[0m c \u001b[38;5;241m=\u001b[39m \u001b[43mb\u001b[49m\u001b[43m \u001b[49m\u001b[38;5;241;43m@\u001b[39;49m\u001b[43m \u001b[49m\u001b[43ma\u001b[49m\n",
      "\u001b[1;31mRuntimeError\u001b[0m: mat1 and mat2 shapes cannot be multiplied (3x2 and 1x3)"
     ]
    }
   ],
   "source": [
    "a = torch.tensor([1,4,6])\n",
    "print(a.shape)\n",
    "a = a.reshape(1,3)\n",
    "print(f'Matrix A shape: {a.shape}')\n",
    "\n",
    "b = torch.tensor([[2,3],[5,8],[7,9]])\n",
    "print(f'Matrix B shape: {b.shape}')\n",
    "\n",
    "c =a @ b\n",
    "print(c.shape)\n",
    "print(c)\n",
    "\n",
    "c = b @ a"
   ]
  },
  {
   "cell_type": "markdown",
   "metadata": {},
   "source": [
    "👍😄 **Conclusion**: When multiplying matrices, the inner dimensions must match. "
   ]
  },
  {
   "cell_type": "markdown",
   "metadata": {},
   "source": [
    "## Torch Tensor\n",
    "* dim: dimension\n",
    "* ndim: number of dimension\n",
    "* "
   ]
  },
  {
   "cell_type": "code",
   "execution_count": 25,
   "metadata": {},
   "outputs": [
    {
     "data": {
      "text/plain": [
       "(torch.Tensor, 2, torch.Size([2, 9]), torch.Size([2, 9]))"
      ]
     },
     "execution_count": 25,
     "metadata": {},
     "output_type": "execute_result"
    }
   ],
   "source": [
    "t = torch.Tensor([[1,2,3,4,5,6,7,8,9],\n",
    "                  [11,12,13,14,15,16,17,18,19]])\n",
    "type(t), t.ndim, t.shape, t.size() # return representation of shape of a tensor"
   ]
  },
  {
   "cell_type": "code",
   "execution_count": 5,
   "metadata": {},
   "outputs": [
    {
     "data": {
      "text/plain": [
       "(tensor(3), 0, <function Tensor.ndimension>)"
      ]
     },
     "execution_count": 5,
     "metadata": {},
     "output_type": "execute_result"
    }
   ],
   "source": [
    "t = torch.tensor(3)\n",
    "t, t.ndim, t.ndimension"
   ]
  },
  {
   "cell_type": "code",
   "execution_count": 26,
   "metadata": {},
   "outputs": [
    {
     "data": {
      "text/plain": [
       "(numpy.ndarray, 2, (2, 9), 18)"
      ]
     },
     "execution_count": 26,
     "metadata": {},
     "output_type": "execute_result"
    }
   ],
   "source": [
    "a = t.numpy()\n",
    "type(a), a.ndim, a.shape, a.size"
   ]
  },
  {
   "cell_type": "code",
   "execution_count": 27,
   "metadata": {},
   "outputs": [
    {
     "data": {
      "text/plain": [
       "(torch.Tensor, 2, torch.Size([2, 9]), <function Tensor.size>)"
      ]
     },
     "execution_count": 27,
     "metadata": {},
     "output_type": "execute_result"
    }
   ],
   "source": [
    "t1 = torch.tensor(a)\n",
    "type(t1), t1.ndim, t1.shape, t1.size"
   ]
  },
  {
   "cell_type": "code",
   "execution_count": 28,
   "metadata": {},
   "outputs": [
    {
     "data": {
      "text/plain": [
       "(torch.Tensor, torch.Size([3, 2]))"
      ]
     },
     "execution_count": 28,
     "metadata": {},
     "output_type": "execute_result"
    }
   ],
   "source": [
    "# use a Tensor instance to represent a gray image,\n",
    "# the number is between [0,255] to represent the grey degree\n",
    "image = torch.Tensor(((12, 124),(34, 255),(67, 110)))\n",
    "type(image), image.shape"
   ]
  },
  {
   "cell_type": "code",
   "execution_count": 29,
   "metadata": {},
   "outputs": [
    {
     "data": {
      "image/png": "[encoded data removed]",
      "text/plain": [
       "<Figure size 640x480 with 2 Axes>"
      ]
     },
     "metadata": {},
     "output_type": "display_data"
    }
   ],
   "source": [
    "import matplotlib.pyplot as plt\n",
    "\n",
    "plt.figure()\n",
    "plt.imshow(image, cmap='gray')\n",
    "plt.colorbar()\n",
    "plt.grid(False)\n",
    "plt.show()"
   ]
  },
  {
   "cell_type": "markdown",
   "metadata": {},
   "source": [
    "## Use functions empty(), ones(), zeros()"
   ]
  },
  {
   "cell_type": "code",
   "execution_count": 30,
   "metadata": {},
   "outputs": [
    {
     "data": {
      "text/plain": [
       "(tensor([[0., 0.],\n",
       "         [0., 0.],\n",
       "         [0., 0.],\n",
       "         [0., 0.],\n",
       "         [0., 0.],\n",
       "         [0., 0.],\n",
       "         [0., 0.],\n",
       "         [0., 0.],\n",
       "         [0., 0.],\n",
       "         [0., 0.]]),\n",
       " torch.Tensor,\n",
       " 2,\n",
       " torch.Size([10, 2]))"
      ]
     },
     "execution_count": 30,
     "metadata": {},
     "output_type": "execute_result"
    }
   ],
   "source": [
    "t = torch.empty(10,2)\n",
    "t, type(t), t.ndim, t.shape"
   ]
  },
  {
   "cell_type": "code",
   "execution_count": 31,
   "metadata": {},
   "outputs": [
    {
     "data": {
      "text/plain": [
       "(tensor([1., 1., 1., 1., 1., 1., 1., 1., 1., 1.]),\n",
       " torch.Tensor,\n",
       " 1,\n",
       " torch.Size([10]))"
      ]
     },
     "execution_count": 31,
     "metadata": {},
     "output_type": "execute_result"
    }
   ],
   "source": [
    "t = torch.ones(10)\n",
    "t, type(t), t.ndim, t.shape"
   ]
  },
  {
   "cell_type": "code",
   "execution_count": 32,
   "metadata": {},
   "outputs": [
    {
     "data": {
      "text/plain": [
       "(tensor([[0., 0.],\n",
       "         [0., 0.],\n",
       "         [0., 0.],\n",
       "         [0., 0.],\n",
       "         [0., 0.],\n",
       "         [0., 0.],\n",
       "         [0., 0.],\n",
       "         [0., 0.],\n",
       "         [0., 0.],\n",
       "         [0., 0.]]),\n",
       " torch.Tensor,\n",
       " 2,\n",
       " torch.Size([10, 2]))"
      ]
     },
     "execution_count": 32,
     "metadata": {},
     "output_type": "execute_result"
    }
   ],
   "source": [
    "t = torch.zeros(10,2)\n",
    "t, type(t), t.ndim, t.shape"
   ]
  },
  {
   "cell_type": "code",
   "execution_count": 33,
   "metadata": {},
   "outputs": [
    {
     "data": {
      "image/png": "[encoded data removed]",
      "text/plain": [
       "<Figure size 640x480 with 1 Axes>"
      ]
     },
     "metadata": {},
     "output_type": "display_data"
    }
   ],
   "source": [
    "x = torch.empty(size=(2,100)).uniform_(0,10)\n",
    "#create 2D array, 2 rows and 100 number which is uniformly distributed between 0 and 10.\n",
    "plt.plot(x.numpy()[0],'b^')\n",
    "plt.plot(x.numpy()[1],'r*')\n",
    "plt.show()"
   ]
  },
  {
   "cell_type": "code",
   "execution_count": 34,
   "metadata": {},
   "outputs": [
    {
     "data": {
      "text/plain": [
       "(tensor([[0., 3.],\n",
       "         [0., 0.],\n",
       "         [0., 0.],\n",
       "         [0., 4.],\n",
       "         [0., 0.],\n",
       "         [0., 0.],\n",
       "         [6., 0.],\n",
       "         [0., 0.],\n",
       "         [0., 0.],\n",
       "         [0., 0.]]),\n",
       " torch.Size([10, 2]))"
      ]
     },
     "execution_count": 34,
     "metadata": {},
     "output_type": "execute_result"
    }
   ],
   "source": [
    "t[0][1]=3\n",
    "t[3][1]=4\n",
    "t[6][0]=6\n",
    "t,t.shape"
   ]
  },
  {
   "cell_type": "code",
   "execution_count": 35,
   "metadata": {},
   "outputs": [
    {
     "data": {
      "text/plain": [
       "(tensor([[0., 3., 0., 0., 0.],\n",
       "         [0., 0., 4., 0., 0.],\n",
       "         [0., 0., 6., 0., 0.],\n",
       "         [0., 0., 0., 0., 0.]]),\n",
       " tensor([[0., 0., 0., 0.],\n",
       "         [3., 0., 0., 0.],\n",
       "         [0., 4., 6., 0.],\n",
       "         [0., 0., 0., 0.],\n",
       "         [0., 0., 0., 0.]]))"
      ]
     },
     "execution_count": 35,
     "metadata": {},
     "output_type": "execute_result"
    }
   ],
   "source": [
    "t1 = t.reshape(4,5)\n",
    "t1,t1.T"
   ]
  },
  {
   "cell_type": "markdown",
   "metadata": {},
   "source": [
    "## Tensor Operation\n",
    "1. +,-,*,/\n",
    "2. sum(), sin(), cos(), numel()"
   ]
  },
  {
   "cell_type": "code",
   "execution_count": 36,
   "metadata": {},
   "outputs": [
    {
     "data": {
      "text/plain": [
       "(20, tensor(13.))"
      ]
     },
     "execution_count": 36,
     "metadata": {},
     "output_type": "execute_result"
    }
   ],
   "source": [
    "x = torch.numel(t)\n",
    "x1 = torch.sum(t)\n",
    "x,x1"
   ]
  },
  {
   "cell_type": "markdown",
   "metadata": {},
   "source": [
    "## Understand Fashion Training Data"
   ]
  },
  {
   "cell_type": "code",
   "execution_count": 2,
   "metadata": {},
   "outputs": [
    {
     "name": "stdout",
     "output_type": "stream",
     "text": [
      "Total training images is 60000.\n",
      "torch.Size([64, 1, 28, 28])\n"
     ]
    }
   ],
   "source": [
    "import torch\n",
    "from torch.utils.data import Dataset\n",
    "from torchvision import datasets\n",
    "from torchvision.transforms import ToTensor\n",
    "import matplotlib.pyplot as plt\n",
    "from torch.utils.data import DataLoader\n",
    "\n",
    "training_data = datasets.FashionMNIST(\n",
    "    root=\"data\",\n",
    "    train=True,\n",
    "    download=False,\n",
    "    transform=ToTensor()\n",
    ")\n",
    "\n",
    "test_data = datasets.FashionMNIST(\n",
    "    root=\"data\",\n",
    "    train=False,\n",
    "    download=False,\n",
    "    transform=ToTensor()\n",
    ")\n",
    "\n",
    "print(f'Total training images is {len(training_data)}.')\n",
    "\n",
    "train_loader = DataLoader(test_data, batch_size=64, shuffle=True)\n",
    "test_loader = DataLoader(test_data, batch_size=64, shuffle=False)\n",
    "\n",
    "# Get a batch of data from the DataLoader\n",
    "for images, labels in train_loader:\n",
    "    # Get the tensor shape of the data\n",
    "    print(images.shape)\n",
    "    break  # Stop after the first batch"
   ]
  },
  {
   "cell_type": "code",
   "execution_count": 3,
   "metadata": {},
   "outputs": [
    {
     "name": "stdout",
     "output_type": "stream",
     "text": [
      "<class 'torchvision.datasets.mnist.FashionMNIST'>\n",
      "torch.Size([1, 28, 28]) tensor([[[0.0000, 0.0000, 0.0000, 0.0000, 0.0000, 0.0000, 0.0000, 0.0000,\n",
      "          0.0000, 0.0000, 0.0000, 0.0000, 0.0000, 0.0000, 0.0000, 0.0000,\n",
      "          0.0000, 0.0000, 0.0000, 0.0000, 0.0000, 0.0000, 0.0000, 0.0000,\n",
      "          0.0000, 0.0000, 0.0000, 0.0000],\n",
      "         [0.0000, 0.0000, 0.0000, 0.0000, 0.0000, 0.0000, 0.0000, 0.0000,\n",
      "          0.0000, 0.0000, 0.0000, 0.0000, 0.0000, 0.0000, 0.0000, 0.0000,\n",
      "          0.0000, 0.0000, 0.0000, 0.0000, 0.0000, 0.0000, 0.0000, 0.0000,\n",
      "          0.0000, 0.0000, 0.0000, 0.0000],\n",
      "         [0.0000, 0.0000, 0.0000, 0.0000, 0.0000, 0.0000, 0.0000, 0.0000,\n",
      "          0.0000, 0.0000, 0.0000, 0.0000, 0.0000, 0.0000, 0.0000, 0.0000,\n",
      "          0.0000, 0.0000, 0.0000, 0.0000, 0.0000, 0.0000, 0.0000, 0.0000,\n",
      "          0.0000, 0.0000, 0.0000, 0.0000],\n",
      "         [0.0000, 0.0000, 0.0000, 0.0000, 0.0000, 0.0000, 0.0000, 0.0000,\n",
      "          0.0000, 0.0000, 0.0000, 0.0000, 0.0000, 0.0000, 0.0000, 0.0000,\n",
      "          0.0000, 0.0000, 0.0000, 0.0000, 0.0000, 0.0000, 0.0000, 0.0000,\n",
      "          0.0000, 0.0000, 0.0000, 0.0000],\n",
      "         [0.0000, 0.0000, 0.0000, 0.0000, 0.0000, 0.0000, 0.0000, 0.0000,\n",
      "          0.0000, 0.0000, 0.0000, 0.0000, 0.0000, 0.0000, 0.0000, 0.0000,\n",
      "          0.0000, 0.0000, 0.0000, 0.0000, 0.0000, 0.0000, 0.0000, 0.0000,\n",
      "          0.0000, 0.0000, 0.0000, 0.0000],\n",
      "         [0.0000, 0.0000, 0.0000, 0.0000, 0.0000, 0.0000, 0.0000, 0.0000,\n",
      "          0.0000, 0.0000, 0.0000, 0.0000, 0.0000, 0.0000, 0.0000, 0.0000,\n",
      "          0.0000, 0.0000, 0.0000, 0.0000, 0.0000, 0.0000, 0.0000, 0.0000,\n",
      "          0.0000, 0.0000, 0.0000, 0.0000],\n",
      "         [0.0000, 0.0000, 0.0000, 0.0000, 0.0000, 0.0000, 0.0000, 0.0000,\n",
      "          0.0000, 0.0000, 0.0000, 0.0000, 0.0000, 0.0000, 0.0000, 0.0000,\n",
      "          0.0000, 0.2824, 0.0863, 0.0000, 0.0000, 0.0000, 0.0000, 0.0039,\n",
      "          0.0078, 0.0039, 0.0000, 0.0000],\n",
      "         [0.0000, 0.0000, 0.0000, 0.0000, 0.0000, 0.0000, 0.0000, 0.0000,\n",
      "          0.0000, 0.0000, 0.0000, 0.0000, 0.0000, 0.0000, 0.0000, 0.0000,\n",
      "          0.5176, 0.8549, 0.6667, 0.3176, 0.0078, 0.0000, 0.0000, 0.0000,\n",
      "          0.0000, 0.0000, 0.0039, 0.0000],\n",
      "         [0.0000, 0.0000, 0.0000, 0.0000, 0.0000, 0.0000, 0.0000, 0.0000,\n",
      "          0.0000, 0.0000, 0.0000, 0.0000, 0.0000, 0.0000, 0.0000, 0.5843,\n",
      "          0.7922, 0.8078, 0.8549, 0.8588, 0.9059, 0.7725, 0.4784, 0.1373,\n",
      "          0.0000, 0.0000, 0.0000, 0.0000],\n",
      "         [0.0000, 0.0000, 0.0000, 0.0000, 0.0000, 0.0000, 0.0000, 0.0000,\n",
      "          0.0000, 0.0000, 0.0000, 0.0078, 0.0000, 0.0000, 0.4784, 0.9608,\n",
      "          0.6667, 0.7137, 0.8510, 0.8549, 0.8431, 0.7804, 0.7961, 0.8314,\n",
      "          0.8118, 0.6706, 0.0000, 0.0000],\n",
      "         [0.0000, 0.0000, 0.0000, 0.0000, 0.0000, 0.0000, 0.0000, 0.0000,\n",
      "          0.0000, 0.0000, 0.0000, 0.0000, 0.0000, 0.7373, 0.8235, 0.6667,\n",
      "          0.7922, 0.8431, 0.8549, 0.8588, 0.7647, 0.7137, 0.7490, 0.7922,\n",
      "          0.8745, 0.8745, 0.0196, 0.0000],\n",
      "         [0.0000, 0.0000, 0.0000, 0.0000, 0.0000, 0.0000, 0.0000, 0.0000,\n",
      "          0.0000, 0.0118, 0.0000, 0.0392, 0.5922, 0.7725, 0.5725, 0.6235,\n",
      "          0.7804, 0.8431, 0.8431, 0.8745, 0.7804, 0.6392, 0.6941, 0.8000,\n",
      "          0.8431, 0.8706, 0.1843, 0.0000],\n",
      "         [0.0000, 0.0000, 0.0000, 0.0000, 0.0078, 0.0000, 0.0000, 0.0000,\n",
      "          0.0000, 0.0000, 0.0000, 0.6196, 0.8039, 0.6745, 0.8824, 0.8510,\n",
      "          0.8471, 0.8431, 0.8824, 0.8549, 0.8471, 0.7647, 0.7765, 0.8275,\n",
      "          0.8118, 0.8706, 0.8314, 0.0000],\n",
      "         [0.0000, 0.0039, 0.0157, 0.0314, 0.0196, 0.0078, 0.0118, 0.0000,\n",
      "          0.0000, 0.0000, 0.6157, 0.7961, 0.7294, 0.7686, 0.8078, 0.8431,\n",
      "          0.8118, 0.8471, 0.8235, 0.8275, 0.8588, 0.8549, 0.8706, 0.8980,\n",
      "          0.8824, 0.8745, 0.9961, 0.0392],\n",
      "         [0.0118, 0.0000, 0.0000, 0.0000, 0.0000, 0.0000, 0.0000, 0.0078,\n",
      "          0.5098, 0.7804, 0.8078, 0.6588, 0.7373, 0.7647, 0.7490, 0.7765,\n",
      "          0.7647, 0.8314, 0.8549, 0.8784, 0.8353, 0.8745, 0.8784, 0.8275,\n",
      "          0.7412, 0.7294, 0.8196, 0.1490],\n",
      "         [0.0000, 0.0000, 0.1843, 0.1216, 0.1922, 0.3255, 0.4510, 0.8706,\n",
      "          0.9098, 0.8196, 0.7451, 0.7412, 0.7804, 0.8039, 0.8510, 0.8863,\n",
      "          0.8745, 0.8745, 0.8706, 0.8549, 0.8588, 0.8471, 0.7216, 0.6902,\n",
      "          0.6941, 0.6745, 0.8627, 0.2118],\n",
      "         [0.3059, 0.6157, 0.7294, 0.7412, 0.6980, 0.6941, 0.6745, 0.6471,\n",
      "          0.6118, 0.6353, 0.6196, 0.6941, 0.7373, 0.7490, 0.7725, 0.7922,\n",
      "          0.8078, 0.8078, 0.8196, 0.8314, 0.8549, 0.7137, 0.6275, 0.6706,\n",
      "          0.6784, 0.6667, 0.7294, 0.2706],\n",
      "         [0.1255, 0.2314, 0.3882, 0.5647, 0.7059, 0.7373, 0.7176, 0.6941,\n",
      "          0.6980, 0.7137, 0.7412, 0.7686, 0.7804, 0.7922, 0.8118, 0.8471,\n",
      "          0.8745, 0.8863, 0.8902, 0.8863, 0.8902, 0.7961, 0.7804, 0.7529,\n",
      "          0.7490, 0.7490, 0.7922, 0.3216],\n",
      "         [0.1451, 0.0196, 0.0000, 0.0392, 0.1765, 0.3725, 0.5608, 0.7059,\n",
      "          0.8196, 0.8588, 0.8784, 0.8824, 0.8745, 0.8235, 0.7961, 0.7569,\n",
      "          0.7412, 0.7216, 0.7020, 0.6863, 0.7020, 0.6471, 0.6275, 0.6431,\n",
      "          0.6196, 0.5882, 0.6706, 0.3020],\n",
      "         [0.0863, 0.2275, 0.1882, 0.0902, 0.0392, 0.0000, 0.0000, 0.0000,\n",
      "          0.0157, 0.0588, 0.0824, 0.0863, 0.0667, 0.0431, 0.0157, 0.0000,\n",
      "          0.0000, 0.0000, 0.0000, 0.0000, 0.0000, 0.0000, 0.0000, 0.0000,\n",
      "          0.0000, 0.0000, 0.0118, 0.0275],\n",
      "         [0.0000, 0.0039, 0.1137, 0.1882, 0.2000, 0.2275, 0.1961, 0.1137,\n",
      "          0.1059, 0.0980, 0.0745, 0.0667, 0.0745, 0.0745, 0.0863, 0.0980,\n",
      "          0.1373, 0.1490, 0.1255, 0.1333, 0.1216, 0.1333, 0.1216, 0.1255,\n",
      "          0.1255, 0.1490, 0.1647, 0.1216],\n",
      "         [0.0000, 0.0000, 0.0000, 0.0000, 0.0275, 0.0863, 0.1216, 0.1490,\n",
      "          0.1922, 0.1922, 0.1725, 0.1608, 0.1529, 0.1176, 0.1137, 0.1137,\n",
      "          0.1137, 0.0980, 0.0314, 0.0431, 0.1059, 0.1098, 0.0941, 0.1098,\n",
      "          0.1137, 0.1216, 0.1216, 0.0039],\n",
      "         [0.0000, 0.0000, 0.0000, 0.0000, 0.0000, 0.0000, 0.0000, 0.0000,\n",
      "          0.0000, 0.0000, 0.0000, 0.0000, 0.0000, 0.0000, 0.0000, 0.0000,\n",
      "          0.0000, 0.0000, 0.0000, 0.0000, 0.0000, 0.0000, 0.0000, 0.0000,\n",
      "          0.0000, 0.0000, 0.0000, 0.0000],\n",
      "         [0.0000, 0.0000, 0.0000, 0.0000, 0.0000, 0.0000, 0.0000, 0.0000,\n",
      "          0.0000, 0.0000, 0.0000, 0.0000, 0.0000, 0.0000, 0.0000, 0.0000,\n",
      "          0.0000, 0.0000, 0.0000, 0.0000, 0.0000, 0.0000, 0.0000, 0.0000,\n",
      "          0.0000, 0.0000, 0.0000, 0.0000],\n",
      "         [0.0000, 0.0000, 0.0000, 0.0000, 0.0000, 0.0000, 0.0000, 0.0000,\n",
      "          0.0000, 0.0000, 0.0000, 0.0000, 0.0000, 0.0000, 0.0000, 0.0000,\n",
      "          0.0000, 0.0000, 0.0000, 0.0000, 0.0000, 0.0000, 0.0000, 0.0000,\n",
      "          0.0000, 0.0000, 0.0000, 0.0000],\n",
      "         [0.0000, 0.0000, 0.0000, 0.0000, 0.0000, 0.0000, 0.0000, 0.0000,\n",
      "          0.0000, 0.0000, 0.0000, 0.0000, 0.0000, 0.0000, 0.0000, 0.0000,\n",
      "          0.0000, 0.0000, 0.0000, 0.0000, 0.0000, 0.0000, 0.0000, 0.0000,\n",
      "          0.0000, 0.0000, 0.0000, 0.0000],\n",
      "         [0.0000, 0.0000, 0.0000, 0.0000, 0.0000, 0.0000, 0.0000, 0.0000,\n",
      "          0.0000, 0.0000, 0.0000, 0.0000, 0.0000, 0.0000, 0.0000, 0.0000,\n",
      "          0.0000, 0.0000, 0.0000, 0.0000, 0.0000, 0.0000, 0.0000, 0.0000,\n",
      "          0.0000, 0.0000, 0.0000, 0.0000],\n",
      "         [0.0000, 0.0000, 0.0000, 0.0000, 0.0000, 0.0000, 0.0000, 0.0000,\n",
      "          0.0000, 0.0000, 0.0000, 0.0000, 0.0000, 0.0000, 0.0000, 0.0000,\n",
      "          0.0000, 0.0000, 0.0000, 0.0000, 0.0000, 0.0000, 0.0000, 0.0000,\n",
      "          0.0000, 0.0000, 0.0000, 0.0000]]])\n",
      "torch.Size([1, 28, 28]) tensor([[[0.0000, 0.0000, 0.0000, 0.0000, 0.0000, 0.0000, 0.0000, 0.0000,\n",
      "          0.0000, 0.0000, 0.0000, 0.1020, 0.2745, 0.3529, 0.4157, 0.2510,\n",
      "          0.1020, 0.0000, 0.0000, 0.0000, 0.0000, 0.0000, 0.0000, 0.0000,\n",
      "          0.0000, 0.0000, 0.0000, 0.0000],\n",
      "         [0.0000, 0.0000, 0.0000, 0.0000, 0.0000, 0.0000, 0.0000, 0.0000,\n",
      "          0.0000, 0.0000, 0.2078, 0.7412, 0.5765, 0.5333, 0.5686, 0.5686,\n",
      "          0.6902, 0.6863, 0.0000, 0.0000, 0.0039, 0.0000, 0.0000, 0.0000,\n",
      "          0.0000, 0.0000, 0.0000, 0.0000],\n",
      "         [0.0000, 0.0000, 0.0000, 0.0000, 0.0000, 0.0000, 0.0000, 0.0000,\n",
      "          0.0000, 0.0000, 0.5059, 0.5608, 0.5137, 0.5137, 0.5804, 0.6471,\n",
      "          0.7333, 0.8000, 0.0902, 0.0000, 0.0039, 0.0000, 0.0000, 0.0000,\n",
      "          0.0000, 0.0000, 0.0000, 0.0000],\n",
      "         [0.0000, 0.0000, 0.0000, 0.0000, 0.0000, 0.0000, 0.0000, 0.0039,\n",
      "          0.0000, 0.1569, 0.5059, 0.6863, 0.8157, 0.4784, 0.6000, 0.5490,\n",
      "          0.7569, 0.5137, 0.1961, 0.0000, 0.0000, 0.0000, 0.0000, 0.0000,\n",
      "          0.0000, 0.0000, 0.0000, 0.0000],\n",
      "         [0.0000, 0.0000, 0.0000, 0.0000, 0.0000, 0.0000, 0.0000, 0.0000,\n",
      "          0.0235, 0.8078, 0.4157, 0.4902, 0.4588, 0.2980, 0.2784, 0.2549,\n",
      "          0.8196, 0.4157, 0.3529, 0.0000, 0.0000, 0.0118, 0.0000, 0.0000,\n",
      "          0.0000, 0.0000, 0.0000, 0.0000],\n",
      "         [0.0000, 0.0000, 0.0000, 0.0000, 0.0000, 0.0000, 0.0000, 0.0784,\n",
      "          0.4784, 0.7765, 0.5333, 0.4588, 0.4392, 0.2745, 0.2314, 0.4157,\n",
      "          0.2980, 0.3529, 0.6353, 0.3725, 0.0000, 0.0000, 0.0000, 0.0000,\n",
      "          0.0000, 0.0000, 0.0000, 0.0000],\n",
      "         [0.0000, 0.0000, 0.0000, 0.0000, 0.0000, 0.0000, 0.2118, 0.5686,\n",
      "          0.3373, 0.3098, 0.4471, 0.6980, 0.4196, 0.2431, 0.2980, 0.5255,\n",
      "          0.3725, 0.3961, 0.3922, 0.3922, 0.4627, 0.0549, 0.0000, 0.0000,\n",
      "          0.0000, 0.0000, 0.0000, 0.0000],\n",
      "         [0.0000, 0.0000, 0.0000, 0.0000, 0.0000, 0.0000, 0.4941, 0.5020,\n",
      "          0.3098, 0.3490, 0.3176, 0.4706, 0.3961, 0.3373, 0.3098, 0.4392,\n",
      "          0.3529, 0.3216, 0.3216, 0.3412, 0.3725, 0.2980, 0.0000, 0.0000,\n",
      "          0.0000, 0.0000, 0.0000, 0.0000],\n",
      "         [0.0000, 0.0000, 0.0000, 0.0000, 0.0000, 0.0392, 0.4627, 0.4902,\n",
      "          0.4941, 0.2863, 0.3216, 0.4510, 0.4941, 0.2745, 0.2745, 0.9059,\n",
      "          0.4471, 0.0667, 0.2745, 0.3490, 0.3059, 0.3647, 0.0000, 0.0000,\n",
      "          0.0000, 0.0000, 0.0000, 0.0000],\n",
      "         [0.0000, 0.0000, 0.0000, 0.0000, 0.0000, 0.3373, 0.4471, 0.3216,\n",
      "          0.7020, 0.3216, 0.2235, 0.5490, 0.8510, 0.2118, 0.2863, 0.5059,\n",
      "          0.3922, 1.0000, 0.4588, 0.2118, 0.3373, 0.3725, 0.0824, 0.0000,\n",
      "          0.0000, 0.0000, 0.0000, 0.0000],\n",
      "         [0.0000, 0.0000, 0.0000, 0.0000, 0.0000, 0.6471, 0.4039, 0.2549,\n",
      "          0.7725, 0.5137, 0.2667, 0.3098, 0.3216, 0.2745, 0.3294, 0.2627,\n",
      "          0.2000, 0.8745, 0.4039, 0.3098, 0.4196, 0.3608, 0.1647, 0.0000,\n",
      "          0.0000, 0.0000, 0.0000, 0.0000],\n",
      "         [0.0000, 0.0000, 0.0000, 0.0000, 0.0000, 0.4784, 0.3373, 0.3725,\n",
      "          0.8588, 0.4706, 0.3412, 0.2667, 0.2784, 0.3098, 0.3059, 0.3412,\n",
      "          0.2941, 0.1451, 0.1686, 0.6431, 0.4275, 0.3294, 0.2118, 0.0000,\n",
      "          0.0000, 0.0000, 0.0000, 0.0000],\n",
      "         [0.0000, 0.0000, 0.0000, 0.0000, 0.0000, 0.4039, 0.3490, 0.4157,\n",
      "          0.7529, 0.5255, 0.4196, 0.3529, 0.3373, 0.3059, 0.2980, 0.3098,\n",
      "          0.3294, 0.3961, 0.2941, 0.5608, 0.4784, 0.3216, 0.2627, 0.0000,\n",
      "          0.0000, 0.0000, 0.0000, 0.0000],\n",
      "         [0.0000, 0.0000, 0.0000, 0.0000, 0.0000, 0.4510, 0.3412, 0.3490,\n",
      "          0.5020, 0.6000, 0.3961, 0.3529, 0.3216, 0.3176, 0.3176, 0.3176,\n",
      "          0.3216, 0.3294, 0.3216, 0.3647, 0.5176, 0.3490, 0.2784, 0.0000,\n",
      "          0.0000, 0.0000, 0.0000, 0.0000],\n",
      "         [0.0000, 0.0000, 0.0000, 0.0000, 0.0000, 0.4196, 0.3373, 0.3294,\n",
      "          0.3608, 0.6471, 0.3529, 0.3608, 0.3294, 0.3294, 0.3059, 0.3294,\n",
      "          0.2980, 0.3176, 0.3294, 0.2431, 0.5608, 0.3490, 0.2863, 0.0000,\n",
      "          0.0000, 0.0000, 0.0000, 0.0000],\n",
      "         [0.0000, 0.0000, 0.0000, 0.0000, 0.0000, 0.4275, 0.3647, 0.3412,\n",
      "          0.2784, 0.6549, 0.3647, 0.3725, 0.3294, 0.3176, 0.3216, 0.3176,\n",
      "          0.2980, 0.3373, 0.3176, 0.1255, 0.6314, 0.3529, 0.2980, 0.0000,\n",
      "          0.0000, 0.0000, 0.0000, 0.0000],\n",
      "         [0.0000, 0.0000, 0.0000, 0.0000, 0.0000, 0.4275, 0.3529, 0.3412,\n",
      "          0.2431, 0.6431, 0.3843, 0.3765, 0.3608, 0.3294, 0.3294, 0.3098,\n",
      "          0.3176, 0.3490, 0.3176, 0.1020, 0.6588, 0.3529, 0.3098, 0.0000,\n",
      "          0.0000, 0.0000, 0.0000, 0.0000],\n",
      "         [0.0000, 0.0000, 0.0000, 0.0000, 0.0000, 0.4275, 0.3647, 0.3490,\n",
      "          0.1804, 0.6118, 0.4039, 0.3765, 0.3765, 0.3608, 0.3490, 0.3373,\n",
      "          0.3294, 0.3412, 0.3529, 0.1137, 0.6471, 0.3765, 0.3373, 0.0000,\n",
      "          0.0000, 0.0000, 0.0000, 0.0000],\n",
      "         [0.0000, 0.0000, 0.0000, 0.0000, 0.0000, 0.4275, 0.3922, 0.3216,\n",
      "          0.1255, 0.6000, 0.4078, 0.3608, 0.3608, 0.3529, 0.3529, 0.3373,\n",
      "          0.3373, 0.3176, 0.3647, 0.1451, 0.6196, 0.4078, 0.3294, 0.0000,\n",
      "          0.0000, 0.0000, 0.0000, 0.0000],\n",
      "         [0.0000, 0.0000, 0.0000, 0.0000, 0.0000, 0.4275, 0.4039, 0.3098,\n",
      "          0.1255, 0.6314, 0.3765, 0.3961, 0.3922, 0.3608, 0.3608, 0.3216,\n",
      "          0.3412, 0.3098, 0.3961, 0.0588, 0.6000, 0.4157, 0.3294, 0.0000,\n",
      "          0.0000, 0.0000, 0.0000, 0.0000],\n",
      "         [0.0000, 0.0000, 0.0000, 0.0000, 0.0000, 0.4275, 0.4353, 0.2980,\n",
      "          0.2314, 0.6039, 0.3608, 0.4196, 0.4039, 0.3608, 0.3412, 0.3098,\n",
      "          0.3294, 0.3216, 0.3216, 0.4039, 0.6471, 0.4392, 0.3294, 0.0000,\n",
      "          0.0000, 0.0000, 0.0000, 0.0000],\n",
      "         [0.0000, 0.0000, 0.0000, 0.0000, 0.0000, 0.4392, 0.4471, 0.2392,\n",
      "          0.3843, 0.5569, 0.3725, 0.3961, 0.4039, 0.3765, 0.3608, 0.3373,\n",
      "          0.3725, 0.3373, 0.2941, 0.4078, 0.6353, 0.4196, 0.3490, 0.0000,\n",
      "          0.0000, 0.0000, 0.0000, 0.0000],\n",
      "         [0.0000, 0.0000, 0.0000, 0.0000, 0.0000, 0.4627, 0.4275, 0.2510,\n",
      "          0.4706, 0.4902, 0.3922, 0.4039, 0.4157, 0.3725, 0.3843, 0.3765,\n",
      "          0.3373, 0.3216, 0.3490, 0.1804, 0.5373, 0.4471, 0.3529, 0.0000,\n",
      "          0.0000, 0.0000, 0.0000, 0.0000],\n",
      "         [0.0000, 0.0000, 0.0000, 0.0000, 0.0000, 0.4588, 0.4196, 0.3216,\n",
      "          0.5373, 0.3725, 0.3373, 0.3922, 0.3765, 0.3765, 0.3765, 0.3490,\n",
      "          0.3412, 0.3412, 0.3373, 0.2510, 0.6000, 0.4784, 0.3373, 0.0000,\n",
      "          0.0000, 0.0000, 0.0000, 0.0000],\n",
      "         [0.0000, 0.0000, 0.0000, 0.0000, 0.0000, 0.5137, 0.4902, 0.3608,\n",
      "          0.5882, 0.5373, 0.4196, 0.4039, 0.4157, 0.4392, 0.4392, 0.4039,\n",
      "          0.3922, 0.3765, 0.3843, 0.2980, 0.5451, 0.5882, 0.3608, 0.0000,\n",
      "          0.0000, 0.0000, 0.0000, 0.0000],\n",
      "         [0.0000, 0.0000, 0.0000, 0.0000, 0.0000, 0.4941, 0.4902, 0.2118,\n",
      "          0.6039, 0.8863, 0.6745, 0.3765, 0.5176, 0.5137, 0.5137, 0.5020,\n",
      "          0.5020, 0.4471, 0.4824, 0.3373, 0.3176, 0.6471, 0.2941, 0.0000,\n",
      "          0.0000, 0.0000, 0.0000, 0.0000],\n",
      "         [0.0000, 0.0000, 0.0000, 0.0000, 0.0000, 0.4588, 0.5059, 0.1765,\n",
      "          0.4039, 0.8431, 0.6549, 0.2863, 0.4157, 0.3961, 0.4039, 0.3961,\n",
      "          0.3765, 0.3412, 0.3490, 0.1882, 0.3412, 0.6902, 0.2980, 0.0000,\n",
      "          0.0000, 0.0000, 0.0000, 0.0000],\n",
      "         [0.0000, 0.0000, 0.0000, 0.0000, 0.0000, 0.3725, 0.4627, 0.0471,\n",
      "          0.0000, 0.0000, 0.0000, 0.0000, 0.0000, 0.0000, 0.0000, 0.0000,\n",
      "          0.0000, 0.0000, 0.0000, 0.0000, 0.2392, 0.5451, 0.2549, 0.0000,\n",
      "          0.0000, 0.0000, 0.0000, 0.0000]]])\n",
      "torch.Size([1, 28, 28]) tensor([[[0.0000, 0.0000, 0.0000, 0.0000, 0.0000, 0.0000, 0.0000, 0.0000,\n",
      "          0.0000, 0.0000, 0.0000, 0.0000, 0.0000, 0.0000, 0.0000, 0.0000,\n",
      "          0.0000, 0.0000, 0.0000, 0.0000, 0.0000, 0.0000, 0.0000, 0.0000,\n",
      "          0.0000, 0.0000, 0.0000, 0.0000],\n",
      "         [0.0000, 0.0000, 0.0000, 0.0000, 0.0000, 0.0000, 0.0000, 0.0000,\n",
      "          0.0000, 0.0000, 0.0000, 0.0000, 0.0000, 0.0000, 0.0000, 0.0000,\n",
      "          0.0000, 0.0000, 0.0000, 0.0000, 0.0000, 0.0000, 0.0000, 0.0000,\n",
      "          0.0000, 0.0000, 0.0000, 0.0000],\n",
      "         [0.0000, 0.0000, 0.0000, 0.0000, 0.0000, 0.0000, 0.0000, 0.0000,\n",
      "          0.0000, 0.0000, 0.0000, 0.0000, 0.0000, 0.0000, 0.0000, 0.0000,\n",
      "          0.0000, 0.0000, 0.0000, 0.0000, 0.0000, 0.0000, 0.0000, 0.0000,\n",
      "          0.0000, 0.0000, 0.0000, 0.0000],\n",
      "         [0.0000, 0.0000, 0.0000, 0.0000, 0.0000, 0.0000, 0.0000, 0.0000,\n",
      "          0.0000, 0.0000, 0.0000, 0.0000, 0.0000, 0.0000, 0.0000, 0.0000,\n",
      "          0.0000, 0.0000, 0.0000, 0.0000, 0.0000, 0.0000, 0.0000, 0.0000,\n",
      "          0.0000, 0.0000, 0.0000, 0.0000],\n",
      "         [0.0000, 0.0000, 0.3922, 0.5333, 0.2431, 0.0706, 0.0000, 0.0000,\n",
      "          0.0000, 0.0000, 0.0000, 0.0000, 0.0000, 0.0000, 0.0000, 0.0000,\n",
      "          0.0000, 0.0000, 0.0000, 0.0000, 0.0000, 0.0000, 0.3412, 0.1765,\n",
      "          0.0000, 0.0000, 0.0000, 0.0000],\n",
      "         [0.0000, 0.0039, 0.4863, 0.5412, 0.6941, 0.5843, 0.4157, 0.2902,\n",
      "          0.3765, 0.3608, 0.3490, 0.3333, 0.3216, 0.3020, 0.2784, 0.2745,\n",
      "          0.2980, 0.3137, 0.3373, 0.3608, 0.3804, 0.3804, 0.5647, 0.4471,\n",
      "          0.5686, 0.5451, 0.0000, 0.0000],\n",
      "         [0.0000, 0.0235, 0.3569, 0.6667, 0.6353, 0.2118, 0.4431, 0.4706,\n",
      "          0.4667, 0.4902, 0.5020, 0.5020, 0.5020, 0.5294, 0.5255, 0.5412,\n",
      "          0.5490, 0.5647, 0.6000, 0.6275, 0.6078, 0.5686, 0.3686, 0.6039,\n",
      "          0.6275, 0.7373, 0.4275, 0.0000],\n",
      "         [0.0000, 0.0078, 0.4431, 0.7804, 0.5725, 0.4314, 0.4510, 0.4627,\n",
      "          0.4039, 0.3765, 0.3725, 0.3725, 0.3882, 0.4235, 0.4235, 0.4314,\n",
      "          0.4431, 0.4706, 0.4667, 0.4627, 0.4745, 0.4039, 0.4275, 0.8863,\n",
      "          0.6549, 0.6078, 0.6471, 0.0000],\n",
      "         [0.0000, 0.0431, 0.5608, 0.8275, 0.7647, 0.5725, 0.5725, 0.5412,\n",
      "          0.5333, 0.5608, 0.5725, 0.5608, 0.5333, 0.5490, 0.5490, 0.5608,\n",
      "          0.5725, 0.5686, 0.5686, 0.5608, 0.5490, 0.5922, 0.6824, 0.6627,\n",
      "          0.6980, 0.6980, 0.6000, 0.0000],\n",
      "         [0.0000, 0.0039, 0.5804, 0.8549, 0.5255, 0.7176, 0.7176, 0.6353,\n",
      "          0.6157, 0.6392, 0.6627, 0.6784, 0.6824, 0.6745, 0.6627, 0.6627,\n",
      "          0.6745, 0.6745, 0.6667, 0.6667, 0.6745, 0.6431, 0.8000, 0.6941,\n",
      "          0.6667, 0.6941, 0.7412, 0.0000],\n",
      "         [0.0000, 0.4039, 0.8275, 0.5843, 0.5412, 0.8549, 0.5725, 0.6941,\n",
      "          0.7020, 0.6667, 0.6235, 0.6039, 0.5922, 0.5882, 0.6078, 0.6235,\n",
      "          0.6353, 0.6431, 0.6275, 0.6196, 0.6588, 0.6784, 0.8784, 0.6941,\n",
      "          0.2706, 0.4157, 0.7647, 0.0000],\n",
      "         [0.0000, 0.9451, 0.7569, 0.7059, 0.8745, 0.7255, 0.5647, 0.6235,\n",
      "          0.6078, 0.6078, 0.6157, 0.6235, 0.6431, 0.6588, 0.6667, 0.6745,\n",
      "          0.6745, 0.6431, 0.6588, 0.6941, 0.6745, 0.6235, 0.8745, 0.7255,\n",
      "          0.3216, 0.3765, 0.7804, 0.0118],\n",
      "         [0.2157, 0.9922, 0.1176, 0.6667, 0.8902, 0.7804, 0.5843, 0.5922,\n",
      "          0.6392, 0.6627, 0.6784, 0.6980, 0.7176, 0.7216, 0.7176, 0.7137,\n",
      "          0.6980, 0.6863, 0.6784, 0.6588, 0.6471, 0.6275, 0.9176, 0.7216,\n",
      "          0.3490, 0.3098, 0.7569, 0.1020],\n",
      "         [0.5922, 0.6275, 0.0667, 0.6627, 0.8510, 0.7059, 0.6627, 0.6980,\n",
      "          0.6824, 0.6863, 0.6980, 0.6941, 0.6824, 0.6667, 0.6784, 0.6784,\n",
      "          0.6745, 0.6745, 0.6784, 0.6667, 0.6863, 0.6745, 0.9961, 0.7843,\n",
      "          0.3725, 0.2980, 0.7255, 0.1882],\n",
      "         [0.8588, 0.1059, 0.2314, 0.7765, 0.8314, 0.6000, 0.6157, 0.6275,\n",
      "          0.6980, 0.6980, 0.6784, 0.6549, 0.6353, 0.6392, 0.6549, 0.6745,\n",
      "          0.6824, 0.6588, 0.6275, 0.6157, 0.6392, 0.6392, 0.9059, 0.8314,\n",
      "          0.3529, 0.2157, 0.6627, 0.2588],\n",
      "         [0.7843, 0.0000, 0.3765, 0.8314, 0.9137, 0.6471, 0.6980, 0.6745,\n",
      "          0.7176, 0.6980, 0.6745, 0.6627, 0.6863, 0.6980, 0.7020, 0.7020,\n",
      "          0.6941, 0.6863, 0.6784, 0.6431, 0.6549, 0.6549, 0.8902, 0.7961,\n",
      "          0.5137, 0.5451, 0.7804, 0.2588],\n",
      "         [0.6235, 0.0000, 0.5490, 0.8510, 0.8353, 0.6000, 0.6667, 0.6588,\n",
      "          0.7176, 0.7216, 0.7216, 0.7176, 0.7059, 0.7020, 0.7059, 0.6980,\n",
      "          0.6824, 0.6667, 0.6627, 0.6471, 0.6431, 0.6784, 0.6784, 0.7020,\n",
      "          0.8078, 0.8510, 0.7843, 0.0314],\n",
      "         [0.5529, 0.0000, 0.7176, 0.8510, 0.8588, 0.7059, 0.7333, 0.7020,\n",
      "          0.7216, 0.7137, 0.7255, 0.7216, 0.6824, 0.6745, 0.6824, 0.6745,\n",
      "          0.6549, 0.6549, 0.6745, 0.6667, 0.6588, 0.6863, 0.6235, 0.6235,\n",
      "          0.6784, 0.6941, 0.8196, 0.0863],\n",
      "         [0.4902, 0.0039, 0.6824, 0.7255, 0.8314, 0.6039, 0.7333, 0.7059,\n",
      "          0.6980, 0.6627, 0.6627, 0.6824, 0.6471, 0.6471, 0.6549, 0.6549,\n",
      "          0.6392, 0.6431, 0.6667, 0.6745, 0.6588, 0.6549, 0.6588, 0.6471,\n",
      "          0.6941, 0.6588, 0.8000, 0.1451],\n",
      "         [0.2196, 0.1255, 0.5725, 0.7412, 0.9294, 0.6196, 0.7176, 0.6980,\n",
      "          0.7020, 0.6824, 0.6392, 0.6157, 0.6235, 0.6078, 0.6078, 0.6078,\n",
      "          0.6000, 0.6000, 0.6157, 0.6275, 0.6157, 0.6000, 0.6392, 0.6471,\n",
      "          0.6745, 0.6549, 0.6941, 0.1843],\n",
      "         [0.0000, 0.5020, 0.6471, 0.8902, 0.9922, 0.8706, 0.8353, 0.8745,\n",
      "          0.8196, 0.7843, 0.8078, 0.7451, 0.7451, 0.7529, 0.7451, 0.7373,\n",
      "          0.7412, 0.7216, 0.7137, 0.7059, 0.7216, 0.6784, 0.6863, 0.6824,\n",
      "          0.6588, 0.6745, 0.6980, 0.1490],\n",
      "         [0.0824, 0.9333, 0.6824, 0.7137, 0.6549, 0.6784, 0.7412, 0.7725,\n",
      "          0.7529, 0.5020, 0.3725, 0.4078, 0.3020, 0.2510, 0.2824, 0.3137,\n",
      "          0.3333, 0.3569, 0.3765, 0.3804, 0.4039, 0.4314, 0.5216, 0.5529,\n",
      "          0.7059, 0.6078, 0.4902, 0.0000],\n",
      "         [0.0863, 0.8275, 0.7020, 0.6549, 0.6392, 0.6627, 0.6863, 0.6588,\n",
      "          0.8353, 0.2706, 0.0000, 0.0000, 0.0000, 0.0000, 0.0000, 0.0000,\n",
      "          0.0000, 0.0000, 0.0000, 0.0000, 0.0000, 0.0000, 0.0000, 0.0000,\n",
      "          0.0000, 0.0000, 0.0000, 0.0000],\n",
      "         [0.0000, 0.2235, 0.3804, 0.5255, 0.5216, 0.5255, 0.5255, 0.4118,\n",
      "          0.3216, 0.0706, 0.0000, 0.0118, 0.0078, 0.0000, 0.0000, 0.0039,\n",
      "          0.0039, 0.0039, 0.0039, 0.0039, 0.0039, 0.0000, 0.0118, 0.0000,\n",
      "          0.0000, 0.0000, 0.0000, 0.0039],\n",
      "         [0.0000, 0.0000, 0.0000, 0.0000, 0.0000, 0.0000, 0.0000, 0.0000,\n",
      "          0.0000, 0.0000, 0.0000, 0.0000, 0.0000, 0.0000, 0.0000, 0.0000,\n",
      "          0.0000, 0.0000, 0.0000, 0.0000, 0.0000, 0.0000, 0.0000, 0.0000,\n",
      "          0.0000, 0.0000, 0.0000, 0.0000],\n",
      "         [0.0000, 0.0000, 0.0000, 0.0000, 0.0000, 0.0000, 0.0000, 0.0000,\n",
      "          0.0000, 0.0000, 0.0000, 0.0000, 0.0000, 0.0000, 0.0000, 0.0000,\n",
      "          0.0000, 0.0000, 0.0000, 0.0000, 0.0000, 0.0000, 0.0000, 0.0000,\n",
      "          0.0000, 0.0000, 0.0000, 0.0000],\n",
      "         [0.0000, 0.0000, 0.0000, 0.0000, 0.0000, 0.0000, 0.0000, 0.0000,\n",
      "          0.0000, 0.0000, 0.0000, 0.0000, 0.0000, 0.0000, 0.0000, 0.0000,\n",
      "          0.0000, 0.0000, 0.0000, 0.0000, 0.0000, 0.0000, 0.0000, 0.0000,\n",
      "          0.0000, 0.0000, 0.0000, 0.0000],\n",
      "         [0.0000, 0.0000, 0.0000, 0.0000, 0.0000, 0.0000, 0.0000, 0.0000,\n",
      "          0.0000, 0.0000, 0.0000, 0.0000, 0.0000, 0.0000, 0.0000, 0.0000,\n",
      "          0.0000, 0.0000, 0.0000, 0.0000, 0.0000, 0.0000, 0.0000, 0.0000,\n",
      "          0.0000, 0.0000, 0.0000, 0.0000]]])\n",
      "torch.Size([1, 28, 28]) tensor([[[0.0000, 0.0000, 0.0000, 0.0000, 0.0000, 0.0000, 0.0078, 0.0000,\n",
      "          0.0000, 0.0000, 0.0000, 0.0000, 0.1765, 0.3529, 0.2784, 0.0000,\n",
      "          0.0000, 0.0000, 0.0000, 0.0000, 0.0000, 0.0000, 0.0000, 0.0000,\n",
      "          0.0000, 0.0000, 0.0000, 0.0000],\n",
      "         [0.0000, 0.0000, 0.0000, 0.0000, 0.0000, 0.0000, 0.0039, 0.0118,\n",
      "          0.0000, 0.0000, 0.0000, 0.9176, 0.9608, 0.9647, 0.9608, 1.0000,\n",
      "          0.1804, 0.0000, 0.0000, 0.0000, 0.0078, 0.0078, 0.0000, 0.0000,\n",
      "          0.0000, 0.0000, 0.0000, 0.0000],\n",
      "         [0.0000, 0.0000, 0.0000, 0.0000, 0.0000, 0.0000, 0.0000, 0.0000,\n",
      "          0.0000, 0.0000, 0.4706, 0.9216, 0.8902, 0.8118, 0.8471, 0.9529,\n",
      "          0.7804, 0.1647, 0.0000, 0.0000, 0.0000, 0.0000, 0.0000, 0.0039,\n",
      "          0.0000, 0.0000, 0.0000, 0.0000],\n",
      "         [0.0000, 0.0000, 0.0000, 0.0000, 0.0000, 0.0000, 0.0000, 0.2392,\n",
      "          0.6510, 0.9333, 0.8627, 0.7647, 0.9569, 0.9176, 0.9373, 0.8667,\n",
      "          0.7216, 0.9373, 0.8510, 0.5843, 0.2078, 0.0000, 0.0000, 0.0000,\n",
      "          0.0000, 0.0000, 0.0000, 0.0000],\n",
      "         [0.0000, 0.0000, 0.0000, 0.0000, 0.0000, 0.0824, 0.6980, 0.8000,\n",
      "          0.7725, 0.7373, 0.7216, 0.7490, 0.7176, 0.8588, 0.9961, 0.7294,\n",
      "          0.6902, 0.7333, 0.7490, 0.7804, 0.7882, 0.8549, 0.0941, 0.0000,\n",
      "          0.0000, 0.0000, 0.0000, 0.0000],\n",
      "         [0.0000, 0.0000, 0.0000, 0.0000, 0.0000, 0.7608, 0.7725, 0.6941,\n",
      "          0.7137, 0.7686, 0.7373, 0.7961, 0.7294, 0.7529, 0.8392, 0.8902,\n",
      "          0.8392, 0.7804, 0.7569, 0.7294, 0.7137, 0.7686, 0.8353, 0.0000,\n",
      "          0.0000, 0.0000, 0.0000, 0.0000],\n",
      "         [0.0000, 0.0000, 0.0000, 0.0000, 0.2039, 0.7843, 0.7059, 0.7490,\n",
      "          0.7647, 0.6627, 0.7412, 0.7216, 0.7333, 0.7294, 0.8275, 0.7451,\n",
      "          0.7216, 0.5412, 0.6431, 0.7059, 0.7647, 0.7059, 0.7961, 0.4039,\n",
      "          0.0000, 0.0000, 0.0000, 0.0000],\n",
      "         [0.0000, 0.0000, 0.0000, 0.0000, 0.4980, 0.8039, 0.7176, 0.8000,\n",
      "          0.3333, 0.0784, 0.3569, 0.7922, 0.7804, 0.6549, 0.7137, 0.7490,\n",
      "          0.6431, 0.5137, 0.5020, 0.6706, 0.7569, 0.7255, 0.8078, 0.6745,\n",
      "          0.0000, 0.0000, 0.0000, 0.0000],\n",
      "         [0.0000, 0.0000, 0.0000, 0.0000, 0.7412, 0.8196, 0.7490, 0.7490,\n",
      "          0.2078, 0.0706, 0.4980, 0.7490, 0.7569, 0.7490, 0.7294, 0.7216,\n",
      "          0.6667, 0.6588, 0.5804, 0.7137, 0.7451, 0.7529, 0.7843, 0.8588,\n",
      "          0.0000, 0.0000, 0.0000, 0.0000],\n",
      "         [0.0000, 0.0000, 0.0000, 0.1569, 0.7647, 0.7922, 0.8000, 0.7451,\n",
      "          0.7294, 0.6902, 0.8314, 0.7843, 0.7529, 0.7333, 0.7608, 0.7922,\n",
      "          0.8235, 0.7843, 0.7647, 0.7569, 0.7098, 0.7882, 0.7882, 0.7843,\n",
      "          0.2039, 0.0000, 0.0000, 0.0000],\n",
      "         [0.0000, 0.0000, 0.0000, 0.5451, 0.8314, 0.7882, 0.8196, 0.7137,\n",
      "          0.7843, 0.8353, 0.6510, 0.6196, 0.4353, 0.4627, 0.8275, 0.3804,\n",
      "          0.4824, 0.7451, 0.8314, 0.7882, 0.7412, 0.8196, 0.7804, 0.8157,\n",
      "          0.4863, 0.0000, 0.0000, 0.0000],\n",
      "         [0.0000, 0.0000, 0.0000, 0.1098, 0.6196, 0.7843, 0.9490, 0.8000,\n",
      "          0.7647, 0.4863, 0.3059, 0.2314, 0.5137, 0.3098, 0.8980, 0.2000,\n",
      "          0.3137, 0.1725, 0.4353, 0.6824, 0.8431, 0.9333, 0.7765, 0.8118,\n",
      "          0.2588, 0.0000, 0.0000, 0.0000],\n",
      "         [0.0000, 0.0000, 0.0000, 0.0000, 0.0000, 0.0118, 0.3255, 0.5216,\n",
      "          0.6941, 0.1490, 0.5333, 0.1529, 0.3569, 0.1490, 0.5922, 0.2510,\n",
      "          0.2471, 0.0980, 0.3608, 0.6588, 0.6078, 0.2235, 0.0784, 0.0000,\n",
      "          0.0000, 0.0000, 0.0000, 0.0000],\n",
      "         [0.0000, 0.0000, 0.0000, 0.0000, 0.0000, 0.0000, 0.0000, 0.1059,\n",
      "          0.8549, 0.2510, 0.3098, 0.6902, 0.7843, 0.8000, 0.7569, 0.7608,\n",
      "          0.7569, 0.5490, 0.2471, 0.6941, 0.4118, 0.0000, 0.0000, 0.0000,\n",
      "          0.0000, 0.0000, 0.0000, 0.0000],\n",
      "         [0.0000, 0.0000, 0.0000, 0.0000, 0.0000, 0.0118, 0.0000, 0.0431,\n",
      "          0.8941, 0.6078, 0.8549, 0.7569, 0.7216, 0.7098, 0.7294, 0.7255,\n",
      "          0.7608, 0.8588, 0.5843, 0.8275, 0.4039, 0.0000, 0.0196, 0.0000,\n",
      "          0.0000, 0.0000, 0.0000, 0.0000],\n",
      "         [0.0000, 0.0000, 0.0000, 0.0000, 0.0000, 0.0078, 0.0000, 0.0000,\n",
      "          0.8235, 0.6863, 0.6824, 0.6941, 0.7294, 0.7137, 0.7098, 0.7098,\n",
      "          0.7020, 0.7216, 0.6824, 0.7529, 0.3255, 0.0000, 0.0157, 0.0000,\n",
      "          0.0000, 0.0000, 0.0000, 0.0000],\n",
      "         [0.0000, 0.0000, 0.0000, 0.0000, 0.0000, 0.0078, 0.0000, 0.0000,\n",
      "          0.7961, 0.6784, 0.7098, 0.7255, 0.7255, 0.7098, 0.7098, 0.7098,\n",
      "          0.7098, 0.7020, 0.6706, 0.7255, 0.3216, 0.0000, 0.0118, 0.0000,\n",
      "          0.0000, 0.0000, 0.0000, 0.0000],\n",
      "         [0.0000, 0.0000, 0.0000, 0.0000, 0.0000, 0.0078, 0.0000, 0.0000,\n",
      "          0.8039, 0.6667, 0.7098, 0.7216, 0.7176, 0.6941, 0.7137, 0.7137,\n",
      "          0.7176, 0.6902, 0.6745, 0.7216, 0.3294, 0.0000, 0.0157, 0.0000,\n",
      "          0.0000, 0.0000, 0.0000, 0.0000],\n",
      "         [0.0000, 0.0000, 0.0000, 0.0000, 0.0000, 0.0078, 0.0000, 0.0000,\n",
      "          0.7843, 0.6627, 0.7216, 0.7216, 0.7137, 0.6941, 0.7216, 0.7176,\n",
      "          0.7137, 0.6902, 0.6588, 0.7294, 0.3961, 0.0000, 0.0118, 0.0000,\n",
      "          0.0000, 0.0000, 0.0000, 0.0000],\n",
      "         [0.0000, 0.0000, 0.0000, 0.0000, 0.0000, 0.0078, 0.0000, 0.0000,\n",
      "          0.7608, 0.6667, 0.7294, 0.7255, 0.7098, 0.7020, 0.7294, 0.7176,\n",
      "          0.7098, 0.7059, 0.6510, 0.7333, 0.5020, 0.0000, 0.0000, 0.0000,\n",
      "          0.0000, 0.0000, 0.0000, 0.0000],\n",
      "         [0.0000, 0.0000, 0.0000, 0.0000, 0.0000, 0.0078, 0.0000, 0.0000,\n",
      "          0.7529, 0.6784, 0.7294, 0.7294, 0.7137, 0.7020, 0.7333, 0.7176,\n",
      "          0.7137, 0.6980, 0.6627, 0.7216, 0.5529, 0.0000, 0.0000, 0.0000,\n",
      "          0.0000, 0.0000, 0.0000, 0.0000],\n",
      "         [0.0000, 0.0000, 0.0000, 0.0000, 0.0000, 0.0078, 0.0000, 0.0000,\n",
      "          0.7608, 0.6902, 0.7176, 0.7412, 0.7137, 0.6941, 0.7216, 0.7255,\n",
      "          0.7176, 0.6863, 0.6863, 0.7294, 0.6000, 0.0000, 0.0000, 0.0000,\n",
      "          0.0000, 0.0000, 0.0000, 0.0000],\n",
      "         [0.0000, 0.0000, 0.0000, 0.0000, 0.0000, 0.0078, 0.0000, 0.0000,\n",
      "          0.7529, 0.6902, 0.7216, 0.7373, 0.7020, 0.6941, 0.7333, 0.7176,\n",
      "          0.7216, 0.6941, 0.6784, 0.7255, 0.6510, 0.0000, 0.0000, 0.0000,\n",
      "          0.0000, 0.0000, 0.0000, 0.0000],\n",
      "         [0.0000, 0.0000, 0.0000, 0.0000, 0.0000, 0.0078, 0.0000, 0.0000,\n",
      "          0.7529, 0.6941, 0.7216, 0.7373, 0.6902, 0.6980, 0.7451, 0.7176,\n",
      "          0.7333, 0.7020, 0.6745, 0.7255, 0.6745, 0.0000, 0.0000, 0.0000,\n",
      "          0.0000, 0.0000, 0.0000, 0.0000],\n",
      "         [0.0000, 0.0000, 0.0000, 0.0000, 0.0000, 0.0078, 0.0000, 0.0000,\n",
      "          0.7647, 0.7059, 0.7216, 0.7333, 0.6745, 0.6902, 0.7451, 0.7098,\n",
      "          0.7176, 0.7098, 0.6784, 0.7294, 0.6706, 0.0000, 0.0000, 0.0039,\n",
      "          0.0000, 0.0000, 0.0000, 0.0000],\n",
      "         [0.0000, 0.0000, 0.0000, 0.0000, 0.0000, 0.0078, 0.0000, 0.0000,\n",
      "          0.7451, 0.7059, 0.7137, 0.7059, 0.6824, 0.6980, 0.7255, 0.6863,\n",
      "          0.6941, 0.7020, 0.6745, 0.7255, 0.6784, 0.0000, 0.0000, 0.0039,\n",
      "          0.0000, 0.0000, 0.0000, 0.0000],\n",
      "         [0.0000, 0.0000, 0.0000, 0.0000, 0.0000, 0.0118, 0.0000, 0.0000,\n",
      "          0.8471, 0.7412, 0.7882, 0.7686, 0.7373, 0.7725, 0.7725, 0.7294,\n",
      "          0.7294, 0.7451, 0.7412, 0.7686, 0.7765, 0.0000, 0.0000, 0.0000,\n",
      "          0.0000, 0.0000, 0.0000, 0.0000],\n",
      "         [0.0000, 0.0000, 0.0000, 0.0000, 0.0000, 0.0078, 0.0000, 0.0000,\n",
      "          0.5373, 0.5804, 0.5451, 0.5765, 0.5451, 0.5843, 0.6196, 0.6275,\n",
      "          0.6275, 0.6275, 0.6000, 0.6353, 0.5843, 0.0000, 0.0000, 0.0078,\n",
      "          0.0000, 0.0000, 0.0000, 0.0000]]])\n",
      "torch.Size([1, 28, 28]) tensor([[[0.0000, 0.0000, 0.0000, 0.0000, 0.0000, 0.0000, 0.0000, 0.0000,\n",
      "          0.0000, 0.0000, 0.0039, 0.0000, 0.0157, 0.2157, 0.0000, 0.2078,\n",
      "          0.0000, 0.0000, 0.0039, 0.0000, 0.0000, 0.0000, 0.0000, 0.0000,\n",
      "          0.0000, 0.0000, 0.0000, 0.0000],\n",
      "         [0.0000, 0.0000, 0.0000, 0.0000, 0.0000, 0.0000, 0.0000, 0.0000,\n",
      "          0.0000, 0.0000, 0.0000, 0.0000, 0.1176, 0.8039, 0.6157, 0.6784,\n",
      "          0.0000, 0.0000, 0.0078, 0.0000, 0.0000, 0.0000, 0.0000, 0.0000,\n",
      "          0.0000, 0.0000, 0.0000, 0.0000],\n",
      "         [0.0000, 0.0000, 0.0000, 0.0000, 0.0000, 0.0000, 0.0000, 0.0000,\n",
      "          0.0000, 0.0000, 0.0000, 0.0000, 0.7176, 0.6078, 0.6784, 0.7137,\n",
      "          0.3765, 0.0000, 0.0000, 0.0000, 0.0000, 0.0000, 0.0000, 0.0000,\n",
      "          0.0000, 0.0000, 0.0000, 0.0000],\n",
      "         [0.0000, 0.0000, 0.0000, 0.0000, 0.0000, 0.0000, 0.0000, 0.0000,\n",
      "          0.0000, 0.0000, 0.0000, 0.2431, 0.7490, 0.5765, 0.7059, 0.7255,\n",
      "          0.6275, 0.0392, 0.0000, 0.0000, 0.0000, 0.0000, 0.0000, 0.0000,\n",
      "          0.0000, 0.0000, 0.0000, 0.0000],\n",
      "         [0.0000, 0.0000, 0.0000, 0.0000, 0.0000, 0.0000, 0.0000, 0.0000,\n",
      "          0.0000, 0.0000, 0.0000, 0.2902, 0.8235, 0.6745, 0.6941, 0.7059,\n",
      "          0.6431, 0.0824, 0.0000, 0.0000, 0.0000, 0.0000, 0.0000, 0.0000,\n",
      "          0.0000, 0.0000, 0.0000, 0.0000],\n",
      "         [0.0000, 0.0000, 0.0000, 0.0000, 0.0000, 0.0000, 0.0000, 0.0000,\n",
      "          0.0000, 0.0000, 0.0000, 0.4039, 0.8000, 0.6902, 0.6824, 0.6431,\n",
      "          0.7882, 0.1882, 0.0000, 0.0000, 0.0000, 0.0000, 0.0000, 0.0000,\n",
      "          0.0000, 0.0000, 0.0000, 0.0000],\n",
      "         [0.0000, 0.0000, 0.0000, 0.0000, 0.0000, 0.0000, 0.0000, 0.0000,\n",
      "          0.0000, 0.0000, 0.0000, 0.3137, 0.7176, 0.6941, 0.6824, 0.5843,\n",
      "          0.7255, 0.1922, 0.0000, 0.0000, 0.0000, 0.0000, 0.0000, 0.0000,\n",
      "          0.0000, 0.0000, 0.0000, 0.0000],\n",
      "         [0.0000, 0.0000, 0.0000, 0.0000, 0.0000, 0.0000, 0.0000, 0.0000,\n",
      "          0.0000, 0.0000, 0.0000, 0.0000, 0.6863, 0.7176, 0.6510, 0.6157,\n",
      "          0.4078, 0.0000, 0.0000, 0.0000, 0.0000, 0.0000, 0.0000, 0.0000,\n",
      "          0.0000, 0.0000, 0.0000, 0.0000],\n",
      "         [0.0000, 0.0000, 0.0000, 0.0000, 0.0000, 0.0000, 0.0000, 0.0000,\n",
      "          0.0000, 0.0000, 0.0000, 0.1608, 0.8392, 0.6863, 0.6392, 0.6392,\n",
      "          0.5804, 0.0078, 0.0000, 0.0000, 0.0000, 0.0000, 0.0000, 0.0000,\n",
      "          0.0000, 0.0000, 0.0000, 0.0000],\n",
      "         [0.0000, 0.0000, 0.0000, 0.0000, 0.0000, 0.0000, 0.0000, 0.0000,\n",
      "          0.0000, 0.0000, 0.0000, 0.4000, 0.7216, 0.6784, 0.6078, 0.6667,\n",
      "          0.6353, 0.1451, 0.0000, 0.0000, 0.0000, 0.0000, 0.0000, 0.0000,\n",
      "          0.0000, 0.0000, 0.0000, 0.0000],\n",
      "         [0.0000, 0.0000, 0.0000, 0.0000, 0.0000, 0.0000, 0.0000, 0.0000,\n",
      "          0.0000, 0.0000, 0.0000, 0.5882, 0.7137, 0.6902, 0.5843, 0.7020,\n",
      "          0.6235, 0.3176, 0.0000, 0.0000, 0.0000, 0.0000, 0.0000, 0.0000,\n",
      "          0.0000, 0.0000, 0.0000, 0.0000],\n",
      "         [0.0000, 0.0000, 0.0000, 0.0000, 0.0000, 0.0000, 0.0000, 0.0000,\n",
      "          0.0000, 0.0000, 0.0000, 0.7020, 0.7059, 0.7020, 0.5725, 0.7216,\n",
      "          0.6118, 0.4745, 0.0000, 0.0000, 0.0000, 0.0000, 0.0000, 0.0000,\n",
      "          0.0000, 0.0000, 0.0000, 0.0000],\n",
      "         [0.0000, 0.0000, 0.0000, 0.0000, 0.0000, 0.0000, 0.0000, 0.0000,\n",
      "          0.0000, 0.0000, 0.0000, 0.7843, 0.6941, 0.7059, 0.5843, 0.7451,\n",
      "          0.5922, 0.5725, 0.0000, 0.0000, 0.0000, 0.0000, 0.0000, 0.0000,\n",
      "          0.0000, 0.0000, 0.0000, 0.0000],\n",
      "         [0.0000, 0.0000, 0.0000, 0.0000, 0.0000, 0.0000, 0.0000, 0.0000,\n",
      "          0.0000, 0.0000, 0.0275, 0.8431, 0.6863, 0.7255, 0.5882, 0.7608,\n",
      "          0.5804, 0.6549, 0.0039, 0.0000, 0.0000, 0.0000, 0.0000, 0.0000,\n",
      "          0.0000, 0.0000, 0.0000, 0.0000],\n",
      "         [0.0000, 0.0000, 0.0000, 0.0000, 0.0000, 0.0000, 0.0000, 0.0000,\n",
      "          0.0000, 0.0000, 0.0353, 0.8510, 0.6824, 0.7412, 0.5922, 0.7765,\n",
      "          0.5765, 0.7098, 0.0549, 0.0000, 0.0000, 0.0000, 0.0000, 0.0000,\n",
      "          0.0000, 0.0000, 0.0000, 0.0000],\n",
      "         [0.0000, 0.0000, 0.0000, 0.0000, 0.0000, 0.0000, 0.0000, 0.0000,\n",
      "          0.0000, 0.0000, 0.1059, 0.8784, 0.6667, 0.7451, 0.6078, 0.7686,\n",
      "          0.5804, 0.7255, 0.0863, 0.0000, 0.0000, 0.0000, 0.0000, 0.0000,\n",
      "          0.0000, 0.0000, 0.0000, 0.0000],\n",
      "         [0.0000, 0.0000, 0.0000, 0.0000, 0.0000, 0.0000, 0.0000, 0.0000,\n",
      "          0.0000, 0.0000, 0.1686, 0.8706, 0.6667, 0.7569, 0.6078, 0.7608,\n",
      "          0.5922, 0.7451, 0.1216, 0.0000, 0.0000, 0.0000, 0.0000, 0.0000,\n",
      "          0.0000, 0.0000, 0.0000, 0.0000],\n",
      "         [0.0000, 0.0000, 0.0000, 0.0000, 0.0000, 0.0000, 0.0000, 0.0000,\n",
      "          0.0000, 0.0000, 0.2392, 0.8667, 0.6706, 0.7686, 0.6039, 0.7608,\n",
      "          0.6000, 0.7804, 0.1765, 0.0000, 0.0000, 0.0000, 0.0000, 0.0000,\n",
      "          0.0000, 0.0000, 0.0000, 0.0000],\n",
      "         [0.0000, 0.0000, 0.0000, 0.0000, 0.0000, 0.0000, 0.0000, 0.0000,\n",
      "          0.0000, 0.0000, 0.3020, 0.8549, 0.6667, 0.7686, 0.6039, 0.7686,\n",
      "          0.6118, 0.8078, 0.2392, 0.0000, 0.0000, 0.0000, 0.0000, 0.0000,\n",
      "          0.0000, 0.0000, 0.0000, 0.0000],\n",
      "         [0.0000, 0.0000, 0.0000, 0.0000, 0.0000, 0.0000, 0.0000, 0.0000,\n",
      "          0.0000, 0.0000, 0.3373, 0.8431, 0.6588, 0.7882, 0.6118, 0.7843,\n",
      "          0.6353, 0.8196, 0.2784, 0.0000, 0.0000, 0.0000, 0.0000, 0.0000,\n",
      "          0.0000, 0.0000, 0.0000, 0.0000],\n",
      "         [0.0000, 0.0000, 0.0000, 0.0000, 0.0000, 0.0000, 0.0000, 0.0000,\n",
      "          0.0000, 0.0000, 0.3686, 0.8353, 0.6745, 0.8196, 0.6235, 0.8039,\n",
      "          0.6549, 0.8392, 0.3020, 0.0000, 0.0000, 0.0000, 0.0000, 0.0000,\n",
      "          0.0000, 0.0000, 0.0000, 0.0000],\n",
      "         [0.0000, 0.0000, 0.0000, 0.0000, 0.0000, 0.0000, 0.0000, 0.0000,\n",
      "          0.0000, 0.0000, 0.4000, 0.8431, 0.6745, 0.8275, 0.6353, 0.8157,\n",
      "          0.6706, 0.8392, 0.3333, 0.0000, 0.0000, 0.0000, 0.0000, 0.0000,\n",
      "          0.0000, 0.0000, 0.0000, 0.0000],\n",
      "         [0.0000, 0.0000, 0.0000, 0.0000, 0.0000, 0.0000, 0.0000, 0.0000,\n",
      "          0.0000, 0.0000, 0.4392, 0.8471, 0.6824, 0.8471, 0.6353, 0.8275,\n",
      "          0.6863, 0.8157, 0.3922, 0.0000, 0.0000, 0.0000, 0.0000, 0.0000,\n",
      "          0.0000, 0.0000, 0.0000, 0.0000],\n",
      "         [0.0000, 0.0000, 0.0000, 0.0000, 0.0000, 0.0000, 0.0000, 0.0000,\n",
      "          0.0000, 0.0000, 0.4863, 0.8667, 0.7098, 0.8667, 0.6471, 0.8471,\n",
      "          0.7255, 0.7843, 0.4471, 0.0000, 0.0000, 0.0000, 0.0000, 0.0000,\n",
      "          0.0000, 0.0000, 0.0000, 0.0000],\n",
      "         [0.0000, 0.0000, 0.0000, 0.0000, 0.0000, 0.0000, 0.0000, 0.0000,\n",
      "          0.0000, 0.0000, 0.5137, 0.8706, 0.7176, 0.8706, 0.6510, 0.8667,\n",
      "          0.7490, 0.7569, 0.4902, 0.0000, 0.0000, 0.0000, 0.0000, 0.0000,\n",
      "          0.0000, 0.0000, 0.0000, 0.0000],\n",
      "         [0.0000, 0.0000, 0.0000, 0.0000, 0.0000, 0.0000, 0.0000, 0.0000,\n",
      "          0.0000, 0.0000, 0.5451, 0.8039, 0.8000, 0.9529, 0.6118, 0.8784,\n",
      "          0.7765, 0.7569, 0.5412, 0.0000, 0.0000, 0.0000, 0.0000, 0.0000,\n",
      "          0.0000, 0.0000, 0.0000, 0.0000],\n",
      "         [0.0000, 0.0000, 0.0000, 0.0000, 0.0000, 0.0000, 0.0000, 0.0000,\n",
      "          0.0000, 0.0000, 0.5804, 1.0000, 0.7765, 0.7804, 0.8235, 0.9451,\n",
      "          0.8431, 0.8118, 0.5451, 0.0000, 0.0000, 0.0000, 0.0000, 0.0000,\n",
      "          0.0000, 0.0000, 0.0000, 0.0000],\n",
      "         [0.0000, 0.0000, 0.0000, 0.0000, 0.0000, 0.0000, 0.0000, 0.0000,\n",
      "          0.0000, 0.0000, 0.0000, 0.4941, 0.0000, 0.2431, 0.6000, 0.0902,\n",
      "          0.5255, 0.3373, 0.0000, 0.0000, 0.0000, 0.0000, 0.0000, 0.0000,\n",
      "          0.0000, 0.0000, 0.0000, 0.0000]]])\n",
      "torch.Size([1, 28, 28]) tensor([[[0.0000, 0.0000, 0.0000, 0.0000, 0.0000, 0.0000, 0.0000, 0.0000,\n",
      "          0.0078, 0.0000, 0.0000, 0.5412, 0.4275, 0.4314, 0.4000, 0.3059,\n",
      "          0.3882, 0.4627, 0.4784, 0.3804, 0.0157, 0.0000, 0.0000, 0.0000,\n",
      "          0.0000, 0.0000, 0.0000, 0.0000],\n",
      "         [0.0000, 0.0000, 0.0000, 0.0000, 0.0000, 0.0000, 0.0000, 0.0000,\n",
      "          0.0039, 0.0000, 0.2392, 0.8431, 0.8000, 0.8863, 0.9961, 0.8980,\n",
      "          0.8627, 0.8431, 0.8353, 0.7725, 0.3490, 0.0000, 0.0000, 0.0000,\n",
      "          0.0000, 0.0000, 0.0000, 0.0000],\n",
      "         [0.0000, 0.0000, 0.0000, 0.0000, 0.0000, 0.0000, 0.0000, 0.0000,\n",
      "          0.0078, 0.0000, 0.4431, 0.7922, 0.7412, 0.7176, 0.7529, 0.7255,\n",
      "          0.7294, 0.7294, 0.6196, 0.6745, 0.3373, 0.0000, 0.0000, 0.0000,\n",
      "          0.0000, 0.0000, 0.0000, 0.0000],\n",
      "         [0.0000, 0.0000, 0.0000, 0.0000, 0.0000, 0.0000, 0.0000, 0.0000,\n",
      "          0.0000, 0.0000, 0.7804, 0.7961, 0.7333, 0.8078, 0.8118, 0.6275,\n",
      "          0.7373, 0.7569, 0.7137, 0.7765, 0.4588, 0.0000, 0.0000, 0.0000,\n",
      "          0.0000, 0.0000, 0.0000, 0.0000],\n",
      "         [0.0000, 0.0000, 0.0000, 0.0000, 0.0000, 0.0000, 0.0000, 0.0000,\n",
      "          0.0000, 0.0824, 0.8235, 0.7451, 0.7490, 0.7765, 0.8314, 0.8118,\n",
      "          0.8235, 0.7490, 0.7294, 0.7373, 0.5412, 0.0000, 0.0000, 0.0000,\n",
      "          0.0000, 0.0000, 0.0000, 0.0000],\n",
      "         [0.0000, 0.0000, 0.0000, 0.0000, 0.0000, 0.0000, 0.0000, 0.0000,\n",
      "          0.0000, 0.2000, 0.8314, 0.7373, 0.7647, 0.8078, 0.7843, 0.8039,\n",
      "          0.8118, 0.7882, 0.7529, 0.7529, 0.5569, 0.0000, 0.0000, 0.0000,\n",
      "          0.0000, 0.0000, 0.0000, 0.0000],\n",
      "         [0.0000, 0.0000, 0.0000, 0.0000, 0.0000, 0.0000, 0.0000, 0.0000,\n",
      "          0.0000, 0.4235, 0.8157, 0.7059, 0.7333, 0.7765, 0.7412, 0.7569,\n",
      "          0.8157, 0.7686, 0.6980, 0.7294, 0.5020, 0.0000, 0.0000, 0.0000,\n",
      "          0.0000, 0.0000, 0.0000, 0.0000],\n",
      "         [0.0000, 0.0000, 0.0000, 0.0000, 0.0000, 0.0000, 0.0000, 0.0000,\n",
      "          0.0000, 0.5608, 0.8039, 0.6784, 0.7451, 0.7686, 0.8314, 0.9098,\n",
      "          0.8549, 0.7765, 0.7137, 0.7098, 0.4588, 0.0000, 0.0000, 0.0000,\n",
      "          0.0000, 0.0000, 0.0000, 0.0000],\n",
      "         [0.0000, 0.0000, 0.0000, 0.0000, 0.0000, 0.0000, 0.0000, 0.0000,\n",
      "          0.0000, 0.7255, 0.7725, 0.6784, 0.7216, 0.8118, 0.5137, 0.0863,\n",
      "          1.0000, 0.7373, 0.6824, 0.7020, 0.4078, 0.0000, 0.0000, 0.0000,\n",
      "          0.0000, 0.0000, 0.0000, 0.0000],\n",
      "         [0.0000, 0.0000, 0.0000, 0.0000, 0.0000, 0.0000, 0.0000, 0.0000,\n",
      "          0.0000, 0.8510, 0.7294, 0.7020, 0.7098, 0.8863, 0.0000, 0.0000,\n",
      "          1.0000, 0.8118, 0.6588, 0.7216, 0.3412, 0.0000, 0.0000, 0.0000,\n",
      "          0.0000, 0.0000, 0.0000, 0.0000],\n",
      "         [0.0000, 0.0000, 0.0000, 0.0000, 0.0000, 0.0000, 0.0000, 0.0000,\n",
      "          0.0000, 0.9176, 0.7137, 0.6902, 0.7765, 0.5922, 0.0000, 0.0000,\n",
      "          0.9686, 0.7961, 0.6471, 0.7294, 0.2784, 0.0000, 0.0000, 0.0000,\n",
      "          0.0000, 0.0000, 0.0000, 0.0000],\n",
      "         [0.0000, 0.0000, 0.0000, 0.0000, 0.0000, 0.0000, 0.0000, 0.0000,\n",
      "          0.0353, 0.9608, 0.7020, 0.6902, 0.8431, 0.1608, 0.0000, 0.0000,\n",
      "          0.8784, 0.7843, 0.6471, 0.7137, 0.2235, 0.0000, 0.0000, 0.0000,\n",
      "          0.0000, 0.0000, 0.0000, 0.0000],\n",
      "         [0.0000, 0.0000, 0.0000, 0.0000, 0.0000, 0.0000, 0.0000, 0.0000,\n",
      "          0.0980, 0.9373, 0.7137, 0.7098, 0.7137, 0.0000, 0.0000, 0.0000,\n",
      "          0.8196, 0.7882, 0.6235, 0.7059, 0.1569, 0.0000, 0.0000, 0.0000,\n",
      "          0.0000, 0.0000, 0.0000, 0.0000],\n",
      "         [0.0000, 0.0000, 0.0000, 0.0000, 0.0000, 0.0000, 0.0000, 0.0000,\n",
      "          0.1725, 0.9255, 0.7020, 0.7294, 0.5451, 0.0000, 0.0000, 0.0000,\n",
      "          0.8235, 0.7961, 0.6235, 0.7255, 0.0549, 0.0000, 0.0000, 0.0000,\n",
      "          0.0000, 0.0000, 0.0000, 0.0000],\n",
      "         [0.0000, 0.0000, 0.0000, 0.0000, 0.0000, 0.0000, 0.0000, 0.0000,\n",
      "          0.3529, 0.9176, 0.6941, 0.7412, 0.3725, 0.0000, 0.0000, 0.0000,\n",
      "          0.8157, 0.8078, 0.6627, 0.6588, 0.0000, 0.0000, 0.0000, 0.0000,\n",
      "          0.0000, 0.0000, 0.0000, 0.0000],\n",
      "         [0.0000, 0.0000, 0.0000, 0.0000, 0.0000, 0.0000, 0.0000, 0.0000,\n",
      "          0.4275, 0.7922, 0.6980, 0.7804, 0.2824, 0.0000, 0.0039, 0.0000,\n",
      "          0.7569, 0.8392, 0.7137, 0.5647, 0.0000, 0.0000, 0.0000, 0.0000,\n",
      "          0.0000, 0.0000, 0.0000, 0.0000],\n",
      "         [0.0000, 0.0000, 0.0000, 0.0000, 0.0000, 0.0000, 0.0000, 0.0000,\n",
      "          0.2471, 0.7882, 0.7137, 0.7686, 0.1647, 0.0000, 0.0039, 0.0000,\n",
      "          0.6588, 0.8353, 0.7294, 0.6078, 0.0000, 0.0000, 0.0000, 0.0000,\n",
      "          0.0000, 0.0000, 0.0000, 0.0000],\n",
      "         [0.0000, 0.0000, 0.0000, 0.0000, 0.0000, 0.0000, 0.0000, 0.0000,\n",
      "          0.0824, 0.9020, 0.7373, 0.7765, 0.1882, 0.0000, 0.0118, 0.0000,\n",
      "          0.5529, 0.8353, 0.7137, 0.6627, 0.0000, 0.0000, 0.0000, 0.0000,\n",
      "          0.0000, 0.0000, 0.0000, 0.0000],\n",
      "         [0.0000, 0.0000, 0.0000, 0.0000, 0.0000, 0.0000, 0.0000, 0.0000,\n",
      "          0.0000, 0.8510, 0.7373, 0.7725, 0.2549, 0.0000, 0.0235, 0.0000,\n",
      "          0.5216, 0.8471, 0.7137, 0.7059, 0.0000, 0.0000, 0.0000, 0.0000,\n",
      "          0.0000, 0.0000, 0.0000, 0.0000],\n",
      "         [0.0000, 0.0000, 0.0000, 0.0000, 0.0000, 0.0000, 0.0000, 0.0000,\n",
      "          0.0000, 0.8000, 0.7765, 0.7765, 0.4235, 0.0000, 0.0078, 0.0000,\n",
      "          0.4431, 0.8588, 0.7451, 0.7137, 0.0000, 0.0000, 0.0000, 0.0000,\n",
      "          0.0000, 0.0000, 0.0000, 0.0000],\n",
      "         [0.0000, 0.0000, 0.0000, 0.0000, 0.0000, 0.0000, 0.0000, 0.0000,\n",
      "          0.0000, 0.6471, 0.8118, 0.7804, 0.6392, 0.0000, 0.0000, 0.0000,\n",
      "          0.4118, 0.8588, 0.7882, 0.6431, 0.0000, 0.0000, 0.0000, 0.0000,\n",
      "          0.0000, 0.0000, 0.0000, 0.0000],\n",
      "         [0.0000, 0.0000, 0.0000, 0.0000, 0.0000, 0.0000, 0.0000, 0.0000,\n",
      "          0.0000, 0.4078, 0.8314, 0.7686, 0.6667, 0.0000, 0.0000, 0.0000,\n",
      "          0.4667, 0.8627, 0.7961, 0.5412, 0.0000, 0.0000, 0.0000, 0.0000,\n",
      "          0.0000, 0.0000, 0.0000, 0.0000],\n",
      "         [0.0000, 0.0000, 0.0000, 0.0000, 0.0000, 0.0000, 0.0000, 0.0000,\n",
      "          0.0000, 0.0471, 0.7843, 0.7686, 0.7373, 0.0431, 0.0000, 0.0000,\n",
      "          0.3451, 0.8471, 0.7961, 0.4667, 0.0000, 0.0000, 0.0000, 0.0000,\n",
      "          0.0000, 0.0000, 0.0000, 0.0000],\n",
      "         [0.0000, 0.0000, 0.0000, 0.0000, 0.0000, 0.0000, 0.0000, 0.0000,\n",
      "          0.0000, 0.0000, 0.6588, 0.7765, 0.7412, 0.1059, 0.0000, 0.0000,\n",
      "          0.3255, 0.8431, 0.7922, 0.4667, 0.0000, 0.0000, 0.0000, 0.0000,\n",
      "          0.0000, 0.0000, 0.0000, 0.0000],\n",
      "         [0.0000, 0.0000, 0.0000, 0.0000, 0.0000, 0.0000, 0.0000, 0.0000,\n",
      "          0.0000, 0.0000, 0.5725, 0.8039, 0.7373, 0.2941, 0.0000, 0.0000,\n",
      "          0.3255, 0.8549, 0.7922, 0.4824, 0.0000, 0.0000, 0.0000, 0.0000,\n",
      "          0.0000, 0.0000, 0.0000, 0.0000],\n",
      "         [0.0000, 0.0000, 0.0000, 0.0000, 0.0000, 0.0000, 0.0000, 0.0000,\n",
      "          0.0078, 0.0000, 0.3608, 0.8157, 0.7333, 0.3412, 0.0000, 0.0000,\n",
      "          0.3529, 0.8353, 0.7686, 0.4196, 0.0000, 0.0000, 0.0000, 0.0000,\n",
      "          0.0000, 0.0000, 0.0000, 0.0000],\n",
      "         [0.0000, 0.0000, 0.0000, 0.0000, 0.0000, 0.0000, 0.0000, 0.0000,\n",
      "          0.0078, 0.0000, 0.0980, 0.8353, 0.8078, 0.5451, 0.0000, 0.0000,\n",
      "          0.3569, 0.8824, 0.7882, 0.3137, 0.0000, 0.0000, 0.0000, 0.0000,\n",
      "          0.0000, 0.0000, 0.0000, 0.0000],\n",
      "         [0.0000, 0.0000, 0.0000, 0.0000, 0.0000, 0.0000, 0.0000, 0.0000,\n",
      "          0.0078, 0.0000, 0.0000, 0.5333, 0.5059, 0.1725, 0.0000, 0.0000,\n",
      "          0.0235, 0.4627, 0.4549, 0.0627, 0.0000, 0.0000, 0.0000, 0.0000,\n",
      "          0.0000, 0.0000, 0.0000, 0.0000]]])\n",
      "torch.Size([1, 28, 28]) tensor([[[0.0000, 0.0000, 0.0000, 0.0000, 0.0039, 0.0039, 0.0039, 0.0000,\n",
      "          0.0000, 0.0000, 0.0000, 0.0471, 0.0118, 0.0000, 0.0000, 0.0000,\n",
      "          0.0000, 0.0392, 0.0000, 0.0000, 0.0000, 0.0000, 0.0039, 0.0000,\n",
      "          0.0000, 0.0000, 0.0000, 0.0000],\n",
      "         [0.0000, 0.0000, 0.0000, 0.0078, 0.0039, 0.0078, 0.0000, 0.0000,\n",
      "          0.1098, 0.4118, 0.9725, 0.7098, 0.7451, 0.7059, 0.6039, 0.6314,\n",
      "          0.7059, 0.5804, 0.9843, 0.5059, 0.2157, 0.0235, 0.0000, 0.0078,\n",
      "          0.0000, 0.0000, 0.0000, 0.0000],\n",
      "         [0.0000, 0.0000, 0.0000, 0.0039, 0.0118, 0.0000, 0.0314, 0.2941,\n",
      "          0.3255, 0.2627, 0.2118, 0.2196, 0.4392, 0.6157, 0.6314, 0.6118,\n",
      "          0.3490, 0.1843, 0.3490, 0.3333, 0.3725, 0.4078, 0.1294, 0.0000,\n",
      "          0.0000, 0.0000, 0.0000, 0.0000],\n",
      "         [0.0000, 0.0000, 0.0000, 0.0000, 0.0000, 0.0314, 0.3059, 0.1176,\n",
      "          0.1137, 0.1098, 0.1137, 0.1137, 0.1059, 0.1020, 0.1098, 0.1020,\n",
      "          0.1255, 0.1255, 0.1059, 0.1137, 0.1333, 0.1804, 0.3098, 0.0824,\n",
      "          0.0000, 0.0000, 0.0000, 0.0000],\n",
      "         [0.0000, 0.0000, 0.0000, 0.0157, 0.0000, 0.5608, 0.8196, 0.0667,\n",
      "          0.3569, 0.3647, 0.3922, 0.3686, 0.3294, 0.2902, 0.2510, 0.2627,\n",
      "          0.2824, 0.2667, 0.2863, 0.2706, 0.2353, 0.0706, 0.6706, 0.8510,\n",
      "          0.0000, 0.0000, 0.0000, 0.0000],\n",
      "         [0.0000, 0.0000, 0.0000, 0.0000, 0.0000, 0.7333, 0.8549, 0.8196,\n",
      "          0.9804, 0.9804, 0.9765, 0.9765, 0.9765, 0.9725, 0.9569, 0.9608,\n",
      "          0.9882, 0.9922, 0.9843, 0.9686, 0.9686, 0.6902, 0.7961, 0.8471,\n",
      "          0.0000, 0.0000, 0.0000, 0.0000],\n",
      "         [0.0000, 0.0000, 0.0000, 0.0000, 0.2235, 0.9529, 0.8863, 0.8471,\n",
      "          0.8078, 0.8078, 0.8196, 0.8392, 0.8510, 0.8510, 0.8510, 0.8706,\n",
      "          0.7216, 0.6235, 0.8588, 0.8353, 0.8431, 0.8627, 0.8627, 0.9451,\n",
      "          0.4157, 0.0000, 0.0000, 0.0000],\n",
      "         [0.0000, 0.0000, 0.0000, 0.0000, 0.1725, 0.5961, 0.7294, 0.8902,\n",
      "          0.8824, 0.9686, 0.9020, 0.8118, 0.7451, 0.7529, 0.7490, 0.8471,\n",
      "          0.5922, 0.4392, 0.7961, 0.6235, 0.9647, 0.8667, 0.8549, 0.8471,\n",
      "          0.3686, 0.0000, 0.0000, 0.0000],\n",
      "         [0.0000, 0.0000, 0.0000, 0.0000, 0.1333, 0.1686, 0.1020, 0.4667,\n",
      "          0.5412, 0.2000, 0.0980, 0.0863, 0.0824, 0.0863, 0.0902, 0.0980,\n",
      "          0.0510, 0.0902, 0.1451, 0.0824, 0.5686, 0.7451, 0.1961, 0.1373,\n",
      "          0.1176, 0.0000, 0.0000, 0.0000],\n",
      "         [0.0000, 0.0000, 0.0000, 0.0196, 0.2000, 0.2941, 0.2078, 0.3647,\n",
      "          0.0941, 0.1176, 0.1725, 0.1922, 0.2118, 0.2157, 0.2039, 0.2157,\n",
      "          0.1765, 0.0902, 0.1490, 0.0784, 0.2118, 0.3059, 0.1961, 0.2588,\n",
      "          0.2510, 0.0275, 0.0000, 0.0000],\n",
      "         [0.0000, 0.0000, 0.0000, 0.0902, 0.3020, 0.3451, 0.2118, 0.4392,\n",
      "          0.2431, 0.1137, 0.1137, 0.1059, 0.1020, 0.1020, 0.1137, 0.1294,\n",
      "          0.1451, 0.0902, 0.0902, 0.1490, 0.4275, 0.5451, 0.2471, 0.2863,\n",
      "          0.3098, 0.0784, 0.0000, 0.0000],\n",
      "         [0.0000, 0.0000, 0.0000, 0.0000, 0.1098, 0.3216, 0.2980, 0.5608,\n",
      "          0.4275, 0.1294, 0.3804, 0.3843, 0.3804, 0.4196, 0.3608, 0.3804,\n",
      "          0.2471, 0.1020, 0.0902, 0.0784, 0.3569, 0.7216, 0.3843, 0.2392,\n",
      "          0.0588, 0.0000, 0.0000, 0.0000],\n",
      "         [0.0000, 0.0000, 0.0000, 0.0000, 0.0000, 0.0000, 0.0000, 0.0000,\n",
      "          0.9412, 0.8431, 0.9804, 0.9843, 0.9843, 0.9843, 0.9882, 0.9882,\n",
      "          0.4902, 0.7294, 0.9333, 0.8471, 0.8667, 0.1529, 0.0000, 0.0000,\n",
      "          0.0000, 0.0000, 0.0000, 0.0000],\n",
      "         [0.0000, 0.0000, 0.0000, 0.0000, 0.0039, 0.0000, 0.0000, 0.0000,\n",
      "          0.7843, 0.8275, 0.7961, 0.8235, 0.8235, 0.8118, 0.8157, 0.8235,\n",
      "          0.6902, 0.8078, 0.8549, 0.8353, 0.9059, 0.1098, 0.0000, 0.0078,\n",
      "          0.0039, 0.0000, 0.0000, 0.0000],\n",
      "         [0.0000, 0.0000, 0.0000, 0.0000, 0.0000, 0.0118, 0.0000, 0.0000,\n",
      "          0.7686, 0.8588, 0.8706, 0.8902, 0.9647, 0.9490, 0.8941, 0.8784,\n",
      "          0.8863, 0.8588, 0.8353, 0.8353, 0.8745, 0.1882, 0.0000, 0.0157,\n",
      "          0.0000, 0.0000, 0.0000, 0.0000],\n",
      "         [0.0000, 0.0000, 0.0000, 0.0000, 0.0000, 0.0078, 0.0000, 0.0000,\n",
      "          0.9922, 0.7294, 0.5765, 0.6392, 0.6157, 0.6078, 0.6549, 0.7373,\n",
      "          0.7451, 0.8000, 0.8471, 0.7647, 0.8824, 0.3059, 0.0000, 0.0275,\n",
      "          0.0000, 0.0000, 0.0000, 0.0000],\n",
      "         [0.0000, 0.0000, 0.0000, 0.0000, 0.0000, 0.0039, 0.0000, 0.0078,\n",
      "          0.2275, 0.0941, 0.1020, 0.1059, 0.1020, 0.1020, 0.1020, 0.1020,\n",
      "          0.1020, 0.0980, 0.1098, 0.0941, 0.2667, 0.0980, 0.0000, 0.0118,\n",
      "          0.0039, 0.0000, 0.0000, 0.0000],\n",
      "         [0.0000, 0.0000, 0.0000, 0.0039, 0.0039, 0.0000, 0.0000, 0.0196,\n",
      "          0.2000, 0.1922, 0.2235, 0.2431, 0.2196, 0.2314, 0.2275, 0.2196,\n",
      "          0.2275, 0.2118, 0.1961, 0.1725, 0.2431, 0.0941, 0.0000, 0.0078,\n",
      "          0.0039, 0.0000, 0.0000, 0.0000],\n",
      "         [0.0000, 0.0000, 0.0000, 0.0000, 0.0000, 0.0000, 0.0000, 0.0314,\n",
      "          0.1843, 0.1137, 0.1373, 0.1490, 0.1333, 0.1412, 0.1412, 0.1373,\n",
      "          0.1490, 0.1608, 0.1373, 0.1412, 0.2039, 0.1020, 0.0000, 0.0118,\n",
      "          0.0000, 0.0000, 0.0000, 0.0000],\n",
      "         [0.0000, 0.0000, 0.0000, 0.0000, 0.0000, 0.0078, 0.0000, 0.0627,\n",
      "          0.3098, 0.2510, 0.2510, 0.2745, 0.2510, 0.2471, 0.2745, 0.2824,\n",
      "          0.2549, 0.2706, 0.2353, 0.1647, 0.2471, 0.1569, 0.0000, 0.0157,\n",
      "          0.0000, 0.0000, 0.0000, 0.0000],\n",
      "         [0.0000, 0.0000, 0.0000, 0.0039, 0.0039, 0.0314, 0.0000, 0.3294,\n",
      "          0.8706, 0.8353, 0.9922, 1.0000, 0.9843, 0.9765, 0.9843, 0.9922,\n",
      "          0.9843, 0.9922, 1.0000, 0.8275, 0.8824, 0.6588, 0.0000, 0.0078,\n",
      "          0.0039, 0.0000, 0.0000, 0.0000],\n",
      "         [0.0000, 0.0000, 0.0000, 0.0000, 0.0039, 0.0157, 0.0000, 0.2784,\n",
      "          0.8431, 0.8000, 0.8314, 0.8431, 0.8275, 0.8275, 0.8118, 0.8353,\n",
      "          0.8392, 0.8392, 0.8471, 0.8235, 0.8706, 0.6039, 0.0000, 0.0039,\n",
      "          0.0039, 0.0000, 0.0000, 0.0000],\n",
      "         [0.0000, 0.0000, 0.0000, 0.0000, 0.0000, 0.0157, 0.0000, 0.3333,\n",
      "          0.8784, 0.8275, 0.8627, 0.8627, 0.8392, 0.8431, 0.8314, 0.8353,\n",
      "          0.8392, 0.8431, 0.8510, 0.8431, 0.9098, 0.7216, 0.0000, 0.0000,\n",
      "          0.0000, 0.0000, 0.0000, 0.0000],\n",
      "         [0.0000, 0.0000, 0.0000, 0.0000, 0.0000, 0.0235, 0.0000, 0.2941,\n",
      "          0.9333, 0.8314, 0.9059, 0.9176, 0.9098, 0.9647, 0.9608, 0.9765,\n",
      "          0.9725, 0.9569, 0.9412, 0.9059, 0.9216, 0.5608, 0.0000, 0.0078,\n",
      "          0.0000, 0.0000, 0.0000, 0.0000],\n",
      "         [0.0000, 0.0000, 0.0000, 0.0039, 0.0000, 0.0039, 0.0000, 0.0392,\n",
      "          0.1020, 0.1098, 0.1490, 0.1373, 0.1294, 0.1961, 0.2157, 0.2314,\n",
      "          0.2275, 0.2039, 0.1490, 0.1137, 0.1020, 0.0549, 0.0000, 0.0078,\n",
      "          0.0039, 0.0000, 0.0000, 0.0000],\n",
      "         [0.0000, 0.0000, 0.0000, 0.0118, 0.0000, 0.0039, 0.0000, 0.0745,\n",
      "          0.2157, 0.1804, 0.2235, 0.2118, 0.1608, 0.1569, 0.1490, 0.1608,\n",
      "          0.1569, 0.1686, 0.1686, 0.1804, 0.2314, 0.1686, 0.0000, 0.0078,\n",
      "          0.0000, 0.0000, 0.0000, 0.0000],\n",
      "         [0.0000, 0.0000, 0.0000, 0.0039, 0.0039, 0.0000, 0.0000, 0.0314,\n",
      "          0.2157, 0.2549, 0.3020, 0.2902, 0.2353, 0.2745, 0.2745, 0.2784,\n",
      "          0.2706, 0.2667, 0.2784, 0.2627, 0.2510, 0.0902, 0.0000, 0.0039,\n",
      "          0.0000, 0.0000, 0.0000, 0.0000],\n",
      "         [0.0000, 0.0000, 0.0000, 0.0039, 0.0000, 0.0000, 0.0000, 0.0000,\n",
      "          0.0000, 0.0196, 0.0196, 0.0275, 0.0314, 0.0588, 0.0667, 0.0588,\n",
      "          0.0549, 0.0353, 0.0235, 0.0157, 0.0000, 0.0000, 0.0000, 0.0000,\n",
      "          0.0039, 0.0000, 0.0000, 0.0000]]])\n",
      "torch.Size([1, 28, 28]) tensor([[[0.0000, 0.0000, 0.0000, 0.0000, 0.0000, 0.0039, 0.0235, 0.0000,\n",
      "          0.0000, 0.0000, 0.0000, 0.2980, 0.7490, 0.3490, 0.3647, 0.5294,\n",
      "          0.6667, 0.0000, 0.0000, 0.0000, 0.0000, 0.0157, 0.0000, 0.0000,\n",
      "          0.0000, 0.0000, 0.0000, 0.0000],\n",
      "         [0.0000, 0.0000, 0.0000, 0.0000, 0.0039, 0.0000, 0.0000, 0.0000,\n",
      "          0.0000, 0.0353, 0.3647, 0.9843, 0.9922, 1.0000, 1.0000, 1.0000,\n",
      "          0.9490, 0.7216, 0.1686, 0.0000, 0.0000, 0.0000, 0.0000, 0.0000,\n",
      "          0.0000, 0.0000, 0.0000, 0.0000],\n",
      "         [0.0000, 0.0000, 0.0000, 0.0000, 0.0000, 0.0000, 0.2235, 0.6588,\n",
      "          0.8000, 0.9059, 0.9451, 0.8863, 0.8706, 0.9176, 0.9020, 0.8784,\n",
      "          0.8588, 0.9294, 0.9490, 0.8157, 0.6196, 0.1451, 0.0000, 0.0000,\n",
      "          0.0000, 0.0000, 0.0000, 0.0000],\n",
      "         [0.0000, 0.0000, 0.0000, 0.0000, 0.0000, 0.5922, 0.9765, 0.9373,\n",
      "          0.8980, 0.8784, 0.8588, 0.8667, 0.8941, 0.7882, 0.6157, 0.9255,\n",
      "          0.8745, 0.8667, 0.8667, 0.9020, 0.9529, 0.9451, 0.1451, 0.0000,\n",
      "          0.0235, 0.0000, 0.0000, 0.0000],\n",
      "         [0.0000, 0.0000, 0.0000, 0.0000, 0.0627, 0.9176, 0.8745, 0.8549,\n",
      "          0.8745, 0.8745, 0.8784, 0.8745, 0.8667, 0.8667, 0.8510, 0.8941,\n",
      "          0.8863, 0.8902, 0.8863, 0.8706, 0.8431, 0.9059, 0.7176, 0.0000,\n",
      "          0.0000, 0.0000, 0.0000, 0.0000],\n",
      "         [0.0000, 0.0000, 0.0000, 0.0000, 0.3922, 0.9451, 0.8627, 0.8667,\n",
      "          0.8784, 0.8706, 0.8706, 0.8667, 0.8745, 0.8549, 0.8118, 0.8824,\n",
      "          0.8745, 0.8745, 0.8588, 0.8706, 0.8706, 0.8667, 0.8824, 0.0078,\n",
      "          0.0000, 0.0000, 0.0000, 0.0000],\n",
      "         [0.0000, 0.0000, 0.0000, 0.0000, 0.6471, 0.9451, 0.8667, 0.8902,\n",
      "          0.8706, 0.8667, 0.8706, 0.8706, 0.8706, 0.8627, 0.8078, 0.8667,\n",
      "          0.8471, 0.8471, 0.8510, 0.8627, 0.8706, 0.8510, 0.9294, 0.1765,\n",
      "          0.0000, 0.0000, 0.0000, 0.0000],\n",
      "         [0.0000, 0.0000, 0.0000, 0.0000, 0.8118, 0.9294, 0.8902, 0.9098,\n",
      "          0.8745, 0.8667, 0.8706, 0.8706, 0.8706, 0.8627, 0.8078, 0.8745,\n",
      "          0.8549, 0.8510, 0.8549, 0.8353, 0.8824, 0.8667, 0.9373, 0.3176,\n",
      "          0.0000, 0.0000, 0.0000, 0.0000],\n",
      "         [0.0000, 0.0000, 0.0000, 0.0000, 0.9882, 0.8980, 0.9137, 0.9373,\n",
      "          0.8706, 0.8824, 0.8745, 0.8706, 0.8706, 0.8588, 0.8157, 0.8784,\n",
      "          0.8588, 0.8588, 0.8588, 0.8549, 0.9176, 0.8706, 0.9412, 0.4863,\n",
      "          0.0000, 0.0000, 0.0000, 0.0000],\n",
      "         [0.0000, 0.0000, 0.0000, 0.0000, 1.0000, 0.8863, 0.9216, 0.9843,\n",
      "          0.8745, 0.8863, 0.8784, 0.8745, 0.8745, 0.8588, 0.8235, 0.8784,\n",
      "          0.8510, 0.8667, 0.8784, 0.8549, 0.9255, 0.8745, 0.9490, 0.6275,\n",
      "          0.0000, 0.0000, 0.0000, 0.0000],\n",
      "         [0.0000, 0.0000, 0.0000, 0.1333, 1.0000, 0.8863, 0.8902, 0.9922,\n",
      "          0.8627, 0.8863, 0.8863, 0.8824, 0.8824, 0.8667, 0.8353, 0.8784,\n",
      "          0.8706, 0.8510, 0.8706, 0.8510, 0.9098, 0.8902, 0.9216, 0.8000,\n",
      "          0.0000, 0.0000, 0.0000, 0.0000],\n",
      "         [0.0000, 0.0000, 0.0000, 0.2235, 1.0000, 0.8980, 0.8824, 0.9843,\n",
      "          0.8667, 0.8941, 0.8902, 0.8902, 0.8863, 0.8667, 0.8471, 0.8745,\n",
      "          0.8745, 0.8706, 0.8667, 0.8353, 0.9294, 0.9059, 0.9020, 0.9412,\n",
      "          0.0000, 0.0000, 0.0000, 0.0000],\n",
      "         [0.0000, 0.0000, 0.0000, 0.3412, 1.0000, 0.8941, 0.9059, 0.9569,\n",
      "          0.8824, 0.8863, 0.8902, 0.8824, 0.8784, 0.8588, 0.8431, 0.8706,\n",
      "          0.8706, 0.8706, 0.8784, 0.8353, 0.9647, 0.9216, 0.9020, 0.9961,\n",
      "          0.0000, 0.0000, 0.0000, 0.0000],\n",
      "         [0.0000, 0.0000, 0.0000, 0.3686, 1.0000, 0.8902, 0.9333, 0.9686,\n",
      "          0.8706, 0.8902, 0.8902, 0.8824, 0.8824, 0.8706, 0.8549, 0.8824,\n",
      "          0.8745, 0.8667, 0.8627, 0.8549, 0.9882, 0.9255, 0.9098, 1.0000,\n",
      "          0.0000, 0.0000, 0.0000, 0.0000],\n",
      "         [0.0000, 0.0000, 0.0000, 0.4627, 1.0000, 0.8863, 0.9647, 1.0000,\n",
      "          0.8510, 0.8902, 0.8824, 0.8824, 0.8902, 0.8706, 0.8549, 0.8824,\n",
      "          0.8784, 0.8706, 0.8588, 0.8314, 0.8745, 0.9686, 0.8980, 1.0000,\n",
      "          0.0784, 0.0000, 0.0000, 0.0000],\n",
      "         [0.0000, 0.0000, 0.0000, 0.5216, 1.0000, 0.8941, 0.9725, 0.9137,\n",
      "          0.8471, 0.8863, 0.8824, 0.8824, 0.8902, 0.8706, 0.8510, 0.8784,\n",
      "          0.8627, 0.8863, 0.8627, 0.8118, 0.8706, 0.9922, 0.8745, 1.0000,\n",
      "          0.1922, 0.0000, 0.0000, 0.0000],\n",
      "         [0.0000, 0.0000, 0.0000, 0.5373, 0.9961, 0.9176, 0.9961, 0.6353,\n",
      "          0.9176, 0.8824, 0.8863, 0.8784, 0.8784, 0.8784, 0.8510, 0.8863,\n",
      "          0.8549, 0.8824, 0.8784, 0.8275, 0.9843, 0.9725, 0.8627, 1.0000,\n",
      "          0.2706, 0.0000, 0.0000, 0.0000],\n",
      "         [0.0000, 0.0000, 0.0000, 0.5725, 0.9961, 0.9294, 0.9961, 0.4353,\n",
      "          0.9686, 0.8627, 0.8863, 0.8784, 0.8784, 0.8745, 0.8431, 0.8863,\n",
      "          0.8667, 0.8667, 0.8902, 0.8235, 0.9373, 0.9882, 0.8588, 1.0000,\n",
      "          0.3490, 0.0000, 0.0000, 0.0000],\n",
      "         [0.0000, 0.0000, 0.0000, 0.5922, 0.9765, 0.9608, 0.9333, 0.2745,\n",
      "          0.9961, 0.8627, 0.8824, 0.8745, 0.8745, 0.8627, 0.8196, 0.8667,\n",
      "          0.8745, 0.8667, 0.8784, 0.8392, 0.8667, 0.9961, 0.8667, 0.9961,\n",
      "          0.4353, 0.0000, 0.0000, 0.0000],\n",
      "         [0.0000, 0.0000, 0.0000, 0.6588, 0.9137, 0.9804, 0.8431, 0.2588,\n",
      "          1.0000, 0.8353, 0.8745, 0.8784, 0.8941, 0.8627, 0.8314, 0.8745,\n",
      "          0.8706, 0.8667, 0.8431, 0.8824, 0.7686, 1.0000, 0.8745, 0.9765,\n",
      "          0.5765, 0.0000, 0.0000, 0.0000],\n",
      "         [0.0000, 0.0000, 0.0000, 0.7059, 0.8941, 0.9686, 0.7255, 0.1961,\n",
      "          1.0000, 0.8353, 0.8863, 0.8784, 0.8863, 0.8667, 0.8431, 0.8863,\n",
      "          0.8510, 0.8667, 0.8549, 0.9294, 0.4549, 1.0000, 0.8863, 0.9373,\n",
      "          0.6588, 0.0000, 0.0000, 0.0000],\n",
      "         [0.0000, 0.0000, 0.0000, 0.7490, 0.8706, 0.9725, 0.6510, 0.1922,\n",
      "          1.0000, 0.8667, 0.8941, 0.8784, 0.8824, 0.8588, 0.8314, 0.8784,\n",
      "          0.8627, 0.8706, 0.8588, 0.9765, 0.3294, 1.0000, 0.8706, 0.9255,\n",
      "          0.7216, 0.0000, 0.0000, 0.0000],\n",
      "         [0.0000, 0.0000, 0.0000, 0.7804, 0.8549, 0.9882, 0.6353, 0.1804,\n",
      "          1.0000, 0.8549, 0.8784, 0.8745, 0.8784, 0.8471, 0.8157, 0.8627,\n",
      "          0.8471, 0.8471, 0.8392, 0.9961, 0.3451, 0.9490, 0.8941, 0.9059,\n",
      "          0.7216, 0.0000, 0.0000, 0.0000],\n",
      "         [0.0000, 0.0000, 0.0000, 0.7804, 0.8588, 0.9961, 0.5216, 0.0667,\n",
      "          0.9922, 0.8941, 0.9059, 0.8863, 0.8745, 0.8588, 0.8431, 0.8863,\n",
      "          0.8745, 0.8902, 0.8784, 0.9333, 0.1843, 0.7529, 0.9216, 0.8902,\n",
      "          0.7216, 0.0000, 0.0000, 0.0000],\n",
      "         [0.0000, 0.0000, 0.0000, 0.8000, 0.8667, 0.9882, 0.4549, 0.3020,\n",
      "          1.0000, 0.8902, 0.8980, 0.8863, 0.8784, 0.8431, 0.8275, 0.8667,\n",
      "          0.8667, 0.8941, 0.8784, 1.0000, 0.2353, 0.6039, 0.9608, 0.8667,\n",
      "          0.7333, 0.0000, 0.0000, 0.0000],\n",
      "         [0.0000, 0.0000, 0.0000, 0.4588, 0.9176, 0.9490, 0.2902, 0.0000,\n",
      "          0.0824, 0.0000, 0.0039, 0.0078, 0.0118, 0.0000, 0.0000, 0.0000,\n",
      "          0.0000, 0.0000, 0.0000, 0.0824, 0.0000, 0.3608, 0.9608, 0.8980,\n",
      "          0.6941, 0.0000, 0.0000, 0.0000],\n",
      "         [0.0000, 0.0000, 0.0000, 0.4196, 1.0000, 1.0000, 0.2196, 0.0000,\n",
      "          0.0000, 0.0000, 0.0000, 0.0000, 0.0000, 0.0000, 0.0000, 0.0000,\n",
      "          0.0000, 0.0000, 0.0000, 0.0000, 0.0000, 0.2039, 1.0000, 0.9569,\n",
      "          0.7529, 0.0000, 0.0000, 0.0000],\n",
      "         [0.0000, 0.0000, 0.0000, 0.1373, 0.4510, 0.4980, 0.0471, 0.0000,\n",
      "          0.0118, 0.0118, 0.0157, 0.0157, 0.0157, 0.0118, 0.0118, 0.0118,\n",
      "          0.0118, 0.0118, 0.0118, 0.0157, 0.0000, 0.0784, 0.7647, 0.7608,\n",
      "          0.4941, 0.0000, 0.0000, 0.0000]]])\n",
      "torch.Size([1, 28, 28]) tensor([[[0.0000, 0.0000, 0.0000, 0.0000, 0.0000, 0.0000, 0.0000, 0.0000,\n",
      "          0.0000, 0.0000, 0.0000, 0.0000, 0.0000, 0.0000, 0.0000, 0.0000,\n",
      "          0.0000, 0.0000, 0.0000, 0.0000, 0.0000, 0.0000, 0.0000, 0.0000,\n",
      "          0.0000, 0.0000, 0.0000, 0.0000],\n",
      "         [0.0000, 0.0000, 0.0000, 0.0000, 0.0000, 0.0000, 0.0000, 0.0000,\n",
      "          0.0000, 0.0000, 0.0000, 0.0000, 0.0000, 0.0000, 0.0000, 0.0000,\n",
      "          0.0000, 0.0000, 0.0000, 0.0000, 0.0000, 0.0000, 0.0000, 0.0000,\n",
      "          0.0000, 0.0000, 0.0000, 0.0000],\n",
      "         [0.0000, 0.0000, 0.0000, 0.0000, 0.0000, 0.0000, 0.0000, 0.0000,\n",
      "          0.0000, 0.0000, 0.0000, 0.0000, 0.0000, 0.0000, 0.0000, 0.0000,\n",
      "          0.0000, 0.0000, 0.0000, 0.0000, 0.0000, 0.0000, 0.0000, 0.0000,\n",
      "          0.0000, 0.0000, 0.0000, 0.0000],\n",
      "         [0.0000, 0.0000, 0.0000, 0.0000, 0.0000, 0.0000, 0.0000, 0.0000,\n",
      "          0.0000, 0.0000, 0.0000, 0.0000, 0.0000, 0.0000, 0.0000, 0.0000,\n",
      "          0.0000, 0.0000, 0.0000, 0.0000, 0.0000, 0.0000, 0.0000, 0.0000,\n",
      "          0.0000, 0.0000, 0.0000, 0.0000],\n",
      "         [0.0000, 0.0000, 0.0000, 0.0000, 0.0000, 0.0000, 0.0000, 0.0000,\n",
      "          0.0000, 0.0000, 0.0000, 0.0000, 0.0000, 0.0000, 0.0000, 0.0000,\n",
      "          0.0000, 0.0000, 0.0000, 0.0000, 0.0000, 0.0000, 0.0000, 0.0000,\n",
      "          0.0000, 0.0000, 0.0000, 0.0000],\n",
      "         [0.0000, 0.0000, 0.0000, 0.0000, 0.0000, 0.0000, 0.0000, 0.0000,\n",
      "          0.0000, 0.0000, 0.0000, 0.0000, 0.0000, 0.0000, 0.0000, 0.0000,\n",
      "          0.0000, 0.0000, 0.0000, 0.0000, 0.0000, 0.0000, 0.0000, 0.0000,\n",
      "          0.0000, 0.0000, 0.0000, 0.0000],\n",
      "         [0.0000, 0.0000, 0.0000, 0.0000, 0.0000, 0.0000, 0.0000, 0.0000,\n",
      "          0.0000, 0.0000, 0.0000, 0.0000, 0.0000, 0.0000, 0.0000, 0.1255,\n",
      "          0.3922, 0.4824, 0.3686, 0.0039, 0.0000, 0.0000, 0.0000, 0.0000,\n",
      "          0.0000, 0.0000, 0.0039, 0.0000],\n",
      "         [0.0000, 0.0000, 0.0000, 0.0000, 0.0000, 0.0000, 0.0000, 0.0000,\n",
      "          0.0000, 0.0000, 0.0000, 0.0000, 0.0039, 0.0000, 0.0000, 0.5725,\n",
      "          0.6588, 0.5922, 0.6471, 0.6353, 0.5020, 0.3765, 0.2392, 0.2588,\n",
      "          0.2706, 0.0000, 0.0000, 0.0039],\n",
      "         [0.0000, 0.0000, 0.0000, 0.0000, 0.0000, 0.0000, 0.0000, 0.0000,\n",
      "          0.0000, 0.0000, 0.0000, 0.0039, 0.0000, 0.0000, 0.1882, 0.6784,\n",
      "          0.7176, 0.7059, 0.4392, 0.6353, 0.6706, 0.7098, 0.6118, 0.6392,\n",
      "          0.5098, 0.0000, 0.0000, 0.0000],\n",
      "         [0.0000, 0.0000, 0.0000, 0.0000, 0.0000, 0.0000, 0.0000, 0.0000,\n",
      "          0.0000, 0.0000, 0.0000, 0.0000, 0.0000, 0.4078, 0.8078, 0.6431,\n",
      "          0.7255, 0.8196, 0.7490, 0.6588, 0.6000, 0.5686, 0.5569, 0.5569,\n",
      "          0.5294, 0.6627, 0.6627, 0.0000],\n",
      "         [0.0000, 0.0000, 0.0000, 0.0000, 0.0000, 0.0000, 0.0000, 0.0000,\n",
      "          0.0000, 0.0000, 0.0118, 0.0000, 0.0000, 0.5451, 0.6745, 0.7490,\n",
      "          0.7843, 0.7529, 0.8196, 0.6667, 0.6431, 0.6000, 0.5725, 0.5020,\n",
      "          0.5804, 0.8314, 0.3176, 0.0000],\n",
      "         [0.0000, 0.0000, 0.0000, 0.0000, 0.0000, 0.0000, 0.0000, 0.0000,\n",
      "          0.0000, 0.0000, 0.0000, 0.0000, 0.0000, 0.6196, 0.7765, 0.7216,\n",
      "          0.7569, 0.8118, 0.8039, 0.7255, 0.7412, 0.6902, 0.6784, 0.6353,\n",
      "          0.7294, 0.5961, 0.0000, 0.0000],\n",
      "         [0.0000, 0.0000, 0.0000, 0.0000, 0.0000, 0.0000, 0.0000, 0.0000,\n",
      "          0.0039, 0.0000, 0.0902, 0.4784, 0.7608, 0.7176, 0.7059, 1.0000,\n",
      "          0.7843, 0.6902, 0.6039, 0.7412, 0.8353, 0.8353, 0.8314, 0.7725,\n",
      "          0.8000, 0.7373, 0.0000, 0.0000],\n",
      "         [0.0000, 0.0000, 0.0000, 0.0000, 0.0039, 0.0039, 0.0078, 0.0000,\n",
      "          0.0000, 0.0000, 0.4745, 0.6667, 0.3804, 0.6588, 0.5843, 0.7373,\n",
      "          0.9843, 0.9059, 0.9176, 0.8706, 0.7373, 0.7490, 0.7961, 0.7608,\n",
      "          0.8078, 0.8510, 0.0000, 0.0000],\n",
      "         [0.0000, 0.0039, 0.0157, 0.0118, 0.0000, 0.0000, 0.0000, 0.0000,\n",
      "          0.0000, 0.2510, 0.7137, 0.4588, 0.5569, 0.6392, 0.7451, 0.7608,\n",
      "          0.8353, 0.8235, 0.7804, 0.8667, 0.8902, 0.7961, 0.7569, 0.7569,\n",
      "          0.8314, 0.8196, 0.0039, 0.0000],\n",
      "         [0.0000, 0.0000, 0.0000, 0.0000, 0.0000, 0.0000, 0.0196, 0.2706,\n",
      "          0.6039, 0.6745, 0.5333, 0.6980, 0.6235, 0.5216, 0.5333, 0.8510,\n",
      "          0.7843, 0.4275, 0.5333, 0.5490, 0.6588, 0.8627, 0.7922, 0.8627,\n",
      "          0.8510, 0.9020, 0.1608, 0.0000],\n",
      "         [0.0000, 0.0000, 0.3176, 0.4980, 0.5647, 0.6471, 0.6392, 0.6392,\n",
      "          0.6863, 0.5412, 0.3176, 0.7098, 0.7961, 0.6157, 0.8902, 0.9020,\n",
      "          0.8745, 0.7922, 0.5647, 0.5098, 0.7255, 0.8549, 0.8196, 0.8706,\n",
      "          0.8471, 0.9020, 0.2510, 0.0000],\n",
      "         [0.0000, 0.3922, 0.6157, 0.5098, 0.4745, 0.5294, 0.5216, 0.3765,\n",
      "          0.3686, 0.6471, 0.5686, 0.4549, 0.7373, 0.9529, 0.8314, 0.6863,\n",
      "          0.7451, 0.8784, 0.9059, 0.8078, 0.8471, 0.7804, 0.8471, 0.9098,\n",
      "          0.8980, 0.9765, 0.4824, 0.0000],\n",
      "         [0.0000, 0.5529, 0.7922, 0.7373, 0.6980, 0.6471, 0.6039, 0.5333,\n",
      "          0.5725, 0.6706, 0.7843, 0.8118, 0.8078, 0.8549, 0.8431, 0.8510,\n",
      "          0.8353, 0.8275, 0.9529, 0.9686, 0.9608, 0.9137, 0.9176, 0.8667,\n",
      "          0.6667, 0.6000, 0.3725, 0.0000],\n",
      "         [0.0235, 0.2706, 0.4275, 0.5804, 0.7098, 0.7961, 0.8510, 0.8353,\n",
      "          0.8667, 0.8353, 0.8588, 0.9020, 0.9098, 0.8863, 0.8471, 0.8314,\n",
      "          0.7098, 0.5020, 0.4039, 0.3725, 0.3020, 0.3020, 0.2706, 0.2706,\n",
      "          0.2863, 0.3333, 0.4784, 0.0235],\n",
      "         [0.1725, 0.4863, 0.3725, 0.2745, 0.1804, 0.1608, 0.2392, 0.3216,\n",
      "          0.3922, 0.4510, 0.4824, 0.4275, 0.3725, 0.2902, 0.2000, 0.2980,\n",
      "          0.4235, 0.5059, 0.4392, 0.4510, 0.5333, 0.6039, 0.6471, 0.6706,\n",
      "          0.6980, 0.5882, 0.6235, 0.0745],\n",
      "         [0.0000, 0.1059, 0.3373, 0.4824, 0.6000, 0.6510, 0.5843, 0.5333,\n",
      "          0.4745, 0.4549, 0.4235, 0.4745, 0.5412, 0.6196, 0.6784, 0.6157,\n",
      "          0.5020, 0.3176, 0.5059, 0.7020, 0.6431, 0.6863, 0.6667, 0.6549,\n",
      "          0.6784, 0.5686, 0.6196, 0.1216],\n",
      "         [0.0000, 0.0000, 0.0000, 0.0000, 0.0000, 0.0784, 0.1333, 0.2902,\n",
      "          0.3333, 0.4392, 0.4235, 0.4118, 0.3490, 0.1725, 0.0000, 0.0000,\n",
      "          0.0000, 0.0000, 0.0941, 0.5176, 0.5020, 0.4039, 0.4118, 0.3176,\n",
      "          0.2039, 0.1176, 0.0588, 0.0000],\n",
      "         [0.0000, 0.0000, 0.0000, 0.0000, 0.0000, 0.0000, 0.0000, 0.0000,\n",
      "          0.0000, 0.0000, 0.0000, 0.0000, 0.0000, 0.0000, 0.0000, 0.0000,\n",
      "          0.0000, 0.0000, 0.0000, 0.0000, 0.0000, 0.0000, 0.0000, 0.0000,\n",
      "          0.0000, 0.0000, 0.0000, 0.0000],\n",
      "         [0.0000, 0.0000, 0.0000, 0.0000, 0.0000, 0.0000, 0.0000, 0.0000,\n",
      "          0.0000, 0.0000, 0.0000, 0.0000, 0.0000, 0.0000, 0.0000, 0.0000,\n",
      "          0.0000, 0.0000, 0.0000, 0.0000, 0.0000, 0.0000, 0.0000, 0.0000,\n",
      "          0.0000, 0.0000, 0.0000, 0.0000],\n",
      "         [0.0000, 0.0000, 0.0000, 0.0000, 0.0000, 0.0000, 0.0000, 0.0000,\n",
      "          0.0000, 0.0000, 0.0000, 0.0000, 0.0000, 0.0000, 0.0000, 0.0000,\n",
      "          0.0000, 0.0000, 0.0000, 0.0000, 0.0000, 0.0000, 0.0000, 0.0000,\n",
      "          0.0000, 0.0000, 0.0000, 0.0000],\n",
      "         [0.0000, 0.0000, 0.0000, 0.0000, 0.0000, 0.0000, 0.0000, 0.0000,\n",
      "          0.0000, 0.0000, 0.0000, 0.0000, 0.0000, 0.0000, 0.0000, 0.0000,\n",
      "          0.0000, 0.0000, 0.0000, 0.0000, 0.0000, 0.0000, 0.0000, 0.0000,\n",
      "          0.0000, 0.0000, 0.0000, 0.0000],\n",
      "         [0.0000, 0.0000, 0.0000, 0.0000, 0.0000, 0.0000, 0.0000, 0.0000,\n",
      "          0.0000, 0.0000, 0.0000, 0.0000, 0.0000, 0.0000, 0.0000, 0.0000,\n",
      "          0.0000, 0.0000, 0.0000, 0.0000, 0.0000, 0.0000, 0.0000, 0.0000,\n",
      "          0.0000, 0.0000, 0.0000, 0.0000]]])\n"
     ]
    },
    {
     "data": {
      "image/png": "[encoded data removed]",
      "text/plain": [
       "<Figure size 800x800 with 9 Axes>"
      ]
     },
     "metadata": {},
     "output_type": "display_data"
    }
   ],
   "source": [
    "labels_map = {\n",
    "    0: \"T-Shirt\",\n",
    "    1: \"Trouser\",\n",
    "    2: \"Pullover\",\n",
    "    3: \"Dress\",\n",
    "    4: \"Coat\",\n",
    "    5: \"Sandal\",\n",
    "    6: \"Shirt\",\n",
    "    7: \"Sneaker\",\n",
    "    8: \"Bag\",\n",
    "    9: \"Ankle Boot\",\n",
    "}\n",
    "print(type(training_data))\n",
    "figure = plt.figure(figsize=(8, 8))\n",
    "cols, rows = 3, 3\n",
    "for i in range(0, cols * rows): # [0,9)\n",
    "    sample_idx = torch.randint(len(training_data), size=(1,)).item() # get random index\n",
    "#    sample_idx = i\n",
    "    img, label = training_data[sample_idx]\n",
    "    print(img.shape, img)\n",
    "#    print(img[0,0,0])\n",
    "    figure.add_subplot(rows, cols, i+1)\n",
    "    plt.title(labels_map[label])\n",
    "    plt.axis(\"off\")\n",
    "    plt.imshow(img.squeeze(), cmap=\"gray\")\n",
    "plt.show()"
   ]
  },
  {
   "cell_type": "markdown",
   "metadata": {},
   "source": [
    "for each image, there are 28X28 numbers to represent each pixle gray level [0,255], total 60000 images, the another dimension is for the index of each image. for instance,"
   ]
  },
  {
   "cell_type": "code",
   "execution_count": 4,
   "metadata": {},
   "outputs": [
    {
     "data": {
      "text/plain": [
       "torch.Size([1, 28, 28])"
      ]
     },
     "execution_count": 4,
     "metadata": {},
     "output_type": "execute_result"
    }
   ],
   "source": [
    "img.shape"
   ]
  },
  {
   "cell_type": "code",
   "execution_count": 6,
   "metadata": {},
   "outputs": [
    {
     "data": {
      "text/plain": [
       "<matplotlib.image.AxesImage at 0x16eafcdb280>"
      ]
     },
     "execution_count": 6,
     "metadata": {},
     "output_type": "execute_result"
    },
    {
     "data": {
      "image/png": "[encoded data removed]",
      "text/plain": [
       "<Figure size 640x480 with 1 Axes>"
      ]
     },
     "metadata": {},
     "output_type": "display_data"
    }
   ],
   "source": [
    "plt.imshow(img.squeeze(),cmap=\"gray\")"
   ]
  },
  {
   "cell_type": "code",
   "execution_count": 10,
   "metadata": {},
   "outputs": [
    {
     "data": {
      "text/plain": [
       "<matplotlib.image.AxesImage at 0x16eb0198a00>"
      ]
     },
     "execution_count": 10,
     "metadata": {},
     "output_type": "execute_result"
    },
    {
     "data": {
      "image/png": "[encoded data removed]",
      "text/plain": [
       "<Figure size 640x480 with 1 Axes>"
      ]
     },
     "metadata": {},
     "output_type": "display_data"
    }
   ],
   "source": [
    "img = img.transpose(0,1).transpose(1,2)\n",
    "plt.imshow(img.squeeze(),cmap=\"gray\")"
   ]
  },
  {
   "cell_type": "code",
   "execution_count": 16,
   "metadata": {},
   "outputs": [
    {
     "name": "stderr",
     "output_type": "stream",
     "text": [
      "Clipping input data to the valid range for imshow with RGB data ([0..1] for floats or [0..255] for integers).\n"
     ]
    },
    {
     "data": {
      "image/png": "[encoded data removed]",
      "text/plain": [
       "<Figure size 640x480 with 1 Axes>"
      ]
     },
     "metadata": {},
     "output_type": "display_data"
    },
    {
     "name": "stderr",
     "output_type": "stream",
     "text": [
      "Clipping input data to the valid range for imshow with RGB data ([0..1] for floats or [0..255] for integers).\n"
     ]
    },
    {
     "name": "stdout",
     "output_type": "stream",
     "text": [
      "torch.Size([4, 4, 3])\n"
     ]
    },
    {
     "data": {
      "text/plain": [
       "<matplotlib.image.AxesImage at 0x16eb5014a90>"
      ]
     },
     "execution_count": 16,
     "metadata": {},
     "output_type": "execute_result"
    },
    {
     "data": {
      "image/png": "[encoded data removed]",
      "text/plain": [
       "<Figure size 640x480 with 1 Axes>"
      ]
     },
     "metadata": {},
     "output_type": "display_data"
    }
   ],
   "source": [
    "# Example image tensor of shape (3, 128, 128) representing a 128x128 RGB image\n",
    "img = torch.randn(3, 4, 4)\n",
    "plt.imshow(img)\n",
    "plt.show()\n",
    "# Transpose the tensor\n",
    "transposed_img = img.transpose(0, 1).transpose(1,2) # switch first and second dimension, and then switch 1, 2\n",
    "  \n",
    "# Check the shape of the transposed tensor\n",
    "print(transposed_img.shape)  # Output: torch.Size([128, 3, 128])\n",
    "plt.imshow(transposed_img)"
   ]
  },
  {
   "cell_type": "code",
   "execution_count": 40,
   "metadata": {},
   "outputs": [
    {
     "name": "stdout",
     "output_type": "stream",
     "text": [
      "torch.Size([3, 2, 2])\n"
     ]
    },
    {
     "data": {
      "text/plain": [
       "tensor([[11, 44],\n",
       "        [21, 69]])"
      ]
     },
     "execution_count": 40,
     "metadata": {},
     "output_type": "execute_result"
    }
   ],
   "source": [
    "import torch\n",
    "img = torch.tensor([[[80,29],[60,40]],[[11,44],[21,69]],[[31,49],[12,66]]]) # 3 2X2 images\n",
    "print(img.shape)\n",
    "img[1] # 第2个图形"
   ]
  },
  {
   "cell_type": "code",
   "execution_count": 42,
   "metadata": {},
   "outputs": [
    {
     "data": {
      "image/png": "[encoded data removed]",
      "text/plain": [
       "<Figure size 100x200 with 3 Axes>"
      ]
     },
     "metadata": {},
     "output_type": "display_data"
    }
   ],
   "source": [
    "import matplotlib.pyplot as plt\n",
    "\n",
    "figure = plt.figure(figsize=(1, 2))\n",
    "cols, rows = 3, 1\n",
    "for i in range(0, rows * cols ): # [0,3)\n",
    "    figure.add_subplot(1, cols, i+1)\n",
    "    plt.axis(\"off\")\n",
    "    plt.imshow(img[i].squeeze())\n",
    "plt.show()"
   ]
  },
  {
   "cell_type": "code",
   "execution_count": 49,
   "metadata": {},
   "outputs": [
    {
     "name": "stdout",
     "output_type": "stream",
     "text": [
      "torch.Size([1, 2, 2])\n"
     ]
    },
    {
     "data": {
      "text/plain": [
       "(torch.Size([2, 2]),\n",
       " tensor([[1, 2],\n",
       "         [4, 5]]))"
      ]
     },
     "execution_count": 49,
     "metadata": {},
     "output_type": "execute_result"
    },
    {
     "data": {
      "image/png": "[encoded data removed]",
      "text/plain": [
       "<Figure size 640x480 with 2 Axes>"
      ]
     },
     "metadata": {},
     "output_type": "display_data"
    }
   ],
   "source": [
    "img = torch.tensor([[[1,2],[4,5]]]) # 1个2X2的图像\n",
    "print(img.shape)\n",
    "plt.figure()\n",
    "img1 = img.squeeze() # 这个功能块把3维变成2维\n",
    "plt.imshow(img1)\n",
    "plt.colorbar()\n",
    "\n",
    "img1.shape, img1"
   ]
  },
  {
   "cell_type": "code",
   "execution_count": 53,
   "metadata": {},
   "outputs": [
    {
     "data": {
      "image/png": "[encoded data removed]",
      "text/plain": [
       "<Figure size 640x480 with 2 Axes>"
      ]
     },
     "metadata": {},
     "output_type": "display_data"
    }
   ],
   "source": [
    "import matplotlib.pyplot as plt\n",
    "from matplotlib.colors import LinearSegmentedColormap\n",
    "import numpy as np\n",
    "\n",
    "# Define a custom colormap mapping values from 0 to 255 to colors\n",
    "colors = [(0, 0, 0), (1, 1, 1)]  # Black to white\n",
    "cmap_name = 'custom_map'\n",
    "cm = LinearSegmentedColormap.from_list(cmap_name, colors, N=256)\n",
    "\n",
    "# Create a sample image (replace this with your image)\n",
    "image = np.random.randint(0, 255, (100, 100))\n",
    "\n",
    "plt.figure()\n",
    "plt.imshow(image, cmap=cm)\n",
    "plt.colorbar()\n",
    "plt.grid(False)\n",
    "plt.show()\n"
   ]
  },
  {
   "cell_type": "code",
   "execution_count": 1,
   "metadata": {},
   "outputs": [
    {
     "name": "stdout",
     "output_type": "stream",
     "text": [
      "10 20\n",
      "area=10, length=20\n",
      "area={a}, length={b}\n"
     ]
    }
   ],
   "source": [
    "a,b = 10,20\n",
    "print(a,b)\n",
    "print(f'area={a}, length={b}')\n",
    "print('area={a}, length={b}')"
   ]
  }
 ],
 "metadata": {
  "kernelspec": {
   "display_name": "env",
   "language": "python",
   "name": "python3"
  },
  "language_info": {
   "codemirror_mode": {
    "name": "ipython",
    "version": 3
   },
   "file_extension": ".py",
   "mimetype": "text/x-python",
   "name": "python",
   "nbconvert_exporter": "python",
   "pygments_lexer": "ipython3",
   "version": "3.10.4"
  }
 },
 "nbformat": 4,
 "nbformat_minor": 2
}
