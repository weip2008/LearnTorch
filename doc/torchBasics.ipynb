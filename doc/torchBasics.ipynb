{
 "cells": [
  {
   "cell_type": "code",
   "execution_count": null,
   "metadata": {},
   "outputs": [],
   "source": [
    "print(\"hello world\")"
   ]
  },
  {
   "cell_type": "code",
   "execution_count": 2,
   "metadata": {},
   "outputs": [
    {
     "data": {
      "text/plain": [
       "'2.2.1+cpu'"
      ]
     },
     "execution_count": 2,
     "metadata": {},
     "output_type": "execute_result"
    }
   ],
   "source": [
    "import torch\n",
    "\n",
    "torch.__version__"
   ]
  },
  {
   "cell_type": "markdown",
   "metadata": {},
   "source": [
    "## Torch Tensor\n",
    "* dim: dimension\n",
    "* ndim: number of dimension\n",
    "* "
   ]
  },
  {
   "cell_type": "code",
   "execution_count": 3,
   "metadata": {},
   "outputs": [
    {
     "data": {
      "text/plain": [
       "(torch.Tensor, 2, torch.Size([2, 9]), torch.Size([2, 9]))"
      ]
     },
     "execution_count": 3,
     "metadata": {},
     "output_type": "execute_result"
    }
   ],
   "source": [
    "t = torch.Tensor([[1,2,3,4,5,6,7,8,9],\n",
    "                  [11,12,13,14,15,16,17,18,19]])\n",
    "type(t), t.ndim, t.shape, t.size() # return representation of shape of a tensor"
   ]
  },
  {
   "cell_type": "code",
   "execution_count": 4,
   "metadata": {},
   "outputs": [
    {
     "data": {
      "text/plain": [
       "(numpy.ndarray, 2, (2, 9), 18)"
      ]
     },
     "execution_count": 4,
     "metadata": {},
     "output_type": "execute_result"
    }
   ],
   "source": [
    "a = t.numpy()\n",
    "type(a), a.ndim, a.shape, a.size"
   ]
  },
  {
   "cell_type": "code",
   "execution_count": 5,
   "metadata": {},
   "outputs": [
    {
     "data": {
      "text/plain": [
       "(torch.Tensor, 2, torch.Size([2, 9]), <function Tensor.size>)"
      ]
     },
     "execution_count": 5,
     "metadata": {},
     "output_type": "execute_result"
    }
   ],
   "source": [
    "t1 = torch.tensor(a)\n",
    "type(t1), t1.ndim, t1.shape, t1.size"
   ]
  },
  {
   "cell_type": "code",
<<<<<<< HEAD
   "execution_count": 6,
=======
   "execution_count": 7,
>>>>>>> ae7d5dfcf21e6db1316c8d4dd6a7d5d46561330a
   "metadata": {},
   "outputs": [
    {
     "data": {
      "text/plain": [
       "(torch.Tensor, torch.Size([3, 2]))"
      ]
     },
<<<<<<< HEAD
     "execution_count": 6,
=======
     "execution_count": 7,
>>>>>>> ae7d5dfcf21e6db1316c8d4dd6a7d5d46561330a
     "metadata": {},
     "output_type": "execute_result"
    }
   ],
   "source": [
<<<<<<< HEAD
    "# Use a Tensor instance to represent a gray image\n",
    "# the number is between [0-255] to represent the grey degree\n",
    "image = torch.Tensor(((12,124),(34,255), (67,110)))\n",
=======
    "# use a Tensor instance to represent a gray image, \n",
    "# the number is between [0,255] to represent the grey degree\n",
    "image = torch.Tensor(((12, 124),(34, 255),(67, 110)))\n",
>>>>>>> ae7d5dfcf21e6db1316c8d4dd6a7d5d46561330a
    "type(image), image.shape"
   ]
  },
  {
   "cell_type": "code",
<<<<<<< HEAD
   "execution_count": 7,
=======
   "execution_count": 11,
>>>>>>> ae7d5dfcf21e6db1316c8d4dd6a7d5d46561330a
   "metadata": {},
   "outputs": [
    {
     "data": {
      "image/png": "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",
      "text/plain": [
       "<Figure size 640x480 with 2 Axes>"
      ]
     },
     "metadata": {},
     "output_type": "display_data"
    }
   ],
   "source": [
    "import matplotlib.pyplot as plt\n",
    "\n",
    "plt.figure()\n",
<<<<<<< HEAD
    "plt.imshow(image, cmap = 'gray')\n",
=======
    "plt.imshow(image, cmap='gray')\n",
>>>>>>> ae7d5dfcf21e6db1316c8d4dd6a7d5d46561330a
    "plt.colorbar()\n",
    "plt.grid(False)\n",
    "plt.show()"
   ]
  },
  {
   "cell_type": "markdown",
   "metadata": {},
   "source": [
    "## Use functions empty(), ones(), zeros()"
   ]
  },
  {
   "cell_type": "code",
<<<<<<< HEAD
   "execution_count": 15,
=======
   "execution_count": 17,
>>>>>>> ae7d5dfcf21e6db1316c8d4dd6a7d5d46561330a
   "metadata": {},
   "outputs": [
    {
     "data": {
      "text/plain": [
       "(tensor([[0., 0.],\n",
       "         [0., 0.],\n",
       "         [0., 0.],\n",
       "         [0., 0.],\n",
       "         [0., 0.],\n",
       "         [0., 0.],\n",
       "         [0., 0.],\n",
       "         [0., 0.],\n",
       "         [0., 0.],\n",
       "         [0., 0.]]),\n",
       " torch.Tensor,\n",
       " 2,\n",
       " torch.Size([10, 2]))"
      ]
     },
<<<<<<< HEAD
     "execution_count": 15,
=======
     "execution_count": 17,
>>>>>>> ae7d5dfcf21e6db1316c8d4dd6a7d5d46561330a
     "metadata": {},
     "output_type": "execute_result"
    }
   ],
   "source": [
    "t = torch.empty(10,2)\n",
    "t, type(t), t.ndim, t.shape"
   ]
  },
  {
   "cell_type": "code",
<<<<<<< HEAD
   "execution_count": 9,
=======
   "execution_count": 15,
>>>>>>> ae7d5dfcf21e6db1316c8d4dd6a7d5d46561330a
   "metadata": {},
   "outputs": [
    {
     "data": {
      "text/plain": [
       "(tensor([1., 1., 1., 1., 1., 1., 1., 1., 1., 1.]),\n",
       " torch.Tensor,\n",
       " 1,\n",
       " torch.Size([10]))"
      ]
     },
<<<<<<< HEAD
     "execution_count": 9,
=======
     "execution_count": 15,
>>>>>>> ae7d5dfcf21e6db1316c8d4dd6a7d5d46561330a
     "metadata": {},
     "output_type": "execute_result"
    }
   ],
   "source": [
    "t = torch.ones(10)\n",
    "t, type(t), t.ndim, t.shape"
   ]
  },
  {
   "cell_type": "code",
<<<<<<< HEAD
   "execution_count": 13,
=======
   "execution_count": 16,
>>>>>>> ae7d5dfcf21e6db1316c8d4dd6a7d5d46561330a
   "metadata": {},
   "outputs": [
    {
     "data": {
      "text/plain": [
       "(tensor([0., 0., 0., 0., 0., 0., 0., 0., 0., 0.]),\n",
       " torch.Tensor,\n",
       " 1,\n",
       " torch.Size([10]))"
      ]
     },
<<<<<<< HEAD
     "execution_count": 13,
=======
     "execution_count": 16,
>>>>>>> ae7d5dfcf21e6db1316c8d4dd6a7d5d46561330a
     "metadata": {},
     "output_type": "execute_result"
    }
   ],
   "source": [
    "t = torch.zeros(10)\n",
    "t, type(t), t.ndim, t.shape"
   ]
  },
  {
   "cell_type": "code",
<<<<<<< HEAD
   "execution_count": 10,
=======
   "execution_count": 33,
>>>>>>> ae7d5dfcf21e6db1316c8d4dd6a7d5d46561330a
   "metadata": {},
   "outputs": [
    {
     "data": {
<<<<<<< HEAD
      "image/png": "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",
=======
      "image/png": "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",
>>>>>>> ae7d5dfcf21e6db1316c8d4dd6a7d5d46561330a
      "text/plain": [
       "<Figure size 640x480 with 1 Axes>"
      ]
     },
     "metadata": {},
     "output_type": "display_data"
    }
   ],
   "source": [
<<<<<<< HEAD
    "x = torch.empty(size=(2,100)).uniform_(0,10)\n",
    "plt.plot(x.numpy()[0], 'b^')\n",
    "plt.plot(x.numpy()[1], 'r*')\n",
=======
    "x = torch.empty(size=(2,100)).uniform_(0,10) \n",
    "#create 2D array, 2 rows and 100 number which is uniformly distributed between 0 and 10.\n",
    "plt.plot(x.numpy()[0],'b^')\n",
    "plt.plot(x.numpy()[1],'r*')\n",
>>>>>>> ae7d5dfcf21e6db1316c8d4dd6a7d5d46561330a
    "plt.show()"
   ]
  },
  {
   "cell_type": "code",
<<<<<<< HEAD
   "execution_count": 16,
=======
   "execution_count": 39,
>>>>>>> ae7d5dfcf21e6db1316c8d4dd6a7d5d46561330a
   "metadata": {},
   "outputs": [
    {
     "data": {
      "text/plain": [
<<<<<<< HEAD
       "(tensor([[0., 0.],\n",
       "         [0., 0.],\n",
       "         [0., 0.],\n",
       "         [0., 0.],\n",
       "         [0., 0.],\n",
       "         [0., 0.],\n",
       "         [0., 0.],\n",
=======
       "(tensor([[0., 3.],\n",
       "         [0., 0.],\n",
       "         [0., 0.],\n",
       "         [0., 4.],\n",
       "         [0., 0.],\n",
       "         [0., 0.],\n",
       "         [6., 0.],\n",
>>>>>>> ae7d5dfcf21e6db1316c8d4dd6a7d5d46561330a
       "         [0., 0.],\n",
       "         [0., 0.],\n",
       "         [0., 0.]]),\n",
       " torch.Size([10, 2]))"
      ]
     },
<<<<<<< HEAD
     "execution_count": 16,
=======
     "execution_count": 39,
>>>>>>> ae7d5dfcf21e6db1316c8d4dd6a7d5d46561330a
     "metadata": {},
     "output_type": "execute_result"
    }
   ],
   "source": [
<<<<<<< HEAD
    "t, t.shape"
=======
    "t[0][1]=3\n",
    "t[3][1]=4\n",
    "t[6][0]=6\n",
    "t,t.shape"
>>>>>>> ae7d5dfcf21e6db1316c8d4dd6a7d5d46561330a
   ]
  },
  {
   "cell_type": "code",
<<<<<<< HEAD
   "execution_count": 17,
=======
   "execution_count": 43,
>>>>>>> ae7d5dfcf21e6db1316c8d4dd6a7d5d46561330a
   "metadata": {},
   "outputs": [
    {
     "data": {
      "text/plain": [
<<<<<<< HEAD
       "tensor([[0., 0., 0., 0., 0., 0., 0., 0., 0., 0.],\n",
       "        [0., 0., 0., 0., 0., 0., 0., 0., 0., 0.]])"
      ]
     },
     "execution_count": 17,
=======
       "(tensor([[0., 3., 0., 0., 0.],\n",
       "         [0., 0., 4., 0., 0.],\n",
       "         [0., 0., 6., 0., 0.],\n",
       "         [0., 0., 0., 0., 0.]]),\n",
       " tensor([[0., 0., 0., 0.],\n",
       "         [3., 0., 0., 0.],\n",
       "         [0., 4., 6., 0.],\n",
       "         [0., 0., 0., 0.],\n",
       "         [0., 0., 0., 0.]]))"
      ]
     },
     "execution_count": 43,
>>>>>>> ae7d5dfcf21e6db1316c8d4dd6a7d5d46561330a
     "metadata": {},
     "output_type": "execute_result"
    }
   ],
   "source": [
<<<<<<< HEAD
    "t1 = t.reshape(2,10)\n",
    "t1"
=======
    "t1 = t.reshape(4,5)\n",
    "t1,t1.T"
>>>>>>> ae7d5dfcf21e6db1316c8d4dd6a7d5d46561330a
   ]
  },
  {
   "cell_type": "markdown",
   "metadata": {},
   "source": [
    "## Tensor Operation\n",
<<<<<<< HEAD
    "1. +, -, *, /\n",
    "2. sum(), sin(), cos()"
=======
    "1. +,-,*,/\n",
    "2. sum(), sin(), cos(), numel()"
>>>>>>> ae7d5dfcf21e6db1316c8d4dd6a7d5d46561330a
   ]
  },
  {
   "cell_type": "code",
<<<<<<< HEAD
   "execution_count": 21,
=======
   "execution_count": 49,
>>>>>>> ae7d5dfcf21e6db1316c8d4dd6a7d5d46561330a
   "metadata": {},
   "outputs": [
    {
     "data": {
      "text/plain": [
<<<<<<< HEAD
       "(tensor(0.), 20)"
      ]
     },
     "execution_count": 21,
=======
       "(20, tensor(13.))"
      ]
     },
     "execution_count": 49,
>>>>>>> ae7d5dfcf21e6db1316c8d4dd6a7d5d46561330a
     "metadata": {},
     "output_type": "execute_result"
    }
   ],
   "source": [
<<<<<<< HEAD
    "x = torch.sum(t)\n",
    "x1 = torch.numel(t)\n",
=======
    "x = torch.numel(t)\n",
    "x1 = torch.sum(t)\n",
>>>>>>> ae7d5dfcf21e6db1316c8d4dd6a7d5d46561330a
    "x,x1"
   ]
  }
 ],
 "metadata": {
  "kernelspec": {
   "display_name": "env",
   "language": "python",
   "name": "python3"
  },
  "language_info": {
   "codemirror_mode": {
    "name": "ipython",
    "version": 3
   },
   "file_extension": ".py",
   "mimetype": "text/x-python",
   "name": "python",
   "nbconvert_exporter": "python",
   "pygments_lexer": "ipython3",
   "version": "3.10.10"
  }
 },
 "nbformat": 4,
 "nbformat_minor": 2
}
