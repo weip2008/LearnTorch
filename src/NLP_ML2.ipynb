{
 "cells": [
  {
   "cell_type": "code",
   "execution_count": null,
   "metadata": {},
   "outputs": [
    {
     "name": "stdout",
     "output_type": "stream",
     "text": [
      "The Nine-Figure Home Sale Isnt Going Anywhere\n",
      "\n",
      "            Today 09:00PM\n",
      "        \n",
      "Amazon (AMZN) Ascends While Market Falls: Some Facts to Note\n",
      "\n",
      "            05:45PM\n",
      "        \n",
      "The scary 'incentive' companies have given Trump\n",
      "\n",
      "            05:33PM\n",
      "        \n",
      "Could Amazon buy Lyft in 2025? The Information thinks so.\n",
      "\n",
      "            04:17PM\n",
      "        \n"
     ]
    }
   ],
   "source": [
    "# 采集分析 AMZN 的股票新闻并计算每周向量情绪得分 {即：负面、中性、正面、复合\n",
    "\n",
    "import matplotlib.pyplot as plt\n",
    "from bs4 import BeautifulSoup\n",
    "import pandas as pd\n",
    "from urllib.request import urlopen, Request\n",
    "from nltk.sentiment.vader import SentimentIntensityAnalyzer\n",
    "\n",
    "web_url = 'https://finviz.com/quote.ashx?t='\n",
    "\n",
    "news_tables = {}\n",
    "tickers = ['AMZN', 'GOOG', 'TSLA']\n",
    "\n",
    "for tick in tickers:\n",
    "    url = web_url + tick\n",
    "    req = Request(url=url,headers={\"User-Agent\": \"Chrome\"}) \n",
    "    response = urlopen(req)    \n",
    "    html = BeautifulSoup(response,\"html.parser\")\n",
    "    news_table = html.find(id='news-table')\n",
    "    news_tables[tick] = news_table\n",
    "\n",
    "amazon = news_tables['AMZN']\n",
    "amazon_tr = amazon.findAll('tr')\n",
    "\n",
    "for x, table_row in enumerate(amazon_tr):\n",
    "    a_text = table_row.a.text\n",
    "    td_text = table_row.td.text\n",
    "    print(a_text)\n",
    "    print(td_text)\n",
    "    if x == 10:\n",
    "        break\n"
   ]
  },
  {
   "cell_type": "code",
   "execution_count": 4,
   "metadata": {},
   "outputs": [
    {
     "ename": "AttributeError",
     "evalue": "'NoneType' object has no attribute 'get_text'",
     "output_type": "error",
     "traceback": [
      "\u001b[1;31m---------------------------------------------------------------------------\u001b[0m",
      "\u001b[1;31mAttributeError\u001b[0m                            Traceback (most recent call last)",
      "Cell \u001b[1;32mIn[4], line 8\u001b[0m\n\u001b[0;32m      5\u001b[0m \u001b[38;5;28;01mfor\u001b[39;00m file_name, news_table \u001b[38;5;129;01min\u001b[39;00m news_tables\u001b[38;5;241m.\u001b[39mitems():\n\u001b[0;32m      6\u001b[0m     \u001b[38;5;28;01mfor\u001b[39;00m i \u001b[38;5;129;01min\u001b[39;00m news_table\u001b[38;5;241m.\u001b[39mfindAll(\u001b[38;5;124m'\u001b[39m\u001b[38;5;124mtr\u001b[39m\u001b[38;5;124m'\u001b[39m):\n\u001b[1;32m----> 8\u001b[0m         text \u001b[38;5;241m=\u001b[39m \u001b[43mi\u001b[49m\u001b[38;5;241;43m.\u001b[39;49m\u001b[43ma\u001b[49m\u001b[38;5;241;43m.\u001b[39;49m\u001b[43mget_text\u001b[49m() \n\u001b[0;32m     10\u001b[0m         date_scrape \u001b[38;5;241m=\u001b[39m i\u001b[38;5;241m.\u001b[39mtd\u001b[38;5;241m.\u001b[39mtext\u001b[38;5;241m.\u001b[39msplit()\n\u001b[0;32m     12\u001b[0m         \u001b[38;5;28;01mif\u001b[39;00m \u001b[38;5;28mlen\u001b[39m(date_scrape) \u001b[38;5;241m==\u001b[39m \u001b[38;5;241m1\u001b[39m:\n",
      "\u001b[1;31mAttributeError\u001b[0m: 'NoneType' object has no attribute 'get_text'"
     ]
    }
   ],
   "source": [
    "#  创建新闻列表\n",
    "\n",
    "news_list = []\n",
    "\n",
    "for file_name, news_table in news_tables.items():\n",
    "    for i in news_table.findAll('tr'):\n",
    "\n",
    "        text = i.a.get_text() \n",
    "\n",
    "        date_scrape = i.td.text.split()\n",
    "\n",
    "        if len(date_scrape) == 1:\n",
    "            time = date_scrape[0]\n",
    "\n",
    "        else:\n",
    "            date = date_scrape[0]\n",
    "            time = date_scrape[1]\n",
    "\n",
    "        tick = file_name.split('_')[0]\n",
    "\n",
    "        news_list.append([tick, date, time, text])\n",
    "\n",
    "print(news_list)\n"
   ]
  }
 ],
 "metadata": {
  "kernelspec": {
   "display_name": "env",
   "language": "python",
   "name": "python3"
  },
  "language_info": {
   "codemirror_mode": {
    "name": "ipython",
    "version": 3
   },
   "file_extension": ".py",
   "mimetype": "text/x-python",
   "name": "python",
   "nbconvert_exporter": "python",
   "pygments_lexer": "ipython3",
   "version": "3.10.10"
  }
 },
 "nbformat": 4,
 "nbformat_minor": 2
}
