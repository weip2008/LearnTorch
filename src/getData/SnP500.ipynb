{
 "cells": [
  {
   "cell_type": "code",
   "execution_count": 35,
   "metadata": {},
   "outputs": [
    {
     "name": "stdout",
     "output_type": "stream",
     "text": [
      "0       MMM\n",
      "1       AOS\n",
      "2       ABT\n",
      "3      ABBV\n",
      "4       ACN\n",
      "       ... \n",
      "498     XYL\n",
      "499     YUM\n",
      "500    ZBRA\n",
      "501     ZBH\n",
      "502     ZTS\n",
      "Name: Symbol, Length: 503, dtype: object\n",
      "    Symbol\n",
      "0      MMM\n",
      "1      AOS\n",
      "2      ABT\n",
      "3     ABBV\n",
      "4      ACN\n",
      "..     ...\n",
      "498    XYL\n",
      "499    YUM\n",
      "500   ZBRA\n",
      "501    ZBH\n",
      "502    ZTS\n",
      "\n",
      "[503 rows x 1 columns]\n"
     ]
    }
   ],
   "source": [
    "import pandas as pd\n",
    "\n",
    "# URL of the Wikipedia page containing the list of S&P 500 companies\n",
    "url = 'https://en.wikipedia.org/wiki/List_of_S%26P_500_companies'\n",
    "\n",
    "# Use pandas to read the tables on the page\n",
    "tables = pd.read_html(url)\n",
    "\n",
    "# The S&P 500 table is the first table on the page\n",
    "sp500_table = tables[0]\n",
    "\n",
    "# Extract the 'Symbol' column which contains the tickers\n",
    "tickers = sp500_table['Symbol']\n",
    "\n",
    "print(tickers)\n",
    "\n",
    "# Convert the tickers to a DataFrame\n",
    "df_tickers = pd.DataFrame(tickers, columns=['Symbol'])\n",
    "\n",
    "# Print the DataFrame\n",
    "print(df_tickers)\n",
    "\n",
    "# Save the tickers to a CSV file\n",
    "df_tickers.to_csv('../data/sp500_tickers.csv', index=False)\n"
   ]
  }
 ],
 "metadata": {
  "kernelspec": {
   "display_name": "env",
   "language": "python",
   "name": "python3"
  },
  "language_info": {
   "codemirror_mode": {
    "name": "ipython",
    "version": 3
   },
   "file_extension": ".py",
   "mimetype": "text/x-python",
   "name": "python",
   "nbconvert_exporter": "python",
   "pygments_lexer": "ipython3",
   "version": "3.10.9"
  }
 },
 "nbformat": 4,
 "nbformat_minor": 2
}
