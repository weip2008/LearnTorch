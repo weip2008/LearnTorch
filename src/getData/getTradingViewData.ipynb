{
 "cells": [
  {
   "cell_type": "code",
   "execution_count": 90,
   "metadata": {},
   "outputs": [
    {
     "name": "stderr",
     "output_type": "stream",
     "text": [
      "WARNING:tvDatafeed.main:you are using nologin method, data you access may be limited\n"
     ]
    }
   ],
   "source": [
    "from tvDatafeed import TvDatafeed, Interval\n",
    "from datetime import datetime\n",
    "\n",
    "tv = TvDatafeed()"
   ]
  },
  {
   "cell_type": "code",
   "execution_count": 91,
   "metadata": {},
   "outputs": [
    {
     "data": {
      "text/plain": [
       "'5M'"
      ]
     },
     "execution_count": 91,
     "metadata": {},
     "output_type": "execute_result"
    }
   ],
   "source": [
    "# futures NQ and ES as list\n",
    "futures = [\"NQ1!\", \"ES1!\"]\n",
    "# periods enum and short string list\n",
    "periods = [[Interval.in_1_minute, \"1M\"],\n",
    "            [Interval.in_5_minute, \"5M\"],\n",
    "            # [Interval.in_30_minute, \"30M\"],\n",
    "            # [Interval.in_4_hour, \"4H\"],\n",
    "            # [Interval.in_daily,\"1D\"]\n",
    "            ]\n",
    "# print(periods[3][1])\n",
    "periods[1][1]"
   ]
  },
  {
   "cell_type": "code",
   "execution_count": 92,
   "metadata": {},
   "outputs": [
    {
     "name": "stdout",
     "output_type": "stream",
     "text": [
      "[['NQ1!', <Interval.in_1_minute: '1'>, '1M'], ['NQ1!', <Interval.in_5_minute: '5'>, '5M'], ['ES1!', <Interval.in_1_minute: '1'>, '1M'], ['ES1!', <Interval.in_5_minute: '5'>, '5M']]\n"
     ]
    }
   ],
   "source": [
    "# this design make it more flexible to add more symbol and interval.\n",
    "# merge them to new list\n",
    "merged = [[future] + period for future in futures for period in periods]\n",
    "print(merged)"
   ]
  },
  {
   "cell_type": "code",
   "execution_count": 93,
   "metadata": {},
   "outputs": [
    {
     "name": "stdout",
     "output_type": "stream",
     "text": [
      "                            symbol      open      high       low     close  \\\n",
      "datetime                                                                     \n",
      "2024-08-22 20:06:00  CME_MINI:NQ1!  19645.00  19648.00  19644.00  19646.75   \n",
      "2024-08-22 20:07:00  CME_MINI:NQ1!  19646.25  19647.50  19646.25  19647.50   \n",
      "2024-08-22 20:08:00  CME_MINI:NQ1!  19648.25  19649.50  19645.25  19649.00   \n",
      "2024-08-22 20:09:00  CME_MINI:NQ1!  19648.75  19653.00  19648.25  19652.50   \n",
      "2024-08-22 20:10:00  CME_MINI:NQ1!  19652.75  19653.00  19650.75  19651.50   \n",
      "...                            ...       ...       ...       ...       ...   \n",
      "2024-09-08 22:23:00  CME_MINI:NQ1!  18522.50  18525.00  18522.50  18523.50   \n",
      "2024-09-08 22:24:00  CME_MINI:NQ1!  18524.00  18525.00  18523.00  18524.50   \n",
      "2024-09-08 22:25:00  CME_MINI:NQ1!  18525.00  18525.25  18522.75  18524.00   \n",
      "2024-09-08 22:26:00  CME_MINI:NQ1!  18523.75  18524.50  18521.50  18523.25   \n",
      "2024-09-08 22:27:00  CME_MINI:NQ1!  18524.00  18524.00  18524.00  18524.00   \n",
      "\n",
      "                     volume  \n",
      "datetime                     \n",
      "2024-08-22 20:06:00    30.0  \n",
      "2024-08-22 20:07:00    13.0  \n",
      "2024-08-22 20:08:00    41.0  \n",
      "2024-08-22 20:09:00   144.0  \n",
      "2024-08-22 20:10:00   107.0  \n",
      "...                     ...  \n",
      "2024-09-08 22:23:00    62.0  \n",
      "2024-09-08 22:24:00    29.0  \n",
      "2024-09-08 22:25:00    35.0  \n",
      "2024-09-08 22:26:00    38.0  \n",
      "2024-09-08 22:27:00     1.0  \n",
      "\n",
      "[15080 rows x 6 columns]\n"
     ]
    }
   ],
   "source": [
    "df = tv.get_hist(symbol='NQ1!', exchange='CME_MINI', interval=Interval.in_1_minute, n_bars=100000)\n",
    "print(df)"
   ]
  },
  {
   "cell_type": "code",
   "execution_count": 94,
   "metadata": {},
   "outputs": [],
   "source": [
    "import pandas as pd\n",
    "from sqlalchemy import create_engine, inspect\n",
    "\n",
    "engine = create_engine('sqlite:///data/ESNQ_DB.db')"
   ]
  },
  {
   "cell_type": "code",
   "execution_count": 104,
   "metadata": {},
   "outputs": [
    {
     "name": "stdout",
     "output_type": "stream",
     "text": [
      "Tables in the database:\n"
     ]
    },
    {
     "data": {
      "text/plain": [
       "['ES1D',\n",
       " 'ES1M',\n",
       " 'ES30M',\n",
       " 'ES4H',\n",
       " 'ES5M',\n",
       " 'NQ1D',\n",
       " 'NQ1M',\n",
       " 'NQ30M',\n",
       " 'NQ4H',\n",
       " 'NQ5M']"
      ]
     },
     "execution_count": 104,
     "metadata": {},
     "output_type": "execute_result"
    }
   ],
   "source": [
    "table_names = inspect(engine).get_table_names()\n",
    "\n",
    "print(\"Tables in the database:\")\n",
    "table_names"
   ]
  },
  {
   "cell_type": "code",
   "execution_count": 96,
   "metadata": {},
   "outputs": [],
   "source": [
    "def sql_importer (df, table_name):\n",
    "    # Use inspector to check if the table exists\n",
    "    inspector = inspect(engine)\n",
    "    if not inspector.has_table(table_name):\n",
    "        df.to_sql(table_name, engine, if_exists='append')\n",
    "        print (f'New table created for {table_name} with {str(len(df))} rows')\n",
    "    else:\n",
    "        max_date = pd.read_sql(f'SELECT MAX(datetime) FROM {table_name}', engine).values[0][0]\n",
    "        print(max_date)\n",
    "        df = df[df.datetime > max_date]\n",
    "        df.to_sql(table_name, engine, if_exists='append')\n",
    "        print(str(len(df)) + ' new rows imported to DB')"
   ]
  },
  {
   "cell_type": "code",
   "execution_count": 110,
   "metadata": {},
   "outputs": [
    {
     "data": {
      "text/plain": [
       "['NQ_2024-09-01_2024-09-06_1M.csv',\n",
       " 'NQ_2024-08-11_2024-09-06_5M.csv',\n",
       " 'NQ_2024-01-01_2024-09-06_30M.csv',\n",
       " 'NQ_2021-01-03_2024-09-06_4H.csv',\n",
       " 'NQ_1999-06-29_2024-09-05_1D.csv',\n",
       " 'ES_2024-08-22_2024-09-06_1M.csv',\n",
       " 'ES_2024-08-11_2024-09-06_5M.csv',\n",
       " 'ES_2024-01-01_2024-09-06_30M.csv',\n",
       " 'ES_2021-01-03_2024-09-06_4H.csv',\n",
       " 'ES_1997-09-08_2024-09-05_1D.csv']"
      ]
     },
     "execution_count": 110,
     "metadata": {},
     "output_type": "execute_result"
    }
   ],
   "source": [
    "files = ['NQ_2024-09-01_2024-09-06_1M.csv',\n",
    "         'NQ_2024-08-11_2024-09-06_5M.csv',\n",
    "         'NQ_2024-01-01_2024-09-06_30M.csv',\n",
    "         'NQ_2021-01-03_2024-09-06_4H.csv',\n",
    "         'NQ_1999-06-29_2024-09-05_1D.csv',\n",
    "         'ES_2024-08-22_2024-09-06_1M.csv',\n",
    "         'ES_2024-08-11_2024-09-06_5M.csv',\n",
    "         'ES_2024-01-01_2024-09-06_30M.csv',\n",
    "         'ES_2021-01-03_2024-09-06_4H.csv',\n",
    "         'ES_1997-09-08_2024-09-05_1D.csv']\n",
    "files"
   ]
  },
  {
   "cell_type": "code",
   "execution_count": 113,
   "metadata": {},
   "outputs": [
    {
     "name": "stdout",
     "output_type": "stream",
     "text": [
      "NQ_2024-09-01_2024-09-06_1M.csv\n",
      "NQ_2024-08-11_2024-09-06_5M.csv\n",
      "NQ_2024-01-01_2024-09-06_30M.csv\n",
      "NQ_2021-01-03_2024-09-06_4H.csv\n",
      "NQ_1999-06-29_2024-09-05_1D.csv\n",
      "ES_2024-08-22_2024-09-06_1M.csv\n",
      "ES_2024-08-11_2024-09-06_5M.csv\n",
      "ES_2024-01-01_2024-09-06_30M.csv\n",
      "ES_2021-01-03_2024-09-06_4H.csv\n",
      "ES_1997-09-08_2024-09-05_1D.csv\n"
     ]
    },
    {
     "name": "stderr",
     "output_type": "stream",
     "text": [
      "112762.23s - pydevd: Sending message related to process being replaced timed-out after 5 seconds\n"
     ]
    },
    {
     "name": "stdout",
     "output_type": "stream",
     "text": [
      "/Users/wei/mydoc/workspace/torch/src/getData\n"
     ]
    }
   ],
   "source": [
    "for file in files:\n",
    "    print(file)\n"
   ]
  },
  {
   "cell_type": "code",
   "execution_count": 98,
   "metadata": {},
   "outputs": [
    {
     "data": {
      "text/plain": [
       "['NQ1M',\n",
       " 'NQ5M',\n",
       " 'NQ30M',\n",
       " 'NQ4H',\n",
       " 'NQ1D',\n",
       " 'ES1M',\n",
       " 'ES5M',\n",
       " 'ES30M',\n",
       " 'ES4H',\n",
       " 'ES1D']"
      ]
     },
     "execution_count": 98,
     "metadata": {},
     "output_type": "execute_result"
    }
   ],
   "source": [
    "# Process the array to extract instrument and time frame\n",
    "tablenames = [f\"{file.split('_')[0]}{file.split('_')[-1].replace('.csv', '')}\" for file in files]\n",
    "tablenames"
   ]
  },
  {
   "cell_type": "code",
   "execution_count": 99,
   "metadata": {},
   "outputs": [],
   "source": [
    "import pandas as pd\n",
    "from sqlalchemy import create_engine\n",
    "# merged = zip(files, tablenames)\n",
    "merged = list(zip(files, tablenames))\n"
   ]
  },
  {
   "cell_type": "code",
   "execution_count": null,
   "metadata": {},
   "outputs": [],
   "source": [
    "import os\n",
    "datadir = 'stockdata'\n",
    "for file, tablename in merged:\n",
    "    print(f\"Loading data into {tablename}\")\n",
    "    filename = os.path.join(datadir, file)\n",
    "    df = pd.read_csv(filename)\n",
    "    sql_importer(df, tablename)"
   ]
  },
  {
   "cell_type": "code",
   "execution_count": null,
   "metadata": {},
   "outputs": [],
   "source": [
    "\n",
    "pd.read_sql('ES30M', engine)"
   ]
  }
 ],
 "metadata": {
  "kernelspec": {
   "display_name": "env",
   "language": "python",
   "name": "python3"
  },
  "language_info": {
   "codemirror_mode": {
    "name": "ipython",
    "version": 3
   },
   "file_extension": ".py",
   "mimetype": "text/x-python",
   "name": "python",
   "nbconvert_exporter": "python",
   "pygments_lexer": "ipython3",
   "version": "3.10.9"
  }
 },
 "nbformat": 4,
 "nbformat_minor": 2
}
