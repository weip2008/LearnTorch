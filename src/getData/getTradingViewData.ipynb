{
 "cells": [
  {
   "cell_type": "code",
   "execution_count": 90,
   "metadata": {},
   "outputs": [
    {
     "name": "stderr",
     "output_type": "stream",
     "text": [
      "WARNING:tvDatafeed.main:you are using nologin method, data you access may be limited\n"
     ]
    }
   ],
   "source": [
    "from tvDatafeed import TvDatafeed, Interval\n",
    "from datetime import datetime\n",
    "\n",
    "tv = TvDatafeed()"
   ]
  },
  {
   "cell_type": "code",
   "execution_count": 91,
   "metadata": {},
   "outputs": [
    {
     "data": {
      "text/plain": [
       "'5M'"
      ]
     },
     "execution_count": 91,
     "metadata": {},
     "output_type": "execute_result"
    }
   ],
   "source": [
    "# futures NQ and ES as list\n",
    "futures = [\"NQ1!\", \"ES1!\"]\n",
    "# periods enum and short string list\n",
    "periods = [[Interval.in_1_minute, \"1M\"],\n",
    "            [Interval.in_5_minute, \"5M\"],\n",
    "            # [Interval.in_30_minute, \"30M\"],\n",
    "            # [Interval.in_4_hour, \"4H\"],\n",
    "            # [Interval.in_daily,\"1D\"]\n",
    "            ]\n",
    "# print(periods[3][1])\n",
    "periods[1][1]"
   ]
  },
  {
   "cell_type": "code",
   "execution_count": 92,
   "metadata": {},
   "outputs": [
    {
     "name": "stdout",
     "output_type": "stream",
     "text": [
      "[['NQ1!', <Interval.in_1_minute: '1'>, '1M'], ['NQ1!', <Interval.in_5_minute: '5'>, '5M'], ['ES1!', <Interval.in_1_minute: '1'>, '1M'], ['ES1!', <Interval.in_5_minute: '5'>, '5M']]\n"
     ]
    }
   ],
   "source": [
    "# this design make it more flexible to add more symbol and interval.\n",
    "# merge them to new list\n",
    "merged = [[future] + period for future in futures for period in periods]\n",
    "print(merged)"
   ]
  },
  {
   "cell_type": "code",
   "execution_count": 93,
   "metadata": {},
   "outputs": [
    {
     "name": "stdout",
     "output_type": "stream",
     "text": [
      "                            symbol      open      high       low     close  \\\n",
      "datetime                                                                     \n",
      "2024-08-22 20:06:00  CME_MINI:NQ1!  19645.00  19648.00  19644.00  19646.75   \n",
      "2024-08-22 20:07:00  CME_MINI:NQ1!  19646.25  19647.50  19646.25  19647.50   \n",
      "2024-08-22 20:08:00  CME_MINI:NQ1!  19648.25  19649.50  19645.25  19649.00   \n",
      "2024-08-22 20:09:00  CME_MINI:NQ1!  19648.75  19653.00  19648.25  19652.50   \n",
      "2024-08-22 20:10:00  CME_MINI:NQ1!  19652.75  19653.00  19650.75  19651.50   \n",
      "...                            ...       ...       ...       ...       ...   \n",
      "2024-09-08 22:23:00  CME_MINI:NQ1!  18522.50  18525.00  18522.50  18523.50   \n",
      "2024-09-08 22:24:00  CME_MINI:NQ1!  18524.00  18525.00  18523.00  18524.50   \n",
      "2024-09-08 22:25:00  CME_MINI:NQ1!  18525.00  18525.25  18522.75  18524.00   \n",
      "2024-09-08 22:26:00  CME_MINI:NQ1!  18523.75  18524.50  18521.50  18523.25   \n",
      "2024-09-08 22:27:00  CME_MINI:NQ1!  18524.00  18524.00  18524.00  18524.00   \n",
      "\n",
      "                     volume  \n",
      "datetime                     \n",
      "2024-08-22 20:06:00    30.0  \n",
      "2024-08-22 20:07:00    13.0  \n",
      "2024-08-22 20:08:00    41.0  \n",
      "2024-08-22 20:09:00   144.0  \n",
      "2024-08-22 20:10:00   107.0  \n",
      "...                     ...  \n",
      "2024-09-08 22:23:00    62.0  \n",
      "2024-09-08 22:24:00    29.0  \n",
      "2024-09-08 22:25:00    35.0  \n",
      "2024-09-08 22:26:00    38.0  \n",
      "2024-09-08 22:27:00     1.0  \n",
      "\n",
      "[15080 rows x 6 columns]\n"
     ]
    }
   ],
   "source": [
    "df = tv.get_hist(symbol='NQ1!', exchange='CME_MINI', interval=Interval.in_1_minute, n_bars=100000)\n",
    "print(df)"
   ]
  },
  {
   "cell_type": "code",
   "execution_count": 9,
   "metadata": {},
   "outputs": [],
   "source": [
    "import pandas as pd\n",
    "from sqlalchemy import create_engine, inspect\n",
    "\n",
    "engine = create_engine('sqlite:///data/ESNQ_DB.db')"
   ]
  },
  {
   "cell_type": "code",
   "execution_count": 10,
   "metadata": {},
   "outputs": [
    {
     "name": "stdout",
     "output_type": "stream",
     "text": [
      "Tables in the database:\n"
     ]
    },
    {
     "data": {
      "text/plain": [
       "['ES1D',\n",
       " 'ES1M',\n",
       " 'ES30M',\n",
       " 'ES4H',\n",
       " 'ES5M',\n",
       " 'NQ1D',\n",
       " 'NQ1M',\n",
       " 'NQ30M',\n",
       " 'NQ4H',\n",
       " 'NQ5M']"
      ]
     },
     "execution_count": 10,
     "metadata": {},
     "output_type": "execute_result"
    }
   ],
   "source": [
    "table_names = inspect(engine).get_table_names()\n",
    "\n",
    "print(\"Tables in the database:\")\n",
    "table_names"
   ]
  },
  {
   "cell_type": "code",
   "execution_count": null,
   "metadata": {},
   "outputs": [],
   "source": [
    "files = ['NQ_2024-08-29_2024-09-13_1M.csv',\n",
    "        'NQ_2024-08-18_2024-09-13_5M.csv',\n",
    "        'NQ_2024-01-01_2024-09-13_30M.csv',\n",
    "        'NQ_2021-01-03_2024-09-13_4H.csv',\n",
    "        'NQ_1999-06-29_2024-09-12_1D.csv',\n",
    "        'ES_2024-08-29_2024-09-13_1M.csv',\n",
    "        'ES_2024-08-18_2024-09-13_5M.csv',\n",
    "        'ES_2022-10-18_2024-09-13_30M.csv',\n",
    "        'ES_2021-01-03_2024-09-13_4H.csv',\n",
    "        'ES_1997-09-08_2024-09-12_1D.csv']\n",
    "\n",
    "files\n"
   ]
  },
  {
   "cell_type": "code",
   "execution_count": null,
   "metadata": {},
   "outputs": [],
   "source": [
    "for file in files:\n",
    "    print(file)\n"
   ]
  },
  {
   "cell_type": "code",
   "execution_count": 19,
   "metadata": {},
   "outputs": [],
   "source": [
    "def sql_importer (df, table_name):\n",
    "    # Use inspector to check if the table exists\n",
    "    inspector = inspect(engine)\n",
    "    if not inspector.has_table(table_name):\n",
    "        df.to_sql(table_name, engine, if_exists='append')\n",
    "        print (f'New table created for {table_name} with {str(len(df))} rows')\n",
    "    else:\n",
    "        max_date = pd.read_sql(f'SELECT MAX(datetime) FROM {table_name}', engine).values[0][0]\n",
    "        print(max_date)\n",
    "        df = df[df.datetime > max_date]\n",
    "        df.to_sql(table_name, engine, if_exists='append')\n",
    "        print(str(len(df)) + ' new rows imported to DB')"
   ]
  },
  {
   "cell_type": "code",
   "execution_count": null,
   "metadata": {},
   "outputs": [],
   "source": [
    "# Process the array to extract instrument and time frame\n",
    "tablenames = [f\"{file.split('_')[0]}{file.split('_')[-1].replace('.csv', '')}\" for file in files]\n",
    "tablenames"
   ]
  },
  {
   "cell_type": "code",
   "execution_count": 17,
   "metadata": {},
   "outputs": [],
   "source": [
    "import pandas as pd\n",
    "from sqlalchemy import create_engine\n",
    "# merged = zip(files, tablenames)\n",
    "merged = list(zip(files, tablenames))\n"
   ]
  },
  {
   "cell_type": "code",
   "execution_count": 20,
   "metadata": {},
   "outputs": [
    {
     "name": "stdout",
     "output_type": "stream",
     "text": [
      "Loading data into NQ1M\n",
      "2024-09-06 15:59:00\n",
      "6899 new rows imported to DB\n",
      "Loading data into NQ5M\n",
      "2024-09-06 15:55:00\n",
      "1380 new rows imported to DB\n",
      "Loading data into NQ30M\n",
      "2024-09-06 15:30:00\n",
      "230 new rows imported to DB\n",
      "Loading data into NQ4H\n",
      "2024-09-06 13:00:00\n",
      "30 new rows imported to DB\n",
      "Loading data into NQ1D\n",
      "2024-09-05 17:00:00\n",
      "5 new rows imported to DB\n",
      "Loading data into ES1M\n",
      "2024-09-06 15:59:00\n",
      "6900 new rows imported to DB\n",
      "Loading data into ES5M\n",
      "2024-09-06 15:55:00\n",
      "1380 new rows imported to DB\n",
      "Loading data into ES30M\n",
      "2024-09-06 15:30:00\n",
      "230 new rows imported to DB\n",
      "Loading data into ES4H\n",
      "2024-09-06 13:00:00\n",
      "30 new rows imported to DB\n",
      "Loading data into ES1D\n",
      "2024-09-05 17:00:00\n",
      "5 new rows imported to DB\n"
     ]
    }
   ],
   "source": [
    "import os\n",
    "datadir = 'stockdata'\n",
    "for file, tablename in merged:\n",
    "    print(f\"Loading data into {tablename}\")\n",
    "    filename = os.path.join(datadir, file)\n",
    "    df = pd.read_csv(filename)\n",
    "    sql_importer(df, tablename)"
   ]
  },
  {
   "cell_type": "code",
   "execution_count": 21,
   "metadata": {},
   "outputs": [
    {
     "data": {
      "text/html": [
       "<div>\n",
       "<style scoped>\n",
       "    .dataframe tbody tr th:only-of-type {\n",
       "        vertical-align: middle;\n",
       "    }\n",
       "\n",
       "    .dataframe tbody tr th {\n",
       "        vertical-align: top;\n",
       "    }\n",
       "\n",
       "    .dataframe thead th {\n",
       "        text-align: right;\n",
       "    }\n",
       "</style>\n",
       "<table border=\"1\" class=\"dataframe\">\n",
       "  <thead>\n",
       "    <tr style=\"text-align: right;\">\n",
       "      <th></th>\n",
       "      <th>index</th>\n",
       "      <th>datetime</th>\n",
       "      <th>symbol</th>\n",
       "      <th>open</th>\n",
       "      <th>high</th>\n",
       "      <th>low</th>\n",
       "      <th>close</th>\n",
       "      <th>volume</th>\n",
       "    </tr>\n",
       "  </thead>\n",
       "  <tbody>\n",
       "    <tr>\n",
       "      <th>0</th>\n",
       "      <td>0</td>\n",
       "      <td>2024-06-02 17:00:00</td>\n",
       "      <td>CME_MINI:NQ1!</td>\n",
       "      <td>18590.25</td>\n",
       "      <td>18598.50</td>\n",
       "      <td>18576.00</td>\n",
       "      <td>18595.25</td>\n",
       "      <td>876.0</td>\n",
       "    </tr>\n",
       "    <tr>\n",
       "      <th>1</th>\n",
       "      <td>1</td>\n",
       "      <td>2024-06-02 17:01:00</td>\n",
       "      <td>CME_MINI:NQ1!</td>\n",
       "      <td>18594.25</td>\n",
       "      <td>18597.00</td>\n",
       "      <td>18587.75</td>\n",
       "      <td>18587.75</td>\n",
       "      <td>350.0</td>\n",
       "    </tr>\n",
       "    <tr>\n",
       "      <th>2</th>\n",
       "      <td>2</td>\n",
       "      <td>2024-06-02 17:02:00</td>\n",
       "      <td>CME_MINI:NQ1!</td>\n",
       "      <td>18588.50</td>\n",
       "      <td>18588.50</td>\n",
       "      <td>18562.25</td>\n",
       "      <td>18564.50</td>\n",
       "      <td>594.0</td>\n",
       "    </tr>\n",
       "    <tr>\n",
       "      <th>3</th>\n",
       "      <td>3</td>\n",
       "      <td>2024-06-02 17:03:00</td>\n",
       "      <td>CME_MINI:NQ1!</td>\n",
       "      <td>18563.75</td>\n",
       "      <td>18567.50</td>\n",
       "      <td>18557.25</td>\n",
       "      <td>18560.00</td>\n",
       "      <td>573.0</td>\n",
       "    </tr>\n",
       "    <tr>\n",
       "      <th>4</th>\n",
       "      <td>4</td>\n",
       "      <td>2024-06-02 17:04:00</td>\n",
       "      <td>CME_MINI:NQ1!</td>\n",
       "      <td>18560.50</td>\n",
       "      <td>18564.50</td>\n",
       "      <td>18553.75</td>\n",
       "      <td>18553.75</td>\n",
       "      <td>209.0</td>\n",
       "    </tr>\n",
       "    <tr>\n",
       "      <th>...</th>\n",
       "      <td>...</td>\n",
       "      <td>...</td>\n",
       "      <td>...</td>\n",
       "      <td>...</td>\n",
       "      <td>...</td>\n",
       "      <td>...</td>\n",
       "      <td>...</td>\n",
       "      <td>...</td>\n",
       "    </tr>\n",
       "    <tr>\n",
       "      <th>89941</th>\n",
       "      <td>15075</td>\n",
       "      <td>2024-09-13 15:55:00</td>\n",
       "      <td>CME_MINI:ES1!</td>\n",
       "      <td>5627.00</td>\n",
       "      <td>5627.25</td>\n",
       "      <td>5626.25</td>\n",
       "      <td>5626.25</td>\n",
       "      <td>247.0</td>\n",
       "    </tr>\n",
       "    <tr>\n",
       "      <th>89942</th>\n",
       "      <td>15076</td>\n",
       "      <td>2024-09-13 15:56:00</td>\n",
       "      <td>CME_MINI:ES1!</td>\n",
       "      <td>5626.25</td>\n",
       "      <td>5626.75</td>\n",
       "      <td>5626.25</td>\n",
       "      <td>5626.50</td>\n",
       "      <td>79.0</td>\n",
       "    </tr>\n",
       "    <tr>\n",
       "      <th>89943</th>\n",
       "      <td>15077</td>\n",
       "      <td>2024-09-13 15:57:00</td>\n",
       "      <td>CME_MINI:ES1!</td>\n",
       "      <td>5626.75</td>\n",
       "      <td>5627.00</td>\n",
       "      <td>5626.75</td>\n",
       "      <td>5626.75</td>\n",
       "      <td>62.0</td>\n",
       "    </tr>\n",
       "    <tr>\n",
       "      <th>89944</th>\n",
       "      <td>15078</td>\n",
       "      <td>2024-09-13 15:58:00</td>\n",
       "      <td>CME_MINI:ES1!</td>\n",
       "      <td>5627.00</td>\n",
       "      <td>5627.50</td>\n",
       "      <td>5626.75</td>\n",
       "      <td>5627.25</td>\n",
       "      <td>279.0</td>\n",
       "    </tr>\n",
       "    <tr>\n",
       "      <th>89945</th>\n",
       "      <td>15079</td>\n",
       "      <td>2024-09-13 15:59:00</td>\n",
       "      <td>CME_MINI:ES1!</td>\n",
       "      <td>5627.25</td>\n",
       "      <td>5627.50</td>\n",
       "      <td>5626.25</td>\n",
       "      <td>5626.75</td>\n",
       "      <td>300.0</td>\n",
       "    </tr>\n",
       "  </tbody>\n",
       "</table>\n",
       "<p>89946 rows × 8 columns</p>\n",
       "</div>"
      ],
      "text/plain": [
       "       index             datetime         symbol      open      high  \\\n",
       "0          0  2024-06-02 17:00:00  CME_MINI:NQ1!  18590.25  18598.50   \n",
       "1          1  2024-06-02 17:01:00  CME_MINI:NQ1!  18594.25  18597.00   \n",
       "2          2  2024-06-02 17:02:00  CME_MINI:NQ1!  18588.50  18588.50   \n",
       "3          3  2024-06-02 17:03:00  CME_MINI:NQ1!  18563.75  18567.50   \n",
       "4          4  2024-06-02 17:04:00  CME_MINI:NQ1!  18560.50  18564.50   \n",
       "...      ...                  ...            ...       ...       ...   \n",
       "89941  15075  2024-09-13 15:55:00  CME_MINI:ES1!   5627.00   5627.25   \n",
       "89942  15076  2024-09-13 15:56:00  CME_MINI:ES1!   5626.25   5626.75   \n",
       "89943  15077  2024-09-13 15:57:00  CME_MINI:ES1!   5626.75   5627.00   \n",
       "89944  15078  2024-09-13 15:58:00  CME_MINI:ES1!   5627.00   5627.50   \n",
       "89945  15079  2024-09-13 15:59:00  CME_MINI:ES1!   5627.25   5627.50   \n",
       "\n",
       "            low     close  volume  \n",
       "0      18576.00  18595.25   876.0  \n",
       "1      18587.75  18587.75   350.0  \n",
       "2      18562.25  18564.50   594.0  \n",
       "3      18557.25  18560.00   573.0  \n",
       "4      18553.75  18553.75   209.0  \n",
       "...         ...       ...     ...  \n",
       "89941   5626.25   5626.25   247.0  \n",
       "89942   5626.25   5626.50    79.0  \n",
       "89943   5626.75   5626.75    62.0  \n",
       "89944   5626.75   5627.25   279.0  \n",
       "89945   5626.25   5626.75   300.0  \n",
       "\n",
       "[89946 rows x 8 columns]"
      ]
     },
     "execution_count": 21,
     "metadata": {},
     "output_type": "execute_result"
    }
   ],
   "source": [
    "\n",
    "# read from database and test\n",
    "pd.read_sql('ES1M', engine)"
   ]
  }
 ],
 "metadata": {
  "kernelspec": {
   "display_name": "env",
   "language": "python",
   "name": "python3"
  },
  "language_info": {
   "codemirror_mode": {
    "name": "ipython",
    "version": 3
   },
   "file_extension": ".py",
   "mimetype": "text/x-python",
   "name": "python",
   "nbconvert_exporter": "python",
   "pygments_lexer": "ipython3",
   "version": "3.10.9"
  }
 },
 "nbformat": 4,
 "nbformat_minor": 2
}
