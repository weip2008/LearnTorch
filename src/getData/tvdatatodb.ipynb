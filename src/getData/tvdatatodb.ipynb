{
 "cells": [
  {
   "cell_type": "code",
   "execution_count": 3,
   "metadata": {},
   "outputs": [
    {
     "name": "stdout",
     "output_type": "stream",
     "text": [
      "('NQ1!', <Interval.in_1_minute: '1'>, 'NQ1M')\n",
      "('NQ1!', <Interval.in_5_minute: '5'>, 'NQ5M')\n",
      "('NQ1!', <Interval.in_30_minute: '30'>, 'NQ30M')\n",
      "('NQ1!', <Interval.in_4_hour: '4H'>, 'NQ4H')\n",
      "('NQ1!', <Interval.in_daily: '1D'>, 'NQ1D')\n",
      "('ES1!', <Interval.in_1_minute: '1'>, 'ES1M')\n",
      "('ES1!', <Interval.in_5_minute: '5'>, 'ES5M')\n",
      "('ES1!', <Interval.in_30_minute: '30'>, 'ES30M')\n",
      "('ES1!', <Interval.in_4_hour: '4H'>, 'ES4H')\n",
      "('ES1!', <Interval.in_daily: '1D'>, 'ES1D')\n"
     ]
    }
   ],
   "source": [
    "from tvDatafeed import TvDatafeed, Interval\n",
    "# Input data\n",
    "futures = [\"NQ\", \"ES\"]\n",
    "periods = [\n",
    "    {Interval.in_1_minute: \"1M\"},\n",
    "    {Interval.in_5_minute: \"5M\"},\n",
    "    {Interval.in_30_minute: \"30M\"},\n",
    "    {Interval.in_4_hour: \"4H\"},\n",
    "    {Interval.in_daily: \"1D\"}\n",
    "]\n",
    "\n",
    "# Create the desired output items list\n",
    "items = []\n",
    "for future in futures:\n",
    "    for period_dict in periods:\n",
    "        for interval, suffix in period_dict.items():\n",
    "            # Construct the required format for each future-period combination\n",
    "            items.append((f\"{future}1!\", interval, f\"{future}{suffix}\"))\n",
    "\n",
    "# Print the items\n",
    "for item in items:\n",
    "    print(item)\n"
   ]
  },
  {
   "cell_type": "code",
   "execution_count": 4,
   "metadata": {},
   "outputs": [
    {
     "name": "stderr",
     "output_type": "stream",
     "text": [
      "you are using nologin method, data you access may be limited\n"
     ]
    }
   ],
   "source": [
    "from tvDatafeed import TvDatafeed, Interval\n",
    "# without user name and password\n",
    "tv = TvDatafeed()\n",
    "\n",
    "# df = tv.get_hist(symbol='NQ1!', exchange='CME_MINI', interval=Interval.in_1_minute, n_bars=100000)\n",
    "# df = df.reset_index()\n",
    "# print(df)"
   ]
  },
  {
   "cell_type": "code",
   "execution_count": 5,
   "metadata": {},
   "outputs": [],
   "source": [
    "import pandas as pd\n",
    "from sqlalchemy import create_engine, inspect"
   ]
  },
  {
   "cell_type": "code",
   "execution_count": 6,
   "metadata": {},
   "outputs": [],
   "source": [
    "engine = create_engine('sqlite:///data/ESNQ_DB.db')"
   ]
  },
  {
   "cell_type": "code",
   "execution_count": 7,
   "metadata": {},
   "outputs": [],
   "source": [
    "def sql_importer (df, table_name):\n",
    "    # Use inspector to check if the table exists\n",
    "    inspector = inspect(engine)\n",
    "    if not inspector.has_table(table_name):\n",
    "        df.to_sql(table_name, engine, if_exists='append')\n",
    "        print (f'New table created for {table_name} with {str(len(df))} rows')\n",
    "    else:\n",
    "        max_date = pd.read_sql(f'SELECT MAX(datetime) FROM {table_name}', engine).values[0][0]\n",
    "        print(max_date)\n",
    "        df = df[df.datetime > max_date]\n",
    "        df.to_sql(table_name, engine, if_exists='append')\n",
    "        print(str(len(df)) + ' new rows imported to DB ' + f'{table_name}')"
   ]
  },
  {
   "cell_type": "code",
   "execution_count": 8,
   "metadata": {},
   "outputs": [
    {
     "name": "stdout",
     "output_type": "stream",
     "text": [
      "2024-10-04 15:59:00\n",
      "2695 new rows imported to DB NQ1M\n",
      "2024-10-04 15:55:00\n",
      "539 new rows imported to DB NQ5M\n",
      "2024-10-04 15:30:00\n",
      "90 new rows imported to DB NQ30M\n",
      "2024-10-04 13:00:00\n",
      "12 new rows imported to DB NQ4H\n",
      "2024-10-03 17:00:00\n",
      "2 new rows imported to DB NQ1D\n",
      "2024-10-04 15:59:00\n",
      "2695 new rows imported to DB ES1M\n",
      "2024-10-04 15:55:00\n",
      "539 new rows imported to DB ES5M\n",
      "2024-10-04 15:30:00\n",
      "90 new rows imported to DB ES30M\n",
      "2024-10-04 13:00:00\n",
      "12 new rows imported to DB ES4H\n",
      "2024-10-03 17:00:00\n",
      "2 new rows imported to DB ES1D\n"
     ]
    }
   ],
   "source": [
    "for item in items:\n",
    "    df = tv.get_hist(symbol=item[0], exchange='CME_MINI', interval=item[1], n_bars=100000)\n",
    "    df = df.reset_index()\n",
    "    sql_importer(df, item[2])"
   ]
  }
 ],
 "metadata": {
  "kernelspec": {
   "display_name": "env",
   "language": "python",
   "name": "python3"
  },
  "language_info": {
   "codemirror_mode": {
    "name": "ipython",
    "version": 3
   },
   "file_extension": ".py",
   "mimetype": "text/x-python",
   "name": "python",
   "nbconvert_exporter": "python",
   "pygments_lexer": "ipython3",
   "version": "3.10.9"
  }
 },
 "nbformat": 4,
 "nbformat_minor": 2
}
