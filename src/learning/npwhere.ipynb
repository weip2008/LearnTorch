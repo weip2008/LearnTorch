{
 "cells": [
  {
   "cell_type": "markdown",
   "metadata": {
    "vscode": {
     "languageId": "plaintext"
    }
   },
   "source": [
    "## Q: pls explain np.where() function\n",
    "## A:\n",
    "The `np.where()` function in NumPy is a versatile tool for conditional operations on arrays. It allows you to construct a new array based on the evaluation of a condition applied element-wise to an existing array or arrays. The function syntax is:\n",
    "\n",
    "```python\n",
    "np.where(condition, x, y)\n",
    "```\n",
    "\n",
    "### Parameters\n",
    "\n",
    "1. **`condition`**: An array-like object or condition that returns boolean values (`True` or `False`). This can be a comparison operation or a boolean array.\n",
    "\n",
    "2. **`x`**: The values to place in the output array where the condition is `True`.\n",
    "\n",
    "3. **`y`**: The values to place in the output array where the condition is `False`.\n",
    "\n",
    "### Returns\n",
    "\n",
    "- An array of elements from `x` where the `condition` is `True`, and elements from `y` where the `condition` is `False`.\n",
    "\n",
    "### Example 1: Basic Usage\n",
    "\n",
    "Let's consider a simple example:\n",
    "\n",
    "```python\n"
   ]
  },
  {
   "cell_type": "code",
   "execution_count": 1,
   "metadata": {},
   "outputs": [
    {
     "name": "stdout",
     "output_type": "stream",
     "text": [
      "['Not Greater' 'Not Greater' 'Not Greater' 'Greater' 'Greater']\n"
     ]
    }
   ],
   "source": [
    "import numpy as np\n",
    "\n",
    "# Create an array\n",
    "arr = np.array([1, 2, 3, 4, 5])\n",
    "\n",
    "# Use np.where to find elements greater than 3\n",
    "result = np.where(arr > 3, 'Greater', 'Not Greater')\n",
    "print(result)\n"
   ]
  },
  {
   "cell_type": "markdown",
   "metadata": {},
   "source": [
    "In this example:\n",
    "- The condition is `arr > 3`, which checks whether each element in the array is greater than 3.\n",
    "- If the condition is `True`, the corresponding element in `result` will be `'Greater'`.\n",
    "- If the condition is `False`, the corresponding element in `result` will be `'Not Greater'`.\n",
    "\n",
    "### Example 2: Using with Multiple Arrays\n",
    "\n",
    "`np.where()` can also be used with multiple arrays to select elements conditionally."
   ]
  },
  {
   "cell_type": "code",
   "execution_count": 2,
   "metadata": {},
   "outputs": [
    {
     "name": "stdout",
     "output_type": "stream",
     "text": [
      "[ 10  20 300 400 500]\n"
     ]
    }
   ],
   "source": [
    "\n",
    "import numpy as np\n",
    "\n",
    "a = np.array([1, 2, 3, 4, 5])\n",
    "b = np.array([10, 20, 30, 40, 50])\n",
    "c = np.array([100, 200, 300, 400, 500])\n",
    "\n",
    "# Choose elements from 'b' if elements in 'a' are less than 3, else from 'c'\n",
    "result = np.where(a < 3, b, c)\n",
    "print(result)\n"
   ]
  },
  {
   "cell_type": "markdown",
   "metadata": {},
   "source": [
    "\n",
    "In this example:\n",
    "- The condition `a < 3` checks whether elements in `a` are less than 3.\n",
    "- The function selects elements from `b` where the condition is `True` and from `c` where the condition is `False`.\n"
   ]
  },
  {
   "cell_type": "markdown",
   "metadata": {},
   "source": [
    "\n",
    "### Example 3: Conditional DataFrame Column\n",
    "\n",
    "`np.where()` is often used with pandas to create new columns conditionally."
   ]
  },
  {
   "cell_type": "code",
   "execution_count": 9,
   "metadata": {},
   "outputs": [
    {
     "name": "stdout",
     "output_type": "stream",
     "text": [
      "   Temperature Weather Comfortable\n",
      "0           22   Sunny         Yes\n",
      "1           35     Hot          No\n",
      "2           15    Cool         Yes\n",
      "3           27    Warm          No\n",
      "4           30     Hot          No\n"
     ]
    }
   ],
   "source": [
    "import pandas as pd\n",
    "import numpy as np\n",
    "\n",
    "# Sample DataFrame\n",
    "data = {\n",
    "    'Temperature': [22, 35, 15, 27, 30],\n",
    "    'Weather': ['Sunny', 'Hot', 'Cool', 'Warm', 'Hot']\n",
    "}\n",
    "df = pd.DataFrame(data)\n",
    "\n",
    "# Add a new column 'Comfortable' based on temperature\n",
    "df['Comfortable'] = np.where(df['Temperature'] > 25, 'No', 'Yes')\n",
    "print(df)"
   ]
  },
  {
   "cell_type": "markdown",
   "metadata": {},
   "source": [
    "\n",
    "\n",
    "In this example, a new column `Comfortable` is created based on the condition `df['Temperature'] > 25`. If the temperature is greater than 25, it assigns 'No'; otherwise, 'Yes'.\n",
    "\n",
    "### Key Points\n",
    "\n",
    "- **Vectorization**: `np.where()` allows vectorized operations, making it much faster and more efficient than using loops for element-wise operations.\n",
    "- **Versatility**: It can be used with scalar values, arrays, or DataFrames, making it extremely versatile for a wide range of conditional operations.\n",
    "- **Output Type**: The output type of `np.where()` matches the input type of `x` and `y`. If they are arrays, the output will be an array; if they are scalars, the output will be scalar.\n",
    "\n",
    "In summary, `np.where()` is a powerful function for applying conditional logic to arrays in a concise and efficient manner.\n"
   ]
  }
 ],
 "metadata": {
  "kernelspec": {
   "display_name": "env",
   "language": "python",
   "name": "python3"
  },
  "language_info": {
   "codemirror_mode": {
    "name": "ipython",
    "version": 3
   },
   "file_extension": ".py",
   "mimetype": "text/x-python",
   "name": "python",
   "nbconvert_exporter": "python",
   "pygments_lexer": "ipython3",
   "version": "3.10.9"
  }
 },
 "nbformat": 4,
 "nbformat_minor": 2
}
